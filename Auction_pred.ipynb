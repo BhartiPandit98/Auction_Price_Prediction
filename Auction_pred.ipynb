{
 "cells": [
  {
   "cell_type": "code",
   "execution_count": 227,
   "metadata": {},
   "outputs": [],
   "source": [
    "import numpy as np\n",
    "import pandas as pd\n",
    "import matplotlib.pyplot as plt\n",
    "import seaborn as sns\n",
    "from sklearn.model_selection import train_test_split\n",
    "import statsmodels.api as sm\n",
    "from sklearn.linear_model import LinearRegression, Lasso\n",
    "from sklearn.model_selection import cross_val_score,GridSearchCV\n",
    "from sklearn.ensemble import RandomForestRegressor\n",
    "from sklearn.metrics import mean_absolute_error"
   ]
  },
  {
   "cell_type": "code",
   "execution_count": 381,
   "metadata": {},
   "outputs": [],
   "source": [
    "auction_data = pd.read_csv(\"https://raw.githubusercontent.com/dphi-official/Datasets/master/auction_data/train_set_label.csv\" )"
   ]
  },
  {
   "cell_type": "code",
   "execution_count": 382,
   "metadata": {},
   "outputs": [
    {
     "data": {
      "text/html": [
       "<div>\n",
       "<style scoped>\n",
       "    .dataframe tbody tr th:only-of-type {\n",
       "        vertical-align: middle;\n",
       "    }\n",
       "\n",
       "    .dataframe tbody tr th {\n",
       "        vertical-align: top;\n",
       "    }\n",
       "\n",
       "    .dataframe thead th {\n",
       "        text-align: right;\n",
       "    }\n",
       "</style>\n",
       "<table border=\"1\" class=\"dataframe\">\n",
       "  <thead>\n",
       "    <tr style=\"text-align: right;\">\n",
       "      <th></th>\n",
       "      <th>auctionid</th>\n",
       "      <th>bid</th>\n",
       "      <th>bidtime</th>\n",
       "      <th>bidder</th>\n",
       "      <th>bidderrate</th>\n",
       "      <th>openbid</th>\n",
       "      <th>price</th>\n",
       "    </tr>\n",
       "  </thead>\n",
       "  <tbody>\n",
       "    <tr>\n",
       "      <th>0</th>\n",
       "      <td>1644594033</td>\n",
       "      <td>493.00</td>\n",
       "      <td>6.999456</td>\n",
       "      <td>boraborabora</td>\n",
       "      <td>67</td>\n",
       "      <td>9.99</td>\n",
       "      <td>498.00</td>\n",
       "    </tr>\n",
       "    <tr>\n",
       "      <th>1</th>\n",
       "      <td>1639309309</td>\n",
       "      <td>30.00</td>\n",
       "      <td>1.669618</td>\n",
       "      <td>aclbjc</td>\n",
       "      <td>0</td>\n",
       "      <td>1.00</td>\n",
       "      <td>374.99</td>\n",
       "    </tr>\n",
       "    <tr>\n",
       "      <th>2</th>\n",
       "      <td>1644109746</td>\n",
       "      <td>3103.00</td>\n",
       "      <td>6.917986</td>\n",
       "      <td>nelsoncpm</td>\n",
       "      <td>7</td>\n",
       "      <td>1.00</td>\n",
       "      <td>3103.00</td>\n",
       "    </tr>\n",
       "    <tr>\n",
       "      <th>3</th>\n",
       "      <td>1649858595</td>\n",
       "      <td>175.00</td>\n",
       "      <td>3.107014</td>\n",
       "      <td>pialu9</td>\n",
       "      <td>4</td>\n",
       "      <td>7.99</td>\n",
       "      <td>202.50</td>\n",
       "    </tr>\n",
       "    <tr>\n",
       "      <th>4</th>\n",
       "      <td>1647846714</td>\n",
       "      <td>226.00</td>\n",
       "      <td>2.721319</td>\n",
       "      <td>geemeetee@aol.com</td>\n",
       "      <td>17</td>\n",
       "      <td>1.00</td>\n",
       "      <td>905.45</td>\n",
       "    </tr>\n",
       "    <tr>\n",
       "      <th>5</th>\n",
       "      <td>1644760539</td>\n",
       "      <td>50.00</td>\n",
       "      <td>2.481134</td>\n",
       "      <td>darbarskip</td>\n",
       "      <td>1</td>\n",
       "      <td>1.00</td>\n",
       "      <td>327.23</td>\n",
       "    </tr>\n",
       "    <tr>\n",
       "      <th>6</th>\n",
       "      <td>1644739924</td>\n",
       "      <td>455.00</td>\n",
       "      <td>6.591678</td>\n",
       "      <td>dollfacepumpkin</td>\n",
       "      <td>10</td>\n",
       "      <td>1.00</td>\n",
       "      <td>455.00</td>\n",
       "    </tr>\n",
       "    <tr>\n",
       "      <th>7</th>\n",
       "      <td>1648041601</td>\n",
       "      <td>251.50</td>\n",
       "      <td>5.727454</td>\n",
       "      <td>bogdanbost</td>\n",
       "      <td>1</td>\n",
       "      <td>1.00</td>\n",
       "      <td>335.00</td>\n",
       "    </tr>\n",
       "    <tr>\n",
       "      <th>8</th>\n",
       "      <td>1644357387</td>\n",
       "      <td>50.00</td>\n",
       "      <td>0.328600</td>\n",
       "      <td>bdonahue9@aol.com</td>\n",
       "      <td>22</td>\n",
       "      <td>1.00</td>\n",
       "      <td>640.00</td>\n",
       "    </tr>\n",
       "    <tr>\n",
       "      <th>9</th>\n",
       "      <td>1644077820</td>\n",
       "      <td>200.00</td>\n",
       "      <td>0.322894</td>\n",
       "      <td>msvail</td>\n",
       "      <td>0</td>\n",
       "      <td>1.00</td>\n",
       "      <td>374.00</td>\n",
       "    </tr>\n",
       "    <tr>\n",
       "      <th>10</th>\n",
       "      <td>1647320738</td>\n",
       "      <td>450.00</td>\n",
       "      <td>5.021019</td>\n",
       "      <td>jepattiii</td>\n",
       "      <td>23</td>\n",
       "      <td>200.00</td>\n",
       "      <td>452.87</td>\n",
       "    </tr>\n",
       "    <tr>\n",
       "      <th>11</th>\n",
       "      <td>1644343468</td>\n",
       "      <td>3.50</td>\n",
       "      <td>0.191887</td>\n",
       "      <td>turbomausi</td>\n",
       "      <td>65</td>\n",
       "      <td>1.00</td>\n",
       "      <td>1038.99</td>\n",
       "    </tr>\n",
       "    <tr>\n",
       "      <th>12</th>\n",
       "      <td>1644252877</td>\n",
       "      <td>700.00</td>\n",
       "      <td>1.812604</td>\n",
       "      <td>trunkbath</td>\n",
       "      <td>0</td>\n",
       "      <td>500.00</td>\n",
       "      <td>1524.99</td>\n",
       "    </tr>\n",
       "    <tr>\n",
       "      <th>13</th>\n",
       "      <td>1642561397</td>\n",
       "      <td>550.00</td>\n",
       "      <td>2.317083</td>\n",
       "      <td>whalen@northlink.com</td>\n",
       "      <td>4</td>\n",
       "      <td>101.01</td>\n",
       "      <td>1825.00</td>\n",
       "    </tr>\n",
       "    <tr>\n",
       "      <th>14</th>\n",
       "      <td>1644724061</td>\n",
       "      <td>181.00</td>\n",
       "      <td>2.975451</td>\n",
       "      <td>pdhsu1</td>\n",
       "      <td>24</td>\n",
       "      <td>155.00</td>\n",
       "      <td>305.00</td>\n",
       "    </tr>\n",
       "    <tr>\n",
       "      <th>15</th>\n",
       "      <td>1638917885</td>\n",
       "      <td>100.00</td>\n",
       "      <td>2.998171</td>\n",
       "      <td>dre_313@yahoo.com</td>\n",
       "      <td>0</td>\n",
       "      <td>25.00</td>\n",
       "      <td>227.50</td>\n",
       "    </tr>\n",
       "    <tr>\n",
       "      <th>16</th>\n",
       "      <td>1641880908</td>\n",
       "      <td>402.00</td>\n",
       "      <td>6.999757</td>\n",
       "      <td>pascal1666</td>\n",
       "      <td>2</td>\n",
       "      <td>175.00</td>\n",
       "      <td>402.00</td>\n",
       "    </tr>\n",
       "    <tr>\n",
       "      <th>17</th>\n",
       "      <td>1639333116</td>\n",
       "      <td>475.50</td>\n",
       "      <td>6.969769</td>\n",
       "      <td>apfb@excite.com</td>\n",
       "      <td>36</td>\n",
       "      <td>155.00</td>\n",
       "      <td>501.62</td>\n",
       "    </tr>\n",
       "    <tr>\n",
       "      <th>18</th>\n",
       "      <td>1647844282</td>\n",
       "      <td>500.00</td>\n",
       "      <td>1.202176</td>\n",
       "      <td>cnelis</td>\n",
       "      <td>19</td>\n",
       "      <td>1.00</td>\n",
       "      <td>1035.00</td>\n",
       "    </tr>\n",
       "    <tr>\n",
       "      <th>19</th>\n",
       "      <td>1642005995</td>\n",
       "      <td>250.00</td>\n",
       "      <td>0.771655</td>\n",
       "      <td>b2hats</td>\n",
       "      <td>26</td>\n",
       "      <td>99.00</td>\n",
       "      <td>623.26</td>\n",
       "    </tr>\n",
       "    <tr>\n",
       "      <th>20</th>\n",
       "      <td>1642514892</td>\n",
       "      <td>500.00</td>\n",
       "      <td>0.618866</td>\n",
       "      <td>mkect10</td>\n",
       "      <td>0</td>\n",
       "      <td>500.00</td>\n",
       "      <td>1025.00</td>\n",
       "    </tr>\n",
       "    <tr>\n",
       "      <th>21</th>\n",
       "      <td>1644049270</td>\n",
       "      <td>750.00</td>\n",
       "      <td>2.256644</td>\n",
       "      <td>adammurry</td>\n",
       "      <td>5</td>\n",
       "      <td>0.01</td>\n",
       "      <td>1600.00</td>\n",
       "    </tr>\n",
       "    <tr>\n",
       "      <th>22</th>\n",
       "      <td>1642005995</td>\n",
       "      <td>300.00</td>\n",
       "      <td>0.771944</td>\n",
       "      <td>b2hats</td>\n",
       "      <td>26</td>\n",
       "      <td>99.00</td>\n",
       "      <td>623.26</td>\n",
       "    </tr>\n",
       "    <tr>\n",
       "      <th>23</th>\n",
       "      <td>1649848613</td>\n",
       "      <td>1002.00</td>\n",
       "      <td>4.277454</td>\n",
       "      <td>njbirdmom</td>\n",
       "      <td>38</td>\n",
       "      <td>100.00</td>\n",
       "      <td>1100.00</td>\n",
       "    </tr>\n",
       "    <tr>\n",
       "      <th>24</th>\n",
       "      <td>1643212361</td>\n",
       "      <td>2200.00</td>\n",
       "      <td>6.859630</td>\n",
       "      <td>azamora610@cs.com</td>\n",
       "      <td>7</td>\n",
       "      <td>95.00</td>\n",
       "      <td>2600.00</td>\n",
       "    </tr>\n",
       "    <tr>\n",
       "      <th>25</th>\n",
       "      <td>1644594033</td>\n",
       "      <td>498.00</td>\n",
       "      <td>6.797303</td>\n",
       "      <td>hora01</td>\n",
       "      <td>2</td>\n",
       "      <td>9.99</td>\n",
       "      <td>498.00</td>\n",
       "    </tr>\n",
       "    <tr>\n",
       "      <th>26</th>\n",
       "      <td>1649757877</td>\n",
       "      <td>500.00</td>\n",
       "      <td>1.047801</td>\n",
       "      <td>pereluzi00</td>\n",
       "      <td>-4</td>\n",
       "      <td>100.00</td>\n",
       "      <td>760.00</td>\n",
       "    </tr>\n",
       "    <tr>\n",
       "      <th>27</th>\n",
       "      <td>1640653873</td>\n",
       "      <td>185.00</td>\n",
       "      <td>6.766910</td>\n",
       "      <td>jimboysan</td>\n",
       "      <td>4</td>\n",
       "      <td>50.00</td>\n",
       "      <td>202.50</td>\n",
       "    </tr>\n",
       "    <tr>\n",
       "      <th>28</th>\n",
       "      <td>1641722275</td>\n",
       "      <td>52.00</td>\n",
       "      <td>6.389699</td>\n",
       "      <td>nana-tyler</td>\n",
       "      <td>1</td>\n",
       "      <td>9.99</td>\n",
       "      <td>155.00</td>\n",
       "    </tr>\n",
       "    <tr>\n",
       "      <th>29</th>\n",
       "      <td>1638917885</td>\n",
       "      <td>129.51</td>\n",
       "      <td>6.998646</td>\n",
       "      <td>mapguy</td>\n",
       "      <td>43</td>\n",
       "      <td>25.00</td>\n",
       "      <td>227.50</td>\n",
       "    </tr>\n",
       "    <tr>\n",
       "      <th>30</th>\n",
       "      <td>1649944294</td>\n",
       "      <td>105.00</td>\n",
       "      <td>2.303009</td>\n",
       "      <td>angelaleu</td>\n",
       "      <td>1</td>\n",
       "      <td>1.00</td>\n",
       "      <td>1485.00</td>\n",
       "    </tr>\n",
       "    <tr>\n",
       "      <th>31</th>\n",
       "      <td>1639929579</td>\n",
       "      <td>975.00</td>\n",
       "      <td>3.421250</td>\n",
       "      <td>mkb98</td>\n",
       "      <td>9</td>\n",
       "      <td>1.00</td>\n",
       "      <td>1525.00</td>\n",
       "    </tr>\n",
       "    <tr>\n",
       "      <th>32</th>\n",
       "      <td>1639333116</td>\n",
       "      <td>501.62</td>\n",
       "      <td>6.998588</td>\n",
       "      <td>renob2</td>\n",
       "      <td>25</td>\n",
       "      <td>155.00</td>\n",
       "      <td>501.62</td>\n",
       "    </tr>\n",
       "    <tr>\n",
       "      <th>33</th>\n",
       "      <td>1639226378</td>\n",
       "      <td>800.00</td>\n",
       "      <td>1.464167</td>\n",
       "      <td>sigsrus</td>\n",
       "      <td>9</td>\n",
       "      <td>495.00</td>\n",
       "      <td>1725.00</td>\n",
       "    </tr>\n",
       "    <tr>\n",
       "      <th>34</th>\n",
       "      <td>1648252368</td>\n",
       "      <td>420.00</td>\n",
       "      <td>5.172928</td>\n",
       "      <td>bogdanbost</td>\n",
       "      <td>1</td>\n",
       "      <td>1.00</td>\n",
       "      <td>680.00</td>\n",
       "    </tr>\n",
       "    <tr>\n",
       "      <th>35</th>\n",
       "      <td>1649718196</td>\n",
       "      <td>20.00</td>\n",
       "      <td>1.742581</td>\n",
       "      <td>regman324</td>\n",
       "      <td>0</td>\n",
       "      <td>1.00</td>\n",
       "      <td>1799.00</td>\n",
       "    </tr>\n",
       "    <tr>\n",
       "      <th>36</th>\n",
       "      <td>1641629836</td>\n",
       "      <td>510.00</td>\n",
       "      <td>6.707512</td>\n",
       "      <td>peterfung@aol.com</td>\n",
       "      <td>129</td>\n",
       "      <td>250.00</td>\n",
       "      <td>550.00</td>\n",
       "    </tr>\n",
       "    <tr>\n",
       "      <th>37</th>\n",
       "      <td>1649848613</td>\n",
       "      <td>110.00</td>\n",
       "      <td>0.941632</td>\n",
       "      <td>honeycakesmoney</td>\n",
       "      <td>0</td>\n",
       "      <td>100.00</td>\n",
       "      <td>1100.00</td>\n",
       "    </tr>\n",
       "    <tr>\n",
       "      <th>38</th>\n",
       "      <td>1649513497</td>\n",
       "      <td>50.00</td>\n",
       "      <td>0.695544</td>\n",
       "      <td>biggeo@hotmail.com</td>\n",
       "      <td>26</td>\n",
       "      <td>1.00</td>\n",
       "      <td>1625.00</td>\n",
       "    </tr>\n",
       "    <tr>\n",
       "      <th>39</th>\n",
       "      <td>1643212361</td>\n",
       "      <td>2250.00</td>\n",
       "      <td>6.970000</td>\n",
       "      <td>azamora610@cs.com</td>\n",
       "      <td>7</td>\n",
       "      <td>95.00</td>\n",
       "      <td>2600.00</td>\n",
       "    </tr>\n",
       "    <tr>\n",
       "      <th>40</th>\n",
       "      <td>1640936328</td>\n",
       "      <td>290.00</td>\n",
       "      <td>6.935856</td>\n",
       "      <td>happyrova</td>\n",
       "      <td>0</td>\n",
       "      <td>1.00</td>\n",
       "      <td>317.00</td>\n",
       "    </tr>\n",
       "    <tr>\n",
       "      <th>41</th>\n",
       "      <td>1648193761</td>\n",
       "      <td>119.99</td>\n",
       "      <td>6.122257</td>\n",
       "      <td>delux1cs</td>\n",
       "      <td>38</td>\n",
       "      <td>75.00</td>\n",
       "      <td>179.50</td>\n",
       "    </tr>\n",
       "    <tr>\n",
       "      <th>42</th>\n",
       "      <td>1647320738</td>\n",
       "      <td>375.00</td>\n",
       "      <td>3.758299</td>\n",
       "      <td>pcsoftwareman</td>\n",
       "      <td>3</td>\n",
       "      <td>200.00</td>\n",
       "      <td>452.87</td>\n",
       "    </tr>\n",
       "    <tr>\n",
       "      <th>43</th>\n",
       "      <td>1638844284</td>\n",
       "      <td>500.00</td>\n",
       "      <td>1.252407</td>\n",
       "      <td>njbirdmom</td>\n",
       "      <td>33</td>\n",
       "      <td>200.00</td>\n",
       "      <td>500.00</td>\n",
       "    </tr>\n",
       "    <tr>\n",
       "      <th>44</th>\n",
       "      <td>1639309309</td>\n",
       "      <td>180.00</td>\n",
       "      <td>2.803669</td>\n",
       "      <td>samkap</td>\n",
       "      <td>24</td>\n",
       "      <td>1.00</td>\n",
       "      <td>374.99</td>\n",
       "    </tr>\n",
       "    <tr>\n",
       "      <th>45</th>\n",
       "      <td>1639341131</td>\n",
       "      <td>178.00</td>\n",
       "      <td>6.997361</td>\n",
       "      <td>spartan@mindspring.com</td>\n",
       "      <td>22</td>\n",
       "      <td>4.99</td>\n",
       "      <td>256.51</td>\n",
       "    </tr>\n",
       "    <tr>\n",
       "      <th>46</th>\n",
       "      <td>1644046945</td>\n",
       "      <td>3700.00</td>\n",
       "      <td>6.998657</td>\n",
       "      <td>sirocco@prodigy.net</td>\n",
       "      <td>146</td>\n",
       "      <td>900.00</td>\n",
       "      <td>3800.00</td>\n",
       "    </tr>\n",
       "    <tr>\n",
       "      <th>47</th>\n",
       "      <td>1649858595</td>\n",
       "      <td>200.00</td>\n",
       "      <td>3.069769</td>\n",
       "      <td>bahamawoman</td>\n",
       "      <td>0</td>\n",
       "      <td>7.99</td>\n",
       "      <td>202.50</td>\n",
       "    </tr>\n",
       "    <tr>\n",
       "      <th>48</th>\n",
       "      <td>1644739924</td>\n",
       "      <td>295.00</td>\n",
       "      <td>2.097326</td>\n",
       "      <td>sandseller</td>\n",
       "      <td>4</td>\n",
       "      <td>1.00</td>\n",
       "      <td>455.00</td>\n",
       "    </tr>\n",
       "    <tr>\n",
       "      <th>49</th>\n",
       "      <td>1644357387</td>\n",
       "      <td>160.00</td>\n",
       "      <td>0.652928</td>\n",
       "      <td>otan1810</td>\n",
       "      <td>1</td>\n",
       "      <td>1.00</td>\n",
       "      <td>640.00</td>\n",
       "    </tr>\n",
       "    <tr>\n",
       "      <th>50</th>\n",
       "      <td>1644046945</td>\n",
       "      <td>2000.00</td>\n",
       "      <td>0.490625</td>\n",
       "      <td>sirocco@prodigy.net</td>\n",
       "      <td>146</td>\n",
       "      <td>900.00</td>\n",
       "      <td>3800.00</td>\n",
       "    </tr>\n",
       "    <tr>\n",
       "      <th>51</th>\n",
       "      <td>1642514892</td>\n",
       "      <td>620.00</td>\n",
       "      <td>3.556748</td>\n",
       "      <td>ro50014</td>\n",
       "      <td>0</td>\n",
       "      <td>500.00</td>\n",
       "      <td>1025.00</td>\n",
       "    </tr>\n",
       "    <tr>\n",
       "      <th>52</th>\n",
       "      <td>1641783552</td>\n",
       "      <td>1650.00</td>\n",
       "      <td>0.829028</td>\n",
       "      <td>restdynamics</td>\n",
       "      <td>0</td>\n",
       "      <td>1.00</td>\n",
       "      <td>1925.00</td>\n",
       "    </tr>\n",
       "    <tr>\n",
       "      <th>53</th>\n",
       "      <td>1642875447</td>\n",
       "      <td>811.00</td>\n",
       "      <td>6.998067</td>\n",
       "      <td>pablofennymore</td>\n",
       "      <td>0</td>\n",
       "      <td>650.00</td>\n",
       "      <td>831.00</td>\n",
       "    </tr>\n",
       "    <tr>\n",
       "      <th>54</th>\n",
       "      <td>1644049270</td>\n",
       "      <td>600.00</td>\n",
       "      <td>0.145637</td>\n",
       "      <td>ewe1950</td>\n",
       "      <td>135</td>\n",
       "      <td>0.01</td>\n",
       "      <td>1600.00</td>\n",
       "    </tr>\n",
       "    <tr>\n",
       "      <th>55</th>\n",
       "      <td>1644109746</td>\n",
       "      <td>1200.00</td>\n",
       "      <td>3.394572</td>\n",
       "      <td>iwantu2</td>\n",
       "      <td>0</td>\n",
       "      <td>1.00</td>\n",
       "      <td>3103.00</td>\n",
       "    </tr>\n",
       "    <tr>\n",
       "      <th>56</th>\n",
       "      <td>1644594033</td>\n",
       "      <td>125.99</td>\n",
       "      <td>6.531840</td>\n",
       "      <td>perrymd</td>\n",
       "      <td>28</td>\n",
       "      <td>9.99</td>\n",
       "      <td>498.00</td>\n",
       "    </tr>\n",
       "    <tr>\n",
       "      <th>57</th>\n",
       "      <td>1640936328</td>\n",
       "      <td>185.00</td>\n",
       "      <td>3.589583</td>\n",
       "      <td>saphi7171@amexol.net</td>\n",
       "      <td>7</td>\n",
       "      <td>1.00</td>\n",
       "      <td>317.00</td>\n",
       "    </tr>\n",
       "    <tr>\n",
       "      <th>58</th>\n",
       "      <td>1644724061</td>\n",
       "      <td>268.00</td>\n",
       "      <td>6.926389</td>\n",
       "      <td>dream4321</td>\n",
       "      <td>3</td>\n",
       "      <td>155.00</td>\n",
       "      <td>305.00</td>\n",
       "    </tr>\n",
       "    <tr>\n",
       "      <th>59</th>\n",
       "      <td>1640793161</td>\n",
       "      <td>2008.00</td>\n",
       "      <td>6.912986</td>\n",
       "      <td>lola723</td>\n",
       "      <td>27</td>\n",
       "      <td>1.00</td>\n",
       "      <td>2395.00</td>\n",
       "    </tr>\n",
       "  </tbody>\n",
       "</table>\n",
       "</div>"
      ],
      "text/plain": [
       "     auctionid      bid   bidtime                  bidder  bidderrate  \\\n",
       "0   1644594033   493.00  6.999456            boraborabora          67   \n",
       "1   1639309309    30.00  1.669618                  aclbjc           0   \n",
       "2   1644109746  3103.00  6.917986               nelsoncpm           7   \n",
       "3   1649858595   175.00  3.107014                  pialu9           4   \n",
       "4   1647846714   226.00  2.721319       geemeetee@aol.com          17   \n",
       "5   1644760539    50.00  2.481134              darbarskip           1   \n",
       "6   1644739924   455.00  6.591678         dollfacepumpkin          10   \n",
       "7   1648041601   251.50  5.727454              bogdanbost           1   \n",
       "8   1644357387    50.00  0.328600       bdonahue9@aol.com          22   \n",
       "9   1644077820   200.00  0.322894                  msvail           0   \n",
       "10  1647320738   450.00  5.021019               jepattiii          23   \n",
       "11  1644343468     3.50  0.191887              turbomausi          65   \n",
       "12  1644252877   700.00  1.812604               trunkbath           0   \n",
       "13  1642561397   550.00  2.317083    whalen@northlink.com           4   \n",
       "14  1644724061   181.00  2.975451                  pdhsu1          24   \n",
       "15  1638917885   100.00  2.998171       dre_313@yahoo.com           0   \n",
       "16  1641880908   402.00  6.999757              pascal1666           2   \n",
       "17  1639333116   475.50  6.969769         apfb@excite.com          36   \n",
       "18  1647844282   500.00  1.202176                  cnelis          19   \n",
       "19  1642005995   250.00  0.771655                  b2hats          26   \n",
       "20  1642514892   500.00  0.618866                 mkect10           0   \n",
       "21  1644049270   750.00  2.256644               adammurry           5   \n",
       "22  1642005995   300.00  0.771944                  b2hats          26   \n",
       "23  1649848613  1002.00  4.277454               njbirdmom          38   \n",
       "24  1643212361  2200.00  6.859630       azamora610@cs.com           7   \n",
       "25  1644594033   498.00  6.797303                  hora01           2   \n",
       "26  1649757877   500.00  1.047801              pereluzi00          -4   \n",
       "27  1640653873   185.00  6.766910               jimboysan           4   \n",
       "28  1641722275    52.00  6.389699              nana-tyler           1   \n",
       "29  1638917885   129.51  6.998646                  mapguy          43   \n",
       "30  1649944294   105.00  2.303009               angelaleu           1   \n",
       "31  1639929579   975.00  3.421250                   mkb98           9   \n",
       "32  1639333116   501.62  6.998588                  renob2          25   \n",
       "33  1639226378   800.00  1.464167                 sigsrus           9   \n",
       "34  1648252368   420.00  5.172928              bogdanbost           1   \n",
       "35  1649718196    20.00  1.742581               regman324           0   \n",
       "36  1641629836   510.00  6.707512       peterfung@aol.com         129   \n",
       "37  1649848613   110.00  0.941632         honeycakesmoney           0   \n",
       "38  1649513497    50.00  0.695544      biggeo@hotmail.com          26   \n",
       "39  1643212361  2250.00  6.970000       azamora610@cs.com           7   \n",
       "40  1640936328   290.00  6.935856               happyrova           0   \n",
       "41  1648193761   119.99  6.122257                delux1cs          38   \n",
       "42  1647320738   375.00  3.758299           pcsoftwareman           3   \n",
       "43  1638844284   500.00  1.252407               njbirdmom          33   \n",
       "44  1639309309   180.00  2.803669                  samkap          24   \n",
       "45  1639341131   178.00  6.997361  spartan@mindspring.com          22   \n",
       "46  1644046945  3700.00  6.998657     sirocco@prodigy.net         146   \n",
       "47  1649858595   200.00  3.069769             bahamawoman           0   \n",
       "48  1644739924   295.00  2.097326              sandseller           4   \n",
       "49  1644357387   160.00  0.652928                otan1810           1   \n",
       "50  1644046945  2000.00  0.490625     sirocco@prodigy.net         146   \n",
       "51  1642514892   620.00  3.556748                 ro50014           0   \n",
       "52  1641783552  1650.00  0.829028            restdynamics           0   \n",
       "53  1642875447   811.00  6.998067          pablofennymore           0   \n",
       "54  1644049270   600.00  0.145637                 ewe1950         135   \n",
       "55  1644109746  1200.00  3.394572                 iwantu2           0   \n",
       "56  1644594033   125.99  6.531840                 perrymd          28   \n",
       "57  1640936328   185.00  3.589583    saphi7171@amexol.net           7   \n",
       "58  1644724061   268.00  6.926389               dream4321           3   \n",
       "59  1640793161  2008.00  6.912986                 lola723          27   \n",
       "\n",
       "    openbid    price  \n",
       "0      9.99   498.00  \n",
       "1      1.00   374.99  \n",
       "2      1.00  3103.00  \n",
       "3      7.99   202.50  \n",
       "4      1.00   905.45  \n",
       "5      1.00   327.23  \n",
       "6      1.00   455.00  \n",
       "7      1.00   335.00  \n",
       "8      1.00   640.00  \n",
       "9      1.00   374.00  \n",
       "10   200.00   452.87  \n",
       "11     1.00  1038.99  \n",
       "12   500.00  1524.99  \n",
       "13   101.01  1825.00  \n",
       "14   155.00   305.00  \n",
       "15    25.00   227.50  \n",
       "16   175.00   402.00  \n",
       "17   155.00   501.62  \n",
       "18     1.00  1035.00  \n",
       "19    99.00   623.26  \n",
       "20   500.00  1025.00  \n",
       "21     0.01  1600.00  \n",
       "22    99.00   623.26  \n",
       "23   100.00  1100.00  \n",
       "24    95.00  2600.00  \n",
       "25     9.99   498.00  \n",
       "26   100.00   760.00  \n",
       "27    50.00   202.50  \n",
       "28     9.99   155.00  \n",
       "29    25.00   227.50  \n",
       "30     1.00  1485.00  \n",
       "31     1.00  1525.00  \n",
       "32   155.00   501.62  \n",
       "33   495.00  1725.00  \n",
       "34     1.00   680.00  \n",
       "35     1.00  1799.00  \n",
       "36   250.00   550.00  \n",
       "37   100.00  1100.00  \n",
       "38     1.00  1625.00  \n",
       "39    95.00  2600.00  \n",
       "40     1.00   317.00  \n",
       "41    75.00   179.50  \n",
       "42   200.00   452.87  \n",
       "43   200.00   500.00  \n",
       "44     1.00   374.99  \n",
       "45     4.99   256.51  \n",
       "46   900.00  3800.00  \n",
       "47     7.99   202.50  \n",
       "48     1.00   455.00  \n",
       "49     1.00   640.00  \n",
       "50   900.00  3800.00  \n",
       "51   500.00  1025.00  \n",
       "52     1.00  1925.00  \n",
       "53   650.00   831.00  \n",
       "54     0.01  1600.00  \n",
       "55     1.00  3103.00  \n",
       "56     9.99   498.00  \n",
       "57     1.00   317.00  \n",
       "58   155.00   305.00  \n",
       "59     1.00  2395.00  "
      ]
     },
     "execution_count": 382,
     "metadata": {},
     "output_type": "execute_result"
    }
   ],
   "source": [
    "auction_data.head(60)"
   ]
  },
  {
   "cell_type": "code",
   "execution_count": 383,
   "metadata": {},
   "outputs": [
    {
     "data": {
      "text/plain": [
       "(1213, 7)"
      ]
     },
     "execution_count": 383,
     "metadata": {},
     "output_type": "execute_result"
    }
   ],
   "source": [
    "auction_data.shape"
   ]
  },
  {
   "cell_type": "code",
   "execution_count": 384,
   "metadata": {},
   "outputs": [
    {
     "data": {
      "text/plain": [
       "auctionid     False\n",
       "bid           False\n",
       "bidtime       False\n",
       "bidder        False\n",
       "bidderrate    False\n",
       "openbid       False\n",
       "price         False\n",
       "dtype: bool"
      ]
     },
     "execution_count": 384,
     "metadata": {},
     "output_type": "execute_result"
    }
   ],
   "source": [
    "auction_data.isnull().any()"
   ]
  },
  {
   "cell_type": "code",
   "execution_count": 385,
   "metadata": {},
   "outputs": [
    {
     "data": {
      "text/plain": [
       "auctionid       int64\n",
       "bid           float64\n",
       "bidtime       float64\n",
       "bidder         object\n",
       "bidderrate      int64\n",
       "openbid       float64\n",
       "price         float64\n",
       "dtype: object"
      ]
     },
     "execution_count": 385,
     "metadata": {},
     "output_type": "execute_result"
    }
   ],
   "source": [
    "auction_data.dtypes"
   ]
  },
  {
   "cell_type": "code",
   "execution_count": 386,
   "metadata": {},
   "outputs": [],
   "source": [
    "#x=[]\n",
    "#for a,b in zip(auction_data.bid,auction_data.price):\n",
    "    #if a==b:\n",
    "      #  x.append(1)\n",
    "#    else:\n",
    "   #     x.append(0)"
   ]
  },
  {
   "cell_type": "code",
   "execution_count": 387,
   "metadata": {},
   "outputs": [],
   "source": [
    "# New feature of whether final price equaled proxy bid\n",
    "#auction_data['bid_tr']=pd.DataFrame(x)\n",
    "#auction_data.head()"
   ]
  },
  {
   "cell_type": "code",
   "execution_count": 388,
   "metadata": {},
   "outputs": [],
   "source": [
    "import re\n",
    "y=[]\n",
    "for n in auction_data['bidder']:\n",
    "    try:\n",
    "        result=(re.search('@(.*).',n))\n",
    "        y.append(result.group(1))\n",
    "    except:\n",
    "        continue\n",
    "y=list(set(y))\n",
    "del(y[-6])"
   ]
  },
  {
   "cell_type": "code",
   "execution_count": 389,
   "metadata": {},
   "outputs": [
    {
     "data": {
      "text/plain": [
       "['earthlink.ne',\n",
       " 'verizon.ne',\n",
       " 'aol.co',\n",
       " 'msn.co',\n",
       " 'tampabay.rr.co',\n",
       " 'webtv.co',\n",
       " 'shadow.ne',\n",
       " 'amexol.ne',\n",
       " 'columbia.ed',\n",
       " 'stargate.ne',\n",
       " 'elliman.co',\n",
       " 'scottsbluff.n',\n",
       " 'btconnect.co',\n",
       " 'northlink.co',\n",
       " 'ucnsb.ne',\n",
       " 'purplepicket.co',\n",
       " 'netzero.n',\n",
       " 'prodigy.ne',\n",
       " 'erols.co',\n",
       " 'mediaone.ne',\n",
       " 'wxs.n',\n",
       " 'hotmail.co',\n",
       " 'mac.co',\n",
       " 'cs.co',\n",
       " 'wellsref.co',\n",
       " 'slk.co',\n",
       " 'ti.co',\n",
       " 'home.co',\n",
       " 'easytel.ne',\n",
       " 'excite.co',\n",
       " 'altavis',\n",
       " 'disnow.co',\n",
       " 'calcsea.or',\n",
       " 'mcdata.co',\n",
       " 'bellsouth.ne',\n",
       " 'san.rr.co',\n",
       " 'dechert.co',\n",
       " 'yahoo.co',\n",
       " 'mindspring.co']"
      ]
     },
     "execution_count": 389,
     "metadata": {},
     "output_type": "execute_result"
    }
   ],
   "source": [
    "# List of the websites of the email ids of the bidders\n",
    "y"
   ]
  },
  {
   "cell_type": "code",
   "execution_count": 390,
   "metadata": {},
   "outputs": [
    {
     "data": {
      "text/html": [
       "<div>\n",
       "<style scoped>\n",
       "    .dataframe tbody tr th:only-of-type {\n",
       "        vertical-align: middle;\n",
       "    }\n",
       "\n",
       "    .dataframe tbody tr th {\n",
       "        vertical-align: top;\n",
       "    }\n",
       "\n",
       "    .dataframe thead th {\n",
       "        text-align: right;\n",
       "    }\n",
       "</style>\n",
       "<table border=\"1\" class=\"dataframe\">\n",
       "  <thead>\n",
       "    <tr style=\"text-align: right;\">\n",
       "      <th></th>\n",
       "      <th>auctionid</th>\n",
       "      <th>bid</th>\n",
       "      <th>bidtime</th>\n",
       "      <th>bidder</th>\n",
       "      <th>bidderrate</th>\n",
       "      <th>openbid</th>\n",
       "      <th>price</th>\n",
       "      <th>earthlink.ne</th>\n",
       "      <th>verizon.ne</th>\n",
       "      <th>aol.co</th>\n",
       "      <th>...</th>\n",
       "      <th>excite.co</th>\n",
       "      <th>altavis</th>\n",
       "      <th>disnow.co</th>\n",
       "      <th>calcsea.or</th>\n",
       "      <th>mcdata.co</th>\n",
       "      <th>bellsouth.ne</th>\n",
       "      <th>san.rr.co</th>\n",
       "      <th>dechert.co</th>\n",
       "      <th>yahoo.co</th>\n",
       "      <th>mindspring.co</th>\n",
       "    </tr>\n",
       "  </thead>\n",
       "  <tbody>\n",
       "    <tr>\n",
       "      <th>0</th>\n",
       "      <td>1644594033</td>\n",
       "      <td>493.0</td>\n",
       "      <td>6.999456</td>\n",
       "      <td>boraborabora</td>\n",
       "      <td>67</td>\n",
       "      <td>9.99</td>\n",
       "      <td>498.00</td>\n",
       "      <td>0</td>\n",
       "      <td>0</td>\n",
       "      <td>0</td>\n",
       "      <td>...</td>\n",
       "      <td>0</td>\n",
       "      <td>0</td>\n",
       "      <td>0</td>\n",
       "      <td>0</td>\n",
       "      <td>0</td>\n",
       "      <td>0</td>\n",
       "      <td>0</td>\n",
       "      <td>0</td>\n",
       "      <td>0</td>\n",
       "      <td>0</td>\n",
       "    </tr>\n",
       "    <tr>\n",
       "      <th>1</th>\n",
       "      <td>1639309309</td>\n",
       "      <td>30.0</td>\n",
       "      <td>1.669618</td>\n",
       "      <td>aclbjc</td>\n",
       "      <td>0</td>\n",
       "      <td>1.00</td>\n",
       "      <td>374.99</td>\n",
       "      <td>0</td>\n",
       "      <td>0</td>\n",
       "      <td>0</td>\n",
       "      <td>...</td>\n",
       "      <td>0</td>\n",
       "      <td>0</td>\n",
       "      <td>0</td>\n",
       "      <td>0</td>\n",
       "      <td>0</td>\n",
       "      <td>0</td>\n",
       "      <td>0</td>\n",
       "      <td>0</td>\n",
       "      <td>0</td>\n",
       "      <td>0</td>\n",
       "    </tr>\n",
       "    <tr>\n",
       "      <th>2</th>\n",
       "      <td>1644109746</td>\n",
       "      <td>3103.0</td>\n",
       "      <td>6.917986</td>\n",
       "      <td>nelsoncpm</td>\n",
       "      <td>7</td>\n",
       "      <td>1.00</td>\n",
       "      <td>3103.00</td>\n",
       "      <td>0</td>\n",
       "      <td>0</td>\n",
       "      <td>0</td>\n",
       "      <td>...</td>\n",
       "      <td>0</td>\n",
       "      <td>0</td>\n",
       "      <td>0</td>\n",
       "      <td>0</td>\n",
       "      <td>0</td>\n",
       "      <td>0</td>\n",
       "      <td>0</td>\n",
       "      <td>0</td>\n",
       "      <td>0</td>\n",
       "      <td>0</td>\n",
       "    </tr>\n",
       "    <tr>\n",
       "      <th>3</th>\n",
       "      <td>1649858595</td>\n",
       "      <td>175.0</td>\n",
       "      <td>3.107014</td>\n",
       "      <td>pialu9</td>\n",
       "      <td>4</td>\n",
       "      <td>7.99</td>\n",
       "      <td>202.50</td>\n",
       "      <td>0</td>\n",
       "      <td>0</td>\n",
       "      <td>0</td>\n",
       "      <td>...</td>\n",
       "      <td>0</td>\n",
       "      <td>0</td>\n",
       "      <td>0</td>\n",
       "      <td>0</td>\n",
       "      <td>0</td>\n",
       "      <td>0</td>\n",
       "      <td>0</td>\n",
       "      <td>0</td>\n",
       "      <td>0</td>\n",
       "      <td>0</td>\n",
       "    </tr>\n",
       "    <tr>\n",
       "      <th>4</th>\n",
       "      <td>1647846714</td>\n",
       "      <td>226.0</td>\n",
       "      <td>2.721319</td>\n",
       "      <td>geemeetee@aol.com</td>\n",
       "      <td>17</td>\n",
       "      <td>1.00</td>\n",
       "      <td>905.45</td>\n",
       "      <td>0</td>\n",
       "      <td>0</td>\n",
       "      <td>1</td>\n",
       "      <td>...</td>\n",
       "      <td>0</td>\n",
       "      <td>0</td>\n",
       "      <td>0</td>\n",
       "      <td>0</td>\n",
       "      <td>0</td>\n",
       "      <td>0</td>\n",
       "      <td>0</td>\n",
       "      <td>0</td>\n",
       "      <td>0</td>\n",
       "      <td>0</td>\n",
       "    </tr>\n",
       "  </tbody>\n",
       "</table>\n",
       "<p>5 rows × 46 columns</p>\n",
       "</div>"
      ],
      "text/plain": [
       "    auctionid     bid   bidtime             bidder  bidderrate  openbid  \\\n",
       "0  1644594033   493.0  6.999456       boraborabora          67     9.99   \n",
       "1  1639309309    30.0  1.669618             aclbjc           0     1.00   \n",
       "2  1644109746  3103.0  6.917986          nelsoncpm           7     1.00   \n",
       "3  1649858595   175.0  3.107014             pialu9           4     7.99   \n",
       "4  1647846714   226.0  2.721319  geemeetee@aol.com          17     1.00   \n",
       "\n",
       "     price  earthlink.ne  verizon.ne  aol.co  ...  excite.co  altavis  \\\n",
       "0   498.00             0           0       0  ...          0        0   \n",
       "1   374.99             0           0       0  ...          0        0   \n",
       "2  3103.00             0           0       0  ...          0        0   \n",
       "3   202.50             0           0       0  ...          0        0   \n",
       "4   905.45             0           0       1  ...          0        0   \n",
       "\n",
       "   disnow.co  calcsea.or  mcdata.co  bellsouth.ne  san.rr.co  dechert.co  \\\n",
       "0          0           0          0             0          0           0   \n",
       "1          0           0          0             0          0           0   \n",
       "2          0           0          0             0          0           0   \n",
       "3          0           0          0             0          0           0   \n",
       "4          0           0          0             0          0           0   \n",
       "\n",
       "   yahoo.co  mindspring.co  \n",
       "0         0              0  \n",
       "1         0              0  \n",
       "2         0              0  \n",
       "3         0              0  \n",
       "4         0              0  \n",
       "\n",
       "[5 rows x 46 columns]"
      ]
     },
     "execution_count": 390,
     "metadata": {},
     "output_type": "execute_result"
    }
   ],
   "source": [
    "# Adding email website of the bidders\n",
    "\n",
    "for e in y:\n",
    "    auction_data[e]=auction_data['bidder'].apply(lambda x:1 if e in x else 0)\n",
    "auction_data.head()"
   ]
  },
  {
   "cell_type": "code",
   "execution_count": 391,
   "metadata": {},
   "outputs": [
    {
     "data": {
      "text/html": [
       "<div>\n",
       "<style scoped>\n",
       "    .dataframe tbody tr th:only-of-type {\n",
       "        vertical-align: middle;\n",
       "    }\n",
       "\n",
       "    .dataframe tbody tr th {\n",
       "        vertical-align: top;\n",
       "    }\n",
       "\n",
       "    .dataframe thead th {\n",
       "        text-align: right;\n",
       "    }\n",
       "</style>\n",
       "<table border=\"1\" class=\"dataframe\">\n",
       "  <thead>\n",
       "    <tr style=\"text-align: right;\">\n",
       "      <th></th>\n",
       "      <th>auctionid</th>\n",
       "      <th>bid</th>\n",
       "      <th>bidtime</th>\n",
       "      <th>bidder</th>\n",
       "      <th>bidderrate</th>\n",
       "      <th>openbid</th>\n",
       "      <th>price</th>\n",
       "      <th>earthlink.ne</th>\n",
       "      <th>verizon.ne</th>\n",
       "      <th>aol.co</th>\n",
       "      <th>...</th>\n",
       "      <th>excite.co</th>\n",
       "      <th>altavis</th>\n",
       "      <th>disnow.co</th>\n",
       "      <th>calcsea.or</th>\n",
       "      <th>mcdata.co</th>\n",
       "      <th>bellsouth.ne</th>\n",
       "      <th>san.rr.co</th>\n",
       "      <th>dechert.co</th>\n",
       "      <th>yahoo.co</th>\n",
       "      <th>mindspring.co</th>\n",
       "    </tr>\n",
       "  </thead>\n",
       "  <tbody>\n",
       "    <tr>\n",
       "      <th>0</th>\n",
       "      <td>1644594033</td>\n",
       "      <td>493.0</td>\n",
       "      <td>6.999456</td>\n",
       "      <td>boraborabora</td>\n",
       "      <td>67</td>\n",
       "      <td>9.99</td>\n",
       "      <td>498.00</td>\n",
       "      <td>0</td>\n",
       "      <td>0</td>\n",
       "      <td>0</td>\n",
       "      <td>...</td>\n",
       "      <td>0</td>\n",
       "      <td>0</td>\n",
       "      <td>0</td>\n",
       "      <td>0</td>\n",
       "      <td>0</td>\n",
       "      <td>0</td>\n",
       "      <td>0</td>\n",
       "      <td>0</td>\n",
       "      <td>0</td>\n",
       "      <td>0</td>\n",
       "    </tr>\n",
       "    <tr>\n",
       "      <th>1</th>\n",
       "      <td>1639309309</td>\n",
       "      <td>30.0</td>\n",
       "      <td>1.669618</td>\n",
       "      <td>aclbjc</td>\n",
       "      <td>0</td>\n",
       "      <td>1.00</td>\n",
       "      <td>374.99</td>\n",
       "      <td>0</td>\n",
       "      <td>0</td>\n",
       "      <td>0</td>\n",
       "      <td>...</td>\n",
       "      <td>0</td>\n",
       "      <td>0</td>\n",
       "      <td>0</td>\n",
       "      <td>0</td>\n",
       "      <td>0</td>\n",
       "      <td>0</td>\n",
       "      <td>0</td>\n",
       "      <td>0</td>\n",
       "      <td>0</td>\n",
       "      <td>0</td>\n",
       "    </tr>\n",
       "    <tr>\n",
       "      <th>2</th>\n",
       "      <td>1644109746</td>\n",
       "      <td>3103.0</td>\n",
       "      <td>6.917986</td>\n",
       "      <td>nelsoncpm</td>\n",
       "      <td>7</td>\n",
       "      <td>1.00</td>\n",
       "      <td>3103.00</td>\n",
       "      <td>0</td>\n",
       "      <td>0</td>\n",
       "      <td>0</td>\n",
       "      <td>...</td>\n",
       "      <td>0</td>\n",
       "      <td>0</td>\n",
       "      <td>0</td>\n",
       "      <td>0</td>\n",
       "      <td>0</td>\n",
       "      <td>0</td>\n",
       "      <td>0</td>\n",
       "      <td>0</td>\n",
       "      <td>0</td>\n",
       "      <td>0</td>\n",
       "    </tr>\n",
       "    <tr>\n",
       "      <th>3</th>\n",
       "      <td>1649858595</td>\n",
       "      <td>175.0</td>\n",
       "      <td>3.107014</td>\n",
       "      <td>pialu9</td>\n",
       "      <td>4</td>\n",
       "      <td>7.99</td>\n",
       "      <td>202.50</td>\n",
       "      <td>0</td>\n",
       "      <td>0</td>\n",
       "      <td>0</td>\n",
       "      <td>...</td>\n",
       "      <td>0</td>\n",
       "      <td>0</td>\n",
       "      <td>0</td>\n",
       "      <td>0</td>\n",
       "      <td>0</td>\n",
       "      <td>0</td>\n",
       "      <td>0</td>\n",
       "      <td>0</td>\n",
       "      <td>0</td>\n",
       "      <td>0</td>\n",
       "    </tr>\n",
       "    <tr>\n",
       "      <th>4</th>\n",
       "      <td>1647846714</td>\n",
       "      <td>226.0</td>\n",
       "      <td>2.721319</td>\n",
       "      <td>geemeetee</td>\n",
       "      <td>17</td>\n",
       "      <td>1.00</td>\n",
       "      <td>905.45</td>\n",
       "      <td>0</td>\n",
       "      <td>0</td>\n",
       "      <td>1</td>\n",
       "      <td>...</td>\n",
       "      <td>0</td>\n",
       "      <td>0</td>\n",
       "      <td>0</td>\n",
       "      <td>0</td>\n",
       "      <td>0</td>\n",
       "      <td>0</td>\n",
       "      <td>0</td>\n",
       "      <td>0</td>\n",
       "      <td>0</td>\n",
       "      <td>0</td>\n",
       "    </tr>\n",
       "  </tbody>\n",
       "</table>\n",
       "<p>5 rows × 46 columns</p>\n",
       "</div>"
      ],
      "text/plain": [
       "    auctionid     bid   bidtime        bidder  bidderrate  openbid    price  \\\n",
       "0  1644594033   493.0  6.999456  boraborabora          67     9.99   498.00   \n",
       "1  1639309309    30.0  1.669618        aclbjc           0     1.00   374.99   \n",
       "2  1644109746  3103.0  6.917986     nelsoncpm           7     1.00  3103.00   \n",
       "3  1649858595   175.0  3.107014        pialu9           4     7.99   202.50   \n",
       "4  1647846714   226.0  2.721319     geemeetee          17     1.00   905.45   \n",
       "\n",
       "   earthlink.ne  verizon.ne  aol.co  ...  excite.co  altavis  disnow.co  \\\n",
       "0             0           0       0  ...          0        0          0   \n",
       "1             0           0       0  ...          0        0          0   \n",
       "2             0           0       0  ...          0        0          0   \n",
       "3             0           0       0  ...          0        0          0   \n",
       "4             0           0       1  ...          0        0          0   \n",
       "\n",
       "   calcsea.or  mcdata.co  bellsouth.ne  san.rr.co  dechert.co  yahoo.co  \\\n",
       "0           0          0             0          0           0         0   \n",
       "1           0          0             0          0           0         0   \n",
       "2           0          0             0          0           0         0   \n",
       "3           0          0             0          0           0         0   \n",
       "4           0          0             0          0           0         0   \n",
       "\n",
       "   mindspring.co  \n",
       "0              0  \n",
       "1              0  \n",
       "2              0  \n",
       "3              0  \n",
       "4              0  \n",
       "\n",
       "[5 rows x 46 columns]"
      ]
     },
     "execution_count": 391,
     "metadata": {},
     "output_type": "execute_result"
    }
   ],
   "source": [
    "# Removing email ids from bidder's name\n",
    "auction_data['bidder']=auction_data['bidder'].apply(lambda x:x.split('@')[0] if '@' in x else x)\n",
    "auction_data.head()"
   ]
  },
  {
   "cell_type": "code",
   "execution_count": 392,
   "metadata": {},
   "outputs": [
    {
     "data": {
      "text/html": [
       "<div>\n",
       "<style scoped>\n",
       "    .dataframe tbody tr th:only-of-type {\n",
       "        vertical-align: middle;\n",
       "    }\n",
       "\n",
       "    .dataframe tbody tr th {\n",
       "        vertical-align: top;\n",
       "    }\n",
       "\n",
       "    .dataframe thead th {\n",
       "        text-align: right;\n",
       "    }\n",
       "</style>\n",
       "<table border=\"1\" class=\"dataframe\">\n",
       "  <thead>\n",
       "    <tr style=\"text-align: right;\">\n",
       "      <th></th>\n",
       "      <th>auctionid</th>\n",
       "      <th>bid</th>\n",
       "      <th>bidtime</th>\n",
       "      <th>bidder</th>\n",
       "      <th>bidderrate</th>\n",
       "      <th>openbid</th>\n",
       "      <th>price</th>\n",
       "      <th>earthlink.ne</th>\n",
       "      <th>verizon.ne</th>\n",
       "      <th>aol.co</th>\n",
       "      <th>...</th>\n",
       "      <th>altavis</th>\n",
       "      <th>disnow.co</th>\n",
       "      <th>calcsea.or</th>\n",
       "      <th>mcdata.co</th>\n",
       "      <th>bellsouth.ne</th>\n",
       "      <th>san.rr.co</th>\n",
       "      <th>dechert.co</th>\n",
       "      <th>yahoo.co</th>\n",
       "      <th>mindspring.co</th>\n",
       "      <th>user_len</th>\n",
       "    </tr>\n",
       "  </thead>\n",
       "  <tbody>\n",
       "    <tr>\n",
       "      <th>0</th>\n",
       "      <td>1644594033</td>\n",
       "      <td>493.0</td>\n",
       "      <td>6.999456</td>\n",
       "      <td>boraborabora</td>\n",
       "      <td>67</td>\n",
       "      <td>9.99</td>\n",
       "      <td>498.00</td>\n",
       "      <td>0</td>\n",
       "      <td>0</td>\n",
       "      <td>0</td>\n",
       "      <td>...</td>\n",
       "      <td>0</td>\n",
       "      <td>0</td>\n",
       "      <td>0</td>\n",
       "      <td>0</td>\n",
       "      <td>0</td>\n",
       "      <td>0</td>\n",
       "      <td>0</td>\n",
       "      <td>0</td>\n",
       "      <td>0</td>\n",
       "      <td>12</td>\n",
       "    </tr>\n",
       "    <tr>\n",
       "      <th>1</th>\n",
       "      <td>1639309309</td>\n",
       "      <td>30.0</td>\n",
       "      <td>1.669618</td>\n",
       "      <td>aclbjc</td>\n",
       "      <td>0</td>\n",
       "      <td>1.00</td>\n",
       "      <td>374.99</td>\n",
       "      <td>0</td>\n",
       "      <td>0</td>\n",
       "      <td>0</td>\n",
       "      <td>...</td>\n",
       "      <td>0</td>\n",
       "      <td>0</td>\n",
       "      <td>0</td>\n",
       "      <td>0</td>\n",
       "      <td>0</td>\n",
       "      <td>0</td>\n",
       "      <td>0</td>\n",
       "      <td>0</td>\n",
       "      <td>0</td>\n",
       "      <td>6</td>\n",
       "    </tr>\n",
       "    <tr>\n",
       "      <th>2</th>\n",
       "      <td>1644109746</td>\n",
       "      <td>3103.0</td>\n",
       "      <td>6.917986</td>\n",
       "      <td>nelsoncpm</td>\n",
       "      <td>7</td>\n",
       "      <td>1.00</td>\n",
       "      <td>3103.00</td>\n",
       "      <td>0</td>\n",
       "      <td>0</td>\n",
       "      <td>0</td>\n",
       "      <td>...</td>\n",
       "      <td>0</td>\n",
       "      <td>0</td>\n",
       "      <td>0</td>\n",
       "      <td>0</td>\n",
       "      <td>0</td>\n",
       "      <td>0</td>\n",
       "      <td>0</td>\n",
       "      <td>0</td>\n",
       "      <td>0</td>\n",
       "      <td>9</td>\n",
       "    </tr>\n",
       "    <tr>\n",
       "      <th>3</th>\n",
       "      <td>1649858595</td>\n",
       "      <td>175.0</td>\n",
       "      <td>3.107014</td>\n",
       "      <td>pialu9</td>\n",
       "      <td>4</td>\n",
       "      <td>7.99</td>\n",
       "      <td>202.50</td>\n",
       "      <td>0</td>\n",
       "      <td>0</td>\n",
       "      <td>0</td>\n",
       "      <td>...</td>\n",
       "      <td>0</td>\n",
       "      <td>0</td>\n",
       "      <td>0</td>\n",
       "      <td>0</td>\n",
       "      <td>0</td>\n",
       "      <td>0</td>\n",
       "      <td>0</td>\n",
       "      <td>0</td>\n",
       "      <td>0</td>\n",
       "      <td>6</td>\n",
       "    </tr>\n",
       "    <tr>\n",
       "      <th>4</th>\n",
       "      <td>1647846714</td>\n",
       "      <td>226.0</td>\n",
       "      <td>2.721319</td>\n",
       "      <td>geemeetee</td>\n",
       "      <td>17</td>\n",
       "      <td>1.00</td>\n",
       "      <td>905.45</td>\n",
       "      <td>0</td>\n",
       "      <td>0</td>\n",
       "      <td>1</td>\n",
       "      <td>...</td>\n",
       "      <td>0</td>\n",
       "      <td>0</td>\n",
       "      <td>0</td>\n",
       "      <td>0</td>\n",
       "      <td>0</td>\n",
       "      <td>0</td>\n",
       "      <td>0</td>\n",
       "      <td>0</td>\n",
       "      <td>0</td>\n",
       "      <td>9</td>\n",
       "    </tr>\n",
       "  </tbody>\n",
       "</table>\n",
       "<p>5 rows × 47 columns</p>\n",
       "</div>"
      ],
      "text/plain": [
       "    auctionid     bid   bidtime        bidder  bidderrate  openbid    price  \\\n",
       "0  1644594033   493.0  6.999456  boraborabora          67     9.99   498.00   \n",
       "1  1639309309    30.0  1.669618        aclbjc           0     1.00   374.99   \n",
       "2  1644109746  3103.0  6.917986     nelsoncpm           7     1.00  3103.00   \n",
       "3  1649858595   175.0  3.107014        pialu9           4     7.99   202.50   \n",
       "4  1647846714   226.0  2.721319     geemeetee          17     1.00   905.45   \n",
       "\n",
       "   earthlink.ne  verizon.ne  aol.co  ...  altavis  disnow.co  calcsea.or  \\\n",
       "0             0           0       0  ...        0          0           0   \n",
       "1             0           0       0  ...        0          0           0   \n",
       "2             0           0       0  ...        0          0           0   \n",
       "3             0           0       0  ...        0          0           0   \n",
       "4             0           0       1  ...        0          0           0   \n",
       "\n",
       "   mcdata.co  bellsouth.ne  san.rr.co  dechert.co  yahoo.co  mindspring.co  \\\n",
       "0          0             0          0           0         0              0   \n",
       "1          0             0          0           0         0              0   \n",
       "2          0             0          0           0         0              0   \n",
       "3          0             0          0           0         0              0   \n",
       "4          0             0          0           0         0              0   \n",
       "\n",
       "   user_len  \n",
       "0        12  \n",
       "1         6  \n",
       "2         9  \n",
       "3         6  \n",
       "4         9  \n",
       "\n",
       "[5 rows x 47 columns]"
      ]
     },
     "execution_count": 392,
     "metadata": {},
     "output_type": "execute_result"
    }
   ],
   "source": [
    "# New feature of user name length\n",
    "auction_data['user_len']=auction_data['bidder'].apply(lambda x:len(x))\n",
    "auction_data.head()"
   ]
  },
  {
   "cell_type": "code",
   "execution_count": 393,
   "metadata": {},
   "outputs": [
    {
     "data": {
      "text/html": [
       "<div>\n",
       "<style scoped>\n",
       "    .dataframe tbody tr th:only-of-type {\n",
       "        vertical-align: middle;\n",
       "    }\n",
       "\n",
       "    .dataframe tbody tr th {\n",
       "        vertical-align: top;\n",
       "    }\n",
       "\n",
       "    .dataframe thead th {\n",
       "        text-align: right;\n",
       "    }\n",
       "</style>\n",
       "<table border=\"1\" class=\"dataframe\">\n",
       "  <thead>\n",
       "    <tr style=\"text-align: right;\">\n",
       "      <th></th>\n",
       "      <th>auctionid</th>\n",
       "      <th>bid</th>\n",
       "      <th>bidtime</th>\n",
       "      <th>bidderrate</th>\n",
       "      <th>openbid</th>\n",
       "      <th>price</th>\n",
       "      <th>earthlink.ne</th>\n",
       "      <th>verizon.ne</th>\n",
       "      <th>aol.co</th>\n",
       "      <th>msn.co</th>\n",
       "      <th>...</th>\n",
       "      <th>altavis</th>\n",
       "      <th>disnow.co</th>\n",
       "      <th>calcsea.or</th>\n",
       "      <th>mcdata.co</th>\n",
       "      <th>bellsouth.ne</th>\n",
       "      <th>san.rr.co</th>\n",
       "      <th>dechert.co</th>\n",
       "      <th>yahoo.co</th>\n",
       "      <th>mindspring.co</th>\n",
       "      <th>user_len</th>\n",
       "    </tr>\n",
       "  </thead>\n",
       "  <tbody>\n",
       "    <tr>\n",
       "      <th>count</th>\n",
       "      <td>1.213000e+03</td>\n",
       "      <td>1213.000000</td>\n",
       "      <td>1213.000000</td>\n",
       "      <td>1213.000000</td>\n",
       "      <td>1213.000000</td>\n",
       "      <td>1213.000000</td>\n",
       "      <td>1213.000000</td>\n",
       "      <td>1213.000000</td>\n",
       "      <td>1213.000000</td>\n",
       "      <td>1213.000000</td>\n",
       "      <td>...</td>\n",
       "      <td>1213.000000</td>\n",
       "      <td>1213.000000</td>\n",
       "      <td>1213.000000</td>\n",
       "      <td>1213.000000</td>\n",
       "      <td>1213.000000</td>\n",
       "      <td>1213.000000</td>\n",
       "      <td>1213.000000</td>\n",
       "      <td>1213.000000</td>\n",
       "      <td>1213.000000</td>\n",
       "      <td>1213.000000</td>\n",
       "    </tr>\n",
       "    <tr>\n",
       "      <th>mean</th>\n",
       "      <td>1.644577e+09</td>\n",
       "      <td>647.652539</td>\n",
       "      <td>4.078951</td>\n",
       "      <td>31.807914</td>\n",
       "      <td>159.142852</td>\n",
       "      <td>1010.246076</td>\n",
       "      <td>0.003298</td>\n",
       "      <td>0.004946</td>\n",
       "      <td>0.050289</td>\n",
       "      <td>0.006595</td>\n",
       "      <td>...</td>\n",
       "      <td>0.003298</td>\n",
       "      <td>0.000824</td>\n",
       "      <td>0.004122</td>\n",
       "      <td>0.000824</td>\n",
       "      <td>0.001649</td>\n",
       "      <td>0.004946</td>\n",
       "      <td>0.000824</td>\n",
       "      <td>0.004122</td>\n",
       "      <td>0.003298</td>\n",
       "      <td>8.889530</td>\n",
       "    </tr>\n",
       "    <tr>\n",
       "      <th>std</th>\n",
       "      <td>3.566101e+06</td>\n",
       "      <td>701.003386</td>\n",
       "      <td>2.505148</td>\n",
       "      <td>79.112571</td>\n",
       "      <td>388.456626</td>\n",
       "      <td>832.676139</td>\n",
       "      <td>0.057354</td>\n",
       "      <td>0.070186</td>\n",
       "      <td>0.218630</td>\n",
       "      <td>0.080976</td>\n",
       "      <td>...</td>\n",
       "      <td>0.057354</td>\n",
       "      <td>0.028712</td>\n",
       "      <td>0.064097</td>\n",
       "      <td>0.028712</td>\n",
       "      <td>0.040589</td>\n",
       "      <td>0.070186</td>\n",
       "      <td>0.028712</td>\n",
       "      <td>0.064097</td>\n",
       "      <td>0.057354</td>\n",
       "      <td>2.805169</td>\n",
       "    </tr>\n",
       "    <tr>\n",
       "      <th>min</th>\n",
       "      <td>1.638844e+09</td>\n",
       "      <td>1.000000</td>\n",
       "      <td>0.007535</td>\n",
       "      <td>-4.000000</td>\n",
       "      <td>0.010000</td>\n",
       "      <td>103.500000</td>\n",
       "      <td>0.000000</td>\n",
       "      <td>0.000000</td>\n",
       "      <td>0.000000</td>\n",
       "      <td>0.000000</td>\n",
       "      <td>...</td>\n",
       "      <td>0.000000</td>\n",
       "      <td>0.000000</td>\n",
       "      <td>0.000000</td>\n",
       "      <td>0.000000</td>\n",
       "      <td>0.000000</td>\n",
       "      <td>0.000000</td>\n",
       "      <td>0.000000</td>\n",
       "      <td>0.000000</td>\n",
       "      <td>0.000000</td>\n",
       "      <td>2.000000</td>\n",
       "    </tr>\n",
       "    <tr>\n",
       "      <th>25%</th>\n",
       "      <td>1.641784e+09</td>\n",
       "      <td>161.000000</td>\n",
       "      <td>1.578866</td>\n",
       "      <td>1.000000</td>\n",
       "      <td>1.000000</td>\n",
       "      <td>374.990000</td>\n",
       "      <td>0.000000</td>\n",
       "      <td>0.000000</td>\n",
       "      <td>0.000000</td>\n",
       "      <td>0.000000</td>\n",
       "      <td>...</td>\n",
       "      <td>0.000000</td>\n",
       "      <td>0.000000</td>\n",
       "      <td>0.000000</td>\n",
       "      <td>0.000000</td>\n",
       "      <td>0.000000</td>\n",
       "      <td>0.000000</td>\n",
       "      <td>0.000000</td>\n",
       "      <td>0.000000</td>\n",
       "      <td>0.000000</td>\n",
       "      <td>7.000000</td>\n",
       "    </tr>\n",
       "    <tr>\n",
       "      <th>50%</th>\n",
       "      <td>1.644139e+09</td>\n",
       "      <td>400.000000</td>\n",
       "      <td>4.302025</td>\n",
       "      <td>5.000000</td>\n",
       "      <td>7.990000</td>\n",
       "      <td>680.000000</td>\n",
       "      <td>0.000000</td>\n",
       "      <td>0.000000</td>\n",
       "      <td>0.000000</td>\n",
       "      <td>0.000000</td>\n",
       "      <td>...</td>\n",
       "      <td>0.000000</td>\n",
       "      <td>0.000000</td>\n",
       "      <td>0.000000</td>\n",
       "      <td>0.000000</td>\n",
       "      <td>0.000000</td>\n",
       "      <td>0.000000</td>\n",
       "      <td>0.000000</td>\n",
       "      <td>0.000000</td>\n",
       "      <td>0.000000</td>\n",
       "      <td>9.000000</td>\n",
       "    </tr>\n",
       "    <tr>\n",
       "      <th>75%</th>\n",
       "      <td>1.647847e+09</td>\n",
       "      <td>895.000000</td>\n",
       "      <td>6.777083</td>\n",
       "      <td>30.000000</td>\n",
       "      <td>175.000000</td>\n",
       "      <td>1600.000000</td>\n",
       "      <td>0.000000</td>\n",
       "      <td>0.000000</td>\n",
       "      <td>0.000000</td>\n",
       "      <td>0.000000</td>\n",
       "      <td>...</td>\n",
       "      <td>0.000000</td>\n",
       "      <td>0.000000</td>\n",
       "      <td>0.000000</td>\n",
       "      <td>0.000000</td>\n",
       "      <td>0.000000</td>\n",
       "      <td>0.000000</td>\n",
       "      <td>0.000000</td>\n",
       "      <td>0.000000</td>\n",
       "      <td>0.000000</td>\n",
       "      <td>10.000000</td>\n",
       "    </tr>\n",
       "    <tr>\n",
       "      <th>max</th>\n",
       "      <td>1.650986e+09</td>\n",
       "      <td>5400.000000</td>\n",
       "      <td>6.999965</td>\n",
       "      <td>1303.000000</td>\n",
       "      <td>5000.000000</td>\n",
       "      <td>5400.000000</td>\n",
       "      <td>1.000000</td>\n",
       "      <td>1.000000</td>\n",
       "      <td>1.000000</td>\n",
       "      <td>1.000000</td>\n",
       "      <td>...</td>\n",
       "      <td>1.000000</td>\n",
       "      <td>1.000000</td>\n",
       "      <td>1.000000</td>\n",
       "      <td>1.000000</td>\n",
       "      <td>1.000000</td>\n",
       "      <td>1.000000</td>\n",
       "      <td>1.000000</td>\n",
       "      <td>1.000000</td>\n",
       "      <td>1.000000</td>\n",
       "      <td>25.000000</td>\n",
       "    </tr>\n",
       "  </tbody>\n",
       "</table>\n",
       "<p>8 rows × 46 columns</p>\n",
       "</div>"
      ],
      "text/plain": [
       "          auctionid          bid      bidtime   bidderrate      openbid  \\\n",
       "count  1.213000e+03  1213.000000  1213.000000  1213.000000  1213.000000   \n",
       "mean   1.644577e+09   647.652539     4.078951    31.807914   159.142852   \n",
       "std    3.566101e+06   701.003386     2.505148    79.112571   388.456626   \n",
       "min    1.638844e+09     1.000000     0.007535    -4.000000     0.010000   \n",
       "25%    1.641784e+09   161.000000     1.578866     1.000000     1.000000   \n",
       "50%    1.644139e+09   400.000000     4.302025     5.000000     7.990000   \n",
       "75%    1.647847e+09   895.000000     6.777083    30.000000   175.000000   \n",
       "max    1.650986e+09  5400.000000     6.999965  1303.000000  5000.000000   \n",
       "\n",
       "             price  earthlink.ne   verizon.ne       aol.co       msn.co  ...  \\\n",
       "count  1213.000000   1213.000000  1213.000000  1213.000000  1213.000000  ...   \n",
       "mean   1010.246076      0.003298     0.004946     0.050289     0.006595  ...   \n",
       "std     832.676139      0.057354     0.070186     0.218630     0.080976  ...   \n",
       "min     103.500000      0.000000     0.000000     0.000000     0.000000  ...   \n",
       "25%     374.990000      0.000000     0.000000     0.000000     0.000000  ...   \n",
       "50%     680.000000      0.000000     0.000000     0.000000     0.000000  ...   \n",
       "75%    1600.000000      0.000000     0.000000     0.000000     0.000000  ...   \n",
       "max    5400.000000      1.000000     1.000000     1.000000     1.000000  ...   \n",
       "\n",
       "           altavis    disnow.co   calcsea.or    mcdata.co  bellsouth.ne  \\\n",
       "count  1213.000000  1213.000000  1213.000000  1213.000000   1213.000000   \n",
       "mean      0.003298     0.000824     0.004122     0.000824      0.001649   \n",
       "std       0.057354     0.028712     0.064097     0.028712      0.040589   \n",
       "min       0.000000     0.000000     0.000000     0.000000      0.000000   \n",
       "25%       0.000000     0.000000     0.000000     0.000000      0.000000   \n",
       "50%       0.000000     0.000000     0.000000     0.000000      0.000000   \n",
       "75%       0.000000     0.000000     0.000000     0.000000      0.000000   \n",
       "max       1.000000     1.000000     1.000000     1.000000      1.000000   \n",
       "\n",
       "         san.rr.co   dechert.co     yahoo.co  mindspring.co     user_len  \n",
       "count  1213.000000  1213.000000  1213.000000    1213.000000  1213.000000  \n",
       "mean      0.004946     0.000824     0.004122       0.003298     8.889530  \n",
       "std       0.070186     0.028712     0.064097       0.057354     2.805169  \n",
       "min       0.000000     0.000000     0.000000       0.000000     2.000000  \n",
       "25%       0.000000     0.000000     0.000000       0.000000     7.000000  \n",
       "50%       0.000000     0.000000     0.000000       0.000000     9.000000  \n",
       "75%       0.000000     0.000000     0.000000       0.000000    10.000000  \n",
       "max       1.000000     1.000000     1.000000       1.000000    25.000000  \n",
       "\n",
       "[8 rows x 46 columns]"
      ]
     },
     "execution_count": 393,
     "metadata": {},
     "output_type": "execute_result"
    }
   ],
   "source": [
    "# EXPLORATORY DATA ANALYSIS\n",
    "auction_data.describe()"
   ]
  },
  {
   "cell_type": "code",
   "execution_count": 394,
   "metadata": {},
   "outputs": [
    {
     "data": {
      "text/plain": [
       "(1206, 47)"
      ]
     },
     "execution_count": 394,
     "metadata": {},
     "output_type": "execute_result"
    }
   ],
   "source": [
    "# Removing outliers which are far above the mean\n",
    "auction_data=auction_data[auction_data['bidderrate']<400]\n",
    "auction_data.shape"
   ]
  },
  {
   "cell_type": "code",
   "execution_count": 395,
   "metadata": {},
   "outputs": [
    {
     "data": {
      "text/plain": [
       "(1202, 47)"
      ]
     },
     "execution_count": 395,
     "metadata": {},
     "output_type": "execute_result"
    }
   ],
   "source": [
    "auction_data=auction_data[auction_data['bid']<4000]\n",
    "auction_data.shape"
   ]
  },
  {
   "cell_type": "code",
   "execution_count": 396,
   "metadata": {},
   "outputs": [
    {
     "data": {
      "text/plain": [
       "1202"
      ]
     },
     "execution_count": 396,
     "metadata": {},
     "output_type": "execute_result"
    }
   ],
   "source": [
    "len(auction_data[auction_data['openbid']<2000])"
   ]
  },
  {
   "cell_type": "code",
   "execution_count": 399,
   "metadata": {},
   "outputs": [
    {
     "data": {
      "text/plain": [
       "0    1198\n",
       "1       4\n",
       "Name: earthlink.ne, dtype: int64"
      ]
     },
     "execution_count": 399,
     "metadata": {},
     "output_type": "execute_result"
    }
   ],
   "source": [
    "auction_data['earthlink.ne'].value_counts()"
   ]
  },
  {
   "cell_type": "code",
   "execution_count": 400,
   "metadata": {},
   "outputs": [
    {
     "data": {
      "text/plain": [
       "0    1191\n",
       "1      11\n",
       "Name: hotmail.co, dtype: int64"
      ]
     },
     "execution_count": 400,
     "metadata": {},
     "output_type": "execute_result"
    }
   ],
   "source": [
    "auction_data['hotmail.co'].value_counts()"
   ]
  },
  {
   "cell_type": "code",
   "execution_count": 401,
   "metadata": {},
   "outputs": [
    {
     "data": {
      "text/plain": [
       "0    1197\n",
       "1       5\n",
       "Name: yahoo.co, dtype: int64"
      ]
     },
     "execution_count": 401,
     "metadata": {},
     "output_type": "execute_result"
    }
   ],
   "source": [
    "auction_data['yahoo.co'].value_counts()"
   ]
  },
  {
   "cell_type": "code",
   "execution_count": 402,
   "metadata": {},
   "outputs": [
    {
     "data": {
      "text/plain": [
       "0    1201\n",
       "1       1\n",
       "Name: scottsbluff.n, dtype: int64"
      ]
     },
     "execution_count": 402,
     "metadata": {},
     "output_type": "execute_result"
    }
   ],
   "source": [
    "auction_data['scottsbluff.n'].value_counts()"
   ]
  },
  {
   "cell_type": "code",
   "execution_count": 403,
   "metadata": {},
   "outputs": [],
   "source": [
    "df=auction_data"
   ]
  },
  {
   "cell_type": "code",
   "execution_count": 404,
   "metadata": {},
   "outputs": [
    {
     "data": {
      "text/plain": [
       "<matplotlib.axes._subplots.AxesSubplot at 0x20c91c4b288>"
      ]
     },
     "execution_count": 404,
     "metadata": {},
     "output_type": "execute_result"
    },
    {
     "data": {
      "image/png": "[encoded data removed]",
      "text/plain": [
       "<Figure size 432x288 with 1 Axes>"
      ]
     },
     "metadata": {
      "needs_background": "light"
     },
     "output_type": "display_data"
    }
   ],
   "source": [
    "df.bid.hist()"
   ]
  },
  {
   "cell_type": "code",
   "execution_count": 405,
   "metadata": {},
   "outputs": [
    {
     "data": {
      "text/plain": [
       "<matplotlib.axes._subplots.AxesSubplot at 0x20c90aa0e88>"
      ]
     },
     "execution_count": 405,
     "metadata": {},
     "output_type": "execute_result"
    },
    {
     "data": {
      "image/png": "[encoded data removed]",
      "text/plain": [
       "<Figure size 432x288 with 1 Axes>"
      ]
     },
     "metadata": {
      "needs_background": "light"
     },
     "output_type": "display_data"
    }
   ],
   "source": [
    "df.bidtime.hist()"
   ]
  },
  {
   "cell_type": "code",
   "execution_count": 406,
   "metadata": {},
   "outputs": [
    {
     "data": {
      "text/plain": [
       "<matplotlib.axes._subplots.AxesSubplot at 0x20c909dd6c8>"
      ]
     },
     "execution_count": 406,
     "metadata": {},
     "output_type": "execute_result"
    },
    {
     "data": {
      "image/png": "[encoded data removed]",
      "text/plain": [
       "<Figure size 432x288 with 1 Axes>"
      ]
     },
     "metadata": {
      "needs_background": "light"
     },
     "output_type": "display_data"
    }
   ],
   "source": [
    "df.bidderrate.hist()"
   ]
  },
  {
   "cell_type": "code",
   "execution_count": 407,
   "metadata": {},
   "outputs": [
    {
     "data": {
      "text/plain": [
       "<matplotlib.axes._subplots.AxesSubplot at 0x20c8ee388c8>"
      ]
     },
     "execution_count": 407,
     "metadata": {},
     "output_type": "execute_result"
    },
    {
     "data": {
      "image/png": "[encoded data removed]",
      "text/plain": [
       "<Figure size 432x288 with 1 Axes>"
      ]
     },
     "metadata": {
      "needs_background": "light"
     },
     "output_type": "display_data"
    }
   ],
   "source": [
    "df.openbid.hist()"
   ]
  },
  {
   "cell_type": "code",
   "execution_count": 408,
   "metadata": {},
   "outputs": [
    {
     "data": {
      "text/plain": [
       "<matplotlib.axes._subplots.AxesSubplot at 0x20c906ffa08>"
      ]
     },
     "execution_count": 408,
     "metadata": {},
     "output_type": "execute_result"
    },
    {
     "data": {
      "image/png": "[encoded data removed]",
      "text/plain": [
       "<Figure size 432x288 with 1 Axes>"
      ]
     },
     "metadata": {
      "needs_background": "light"
     },
     "output_type": "display_data"
    }
   ],
   "source": [
    "df.price.hist()"
   ]
  },
  {
   "cell_type": "code",
   "execution_count": 409,
   "metadata": {},
   "outputs": [
    {
     "data": {
      "text/plain": [
       "<matplotlib.axes._subplots.AxesSubplot at 0x20c90759108>"
      ]
     },
     "execution_count": 409,
     "metadata": {},
     "output_type": "execute_result"
    },
    {
     "data": {
      "image/png": "[encoded data removed]",
      "text/plain": [
       "<Figure size 432x288 with 1 Axes>"
      ]
     },
     "metadata": {
      "needs_background": "light"
     },
     "output_type": "display_data"
    }
   ],
   "source": [
    "df.user_len.hist()"
   ]
  },
  {
   "cell_type": "code",
   "execution_count": 410,
   "metadata": {},
   "outputs": [
    {
     "data": {
      "text/plain": [
       "<matplotlib.axes._subplots.AxesSubplot at 0x20c9060ea88>"
      ]
     },
     "execution_count": 410,
     "metadata": {},
     "output_type": "execute_result"
    },
    {
     "data": {
      "image/png": "[encoded data removed]",
      "text/plain": [
       "<Figure size 432x288 with 1 Axes>"
      ]
     },
     "metadata": {
      "needs_background": "light"
     },
     "output_type": "display_data"
    }
   ],
   "source": [
    "df.boxplot(column=['bidtime','user_len'])"
   ]
  },
  {
   "cell_type": "code",
   "execution_count": 411,
   "metadata": {},
   "outputs": [
    {
     "data": {
      "text/plain": [
       "<matplotlib.axes._subplots.AxesSubplot at 0x20c90280fc8>"
      ]
     },
     "execution_count": 411,
     "metadata": {},
     "output_type": "execute_result"
    },
    {
     "data": {
      "image/png": "[encoded data removed]",
      "text/plain": [
       "<Figure size 432x288 with 1 Axes>"
      ]
     },
     "metadata": {
      "needs_background": "light"
     },
     "output_type": "display_data"
    }
   ],
   "source": [
    "df.boxplot(column=['bidderrate'])"
   ]
  },
  {
   "cell_type": "code",
   "execution_count": 412,
   "metadata": {},
   "outputs": [
    {
     "data": {
      "text/plain": [
       "<matplotlib.axes._subplots.AxesSubplot at 0x20c900b7248>"
      ]
     },
     "execution_count": 412,
     "metadata": {},
     "output_type": "execute_result"
    },
    {
     "data": {
      "image/png": "[encoded data removed]",
      "text/plain": [
       "<Figure size 432x288 with 1 Axes>"
      ]
     },
     "metadata": {
      "needs_background": "light"
     },
     "output_type": "display_data"
    }
   ],
   "source": [
    "df.boxplot(column=['bid','openbid','price'])"
   ]
  },
  {
   "cell_type": "code",
   "execution_count": 414,
   "metadata": {},
   "outputs": [],
   "source": [
    "# Visualizing categorical variables\n",
    "df_cat=df[[ 'earthlink.ne', 'verizon.ne', 'aol.co', 'msn.co',\n",
    "       'tampabay.rr.co', 'webtv.co', 'shadow.ne', 'amexol.ne', 'columbia.ed',\n",
    "       'stargate.ne', 'elliman.co', 'scottsbluff.n', 'btconnect.co',\n",
    "       'northlink.co', 'ucnsb.ne', 'purplepicket.co', 'netzero.n',\n",
    "       'prodigy.ne', 'erols.co', 'mediaone.ne', 'wxs.n', 'hotmail.co',\n",
    "       'mac.co', 'cs.co', 'wellsref.co', 'slk.co', 'ti.co', 'home.co',\n",
    "       'easytel.ne', 'excite.co', 'altavis', 'disnow.co', 'calcsea.or',\n",
    "       'mcdata.co', 'bellsouth.ne', 'san.rr.co', 'dechert.co', 'yahoo.co',\n",
    "       'mindspring.co']]"
   ]
  },
  {
   "cell_type": "code",
   "execution_count": 415,
   "metadata": {},
   "outputs": [
    {
     "name": "stdout",
     "output_type": "stream",
     "text": [
      "graph forearthlink.ne :total=2\n"
     ]
    },
    {
     "data": {
      "image/png": "[encoded data removed]",
      "text/plain": [
       "<Figure size 432x288 with 1 Axes>"
      ]
     },
     "metadata": {
      "needs_background": "light"
     },
     "output_type": "display_data"
    },
    {
     "name": "stdout",
     "output_type": "stream",
     "text": [
      "graph forverizon.ne :total=2\n"
     ]
    },
    {
     "data": {
      "image/png": "[encoded data removed]",
      "text/plain": [
       "<Figure size 432x288 with 1 Axes>"
      ]
     },
     "metadata": {
      "needs_background": "light"
     },
     "output_type": "display_data"
    },
    {
     "name": "stdout",
     "output_type": "stream",
     "text": [
      "graph foraol.co :total=2\n"
     ]
    },
    {
     "data": {
      "image/png": "[encoded data removed]",
      "text/plain": [
       "<Figure size 432x288 with 1 Axes>"
      ]
     },
     "metadata": {
      "needs_background": "light"
     },
     "output_type": "display_data"
    },
    {
     "name": "stdout",
     "output_type": "stream",
     "text": [
      "graph formsn.co :total=2\n"
     ]
    },
    {
     "data": {
      "image/png": "[encoded data removed]",
      "text/plain": [
       "<Figure size 432x288 with 1 Axes>"
      ]
     },
     "metadata": {
      "needs_background": "light"
     },
     "output_type": "display_data"
    },
    {
     "name": "stdout",
     "output_type": "stream",
     "text": [
      "graph fortampabay.rr.co :total=2\n"
     ]
    },
    {
     "data": {
      "image/png": "[encoded data removed]",
      "text/plain": [
       "<Figure size 432x288 with 1 Axes>"
      ]
     },
     "metadata": {
      "needs_background": "light"
     },
     "output_type": "display_data"
    },
    {
     "name": "stdout",
     "output_type": "stream",
     "text": [
      "graph forwebtv.co :total=1\n"
     ]
    },
    {
     "data": {
      "image/png": "[encoded data removed]",
      "text/plain": [
       "<Figure size 432x288 with 1 Axes>"
      ]
     },
     "metadata": {
      "needs_background": "light"
     },
     "output_type": "display_data"
    },
    {
     "name": "stdout",
     "output_type": "stream",
     "text": [
      "graph forshadow.ne :total=2\n"
     ]
    },
    {
     "data": {
      "image/png": "[encoded data removed]",
      "text/plain": [
       "<Figure size 432x288 with 1 Axes>"
      ]
     },
     "metadata": {
      "needs_background": "light"
     },
     "output_type": "display_data"
    },
    {
     "name": "stdout",
     "output_type": "stream",
     "text": [
      "graph foramexol.ne :total=2\n"
     ]
    },
    {
     "data": {
      "image/png": "[encoded data removed]",
      "text/plain": [
       "<Figure size 432x288 with 1 Axes>"
      ]
     },
     "metadata": {
      "needs_background": "light"
     },
     "output_type": "display_data"
    },
    {
     "name": "stdout",
     "output_type": "stream",
     "text": [
      "graph forcolumbia.ed :total=2\n"
     ]
    },
    {
     "data": {
      "image/png": "[encoded data removed]",
      "text/plain": [
       "<Figure size 432x288 with 1 Axes>"
      ]
     },
     "metadata": {
      "needs_background": "light"
     },
     "output_type": "display_data"
    },
    {
     "name": "stdout",
     "output_type": "stream",
     "text": [
      "graph forstargate.ne :total=2\n"
     ]
    },
    {
     "data": {
      "image/png": "[encoded data removed]",
      "text/plain": [
       "<Figure size 432x288 with 1 Axes>"
      ]
     },
     "metadata": {
      "needs_background": "light"
     },
     "output_type": "display_data"
    },
    {
     "name": "stdout",
     "output_type": "stream",
     "text": [
      "graph forelliman.co :total=2\n"
     ]
    },
    {
     "data": {
      "image/png": "[encoded data removed]",
      "text/plain": [
       "<Figure size 432x288 with 1 Axes>"
      ]
     },
     "metadata": {
      "needs_background": "light"
     },
     "output_type": "display_data"
    },
    {
     "name": "stdout",
     "output_type": "stream",
     "text": [
      "graph forscottsbluff.n :total=2\n"
     ]
    },
    {
     "data": {
      "image/png": "[encoded data removed]",
      "text/plain": [
       "<Figure size 432x288 with 1 Axes>"
      ]
     },
     "metadata": {
      "needs_background": "light"
     },
     "output_type": "display_data"
    },
    {
     "name": "stdout",
     "output_type": "stream",
     "text": [
      "graph forbtconnect.co :total=2\n"
     ]
    },
    {
     "data": {
      "image/png": "[encoded data removed]",
      "text/plain": [
       "<Figure size 432x288 with 1 Axes>"
      ]
     },
     "metadata": {
      "needs_background": "light"
     },
     "output_type": "display_data"
    },
    {
     "name": "stdout",
     "output_type": "stream",
     "text": [
      "graph fornorthlink.co :total=2\n"
     ]
    },
    {
     "data": {
      "image/png": "[encoded data removed]",
      "text/plain": [
       "<Figure size 432x288 with 1 Axes>"
      ]
     },
     "metadata": {
      "needs_background": "light"
     },
     "output_type": "display_data"
    },
    {
     "name": "stdout",
     "output_type": "stream",
     "text": [
      "graph forucnsb.ne :total=2\n"
     ]
    },
    {
     "data": {
      "image/png": "[encoded data removed]",
      "text/plain": [
       "<Figure size 432x288 with 1 Axes>"
      ]
     },
     "metadata": {
      "needs_background": "light"
     },
     "output_type": "display_data"
    },
    {
     "name": "stdout",
     "output_type": "stream",
     "text": [
      "graph forpurplepicket.co :total=2\n"
     ]
    },
    {
     "data": {
      "image/png": "[encoded data removed]",
      "text/plain": [
       "<Figure size 432x288 with 1 Axes>"
      ]
     },
     "metadata": {
      "needs_background": "light"
     },
     "output_type": "display_data"
    },
    {
     "name": "stdout",
     "output_type": "stream",
     "text": [
      "graph fornetzero.n :total=2\n"
     ]
    },
    {
     "data": {
      "image/png": "[encoded data removed]",
      "text/plain": [
       "<Figure size 432x288 with 1 Axes>"
      ]
     },
     "metadata": {
      "needs_background": "light"
     },
     "output_type": "display_data"
    },
    {
     "name": "stdout",
     "output_type": "stream",
     "text": [
      "graph forprodigy.ne :total=2\n"
     ]
    },
    {
     "data": {
      "image/png": "[encoded data removed]",
      "text/plain": [
       "<Figure size 432x288 with 1 Axes>"
      ]
     },
     "metadata": {
      "needs_background": "light"
     },
     "output_type": "display_data"
    },
    {
     "name": "stdout",
     "output_type": "stream",
     "text": [
      "graph forerols.co :total=2\n"
     ]
    },
    {
     "data": {
      "image/png": "[encoded data removed]",
      "text/plain": [
       "<Figure size 432x288 with 1 Axes>"
      ]
     },
     "metadata": {
      "needs_background": "light"
     },
     "output_type": "display_data"
    },
    {
     "name": "stdout",
     "output_type": "stream",
     "text": [
      "graph formediaone.ne :total=2\n"
     ]
    },
    {
     "data": {
      "image/png": "[encoded data removed]",
      "text/plain": [
       "<Figure size 432x288 with 1 Axes>"
      ]
     },
     "metadata": {
      "needs_background": "light"
     },
     "output_type": "display_data"
    },
    {
     "name": "stdout",
     "output_type": "stream",
     "text": [
      "graph forwxs.n :total=2\n"
     ]
    },
    {
     "data": {
      "image/png": "[encoded data removed]",
      "text/plain": [
       "<Figure size 432x288 with 1 Axes>"
      ]
     },
     "metadata": {
      "needs_background": "light"
     },
     "output_type": "display_data"
    },
    {
     "name": "stdout",
     "output_type": "stream",
     "text": [
      "graph forhotmail.co :total=2\n"
     ]
    },
    {
     "data": {
      "image/png": "[encoded data removed]",
      "text/plain": [
       "<Figure size 432x288 with 1 Axes>"
      ]
     },
     "metadata": {
      "needs_background": "light"
     },
     "output_type": "display_data"
    },
    {
     "name": "stdout",
     "output_type": "stream",
     "text": [
      "graph formac.co :total=2\n"
     ]
    },
    {
     "data": {
      "image/png": "[encoded data removed]",
      "text/plain": [
       "<Figure size 432x288 with 1 Axes>"
      ]
     },
     "metadata": {
      "needs_background": "light"
     },
     "output_type": "display_data"
    },
    {
     "name": "stdout",
     "output_type": "stream",
     "text": [
      "graph forcs.co :total=2\n"
     ]
    },
    {
     "data": {
      "image/png": "[encoded data removed]",
      "text/plain": [
       "<Figure size 432x288 with 1 Axes>"
      ]
     },
     "metadata": {
      "needs_background": "light"
     },
     "output_type": "display_data"
    },
    {
     "name": "stdout",
     "output_type": "stream",
     "text": [
      "graph forwellsref.co :total=2\n"
     ]
    },
    {
     "data": {
      "image/png": "[encoded data removed]",
      "text/plain": [
       "<Figure size 432x288 with 1 Axes>"
      ]
     },
     "metadata": {
      "needs_background": "light"
     },
     "output_type": "display_data"
    },
    {
     "name": "stdout",
     "output_type": "stream",
     "text": [
      "graph forslk.co :total=2\n"
     ]
    },
    {
     "data": {
      "image/png": "[encoded data removed]",
      "text/plain": [
       "<Figure size 432x288 with 1 Axes>"
      ]
     },
     "metadata": {
      "needs_background": "light"
     },
     "output_type": "display_data"
    },
    {
     "name": "stdout",
     "output_type": "stream",
     "text": [
      "graph forti.co :total=2\n"
     ]
    },
    {
     "data": {
      "image/png": "[encoded data removed]",
      "text/plain": [
       "<Figure size 432x288 with 1 Axes>"
      ]
     },
     "metadata": {
      "needs_background": "light"
     },
     "output_type": "display_data"
    },
    {
     "name": "stdout",
     "output_type": "stream",
     "text": [
      "graph forhome.co :total=2\n"
     ]
    },
    {
     "data": {
      "image/png": "[encoded data removed]",
      "text/plain": [
       "<Figure size 432x288 with 1 Axes>"
      ]
     },
     "metadata": {
      "needs_background": "light"
     },
     "output_type": "display_data"
    },
    {
     "name": "stdout",
     "output_type": "stream",
     "text": [
      "graph foreasytel.ne :total=2\n"
     ]
    },
    {
     "data": {
      "image/png": "[encoded data removed]",
      "text/plain": [
       "<Figure size 432x288 with 1 Axes>"
      ]
     },
     "metadata": {
      "needs_background": "light"
     },
     "output_type": "display_data"
    },
    {
     "name": "stdout",
     "output_type": "stream",
     "text": [
      "graph forexcite.co :total=2\n"
     ]
    },
    {
     "data": {
      "image/png": "[encoded data removed]",
      "text/plain": [
       "<Figure size 432x288 with 1 Axes>"
      ]
     },
     "metadata": {
      "needs_background": "light"
     },
     "output_type": "display_data"
    },
    {
     "name": "stdout",
     "output_type": "stream",
     "text": [
      "graph foraltavis :total=2\n"
     ]
    },
    {
     "data": {
      "image/png": "[encoded data removed]",
      "text/plain": [
       "<Figure size 432x288 with 1 Axes>"
      ]
     },
     "metadata": {
      "needs_background": "light"
     },
     "output_type": "display_data"
    },
    {
     "name": "stdout",
     "output_type": "stream",
     "text": [
      "graph fordisnow.co :total=2\n"
     ]
    },
    {
     "data": {
      "image/png": "[encoded data removed]",
      "text/plain": [
       "<Figure size 432x288 with 1 Axes>"
      ]
     },
     "metadata": {
      "needs_background": "light"
     },
     "output_type": "display_data"
    },
    {
     "name": "stdout",
     "output_type": "stream",
     "text": [
      "graph forcalcsea.or :total=2\n"
     ]
    },
    {
     "data": {
      "image/png": "[encoded data removed]",
      "text/plain": [
       "<Figure size 432x288 with 1 Axes>"
      ]
     },
     "metadata": {
      "needs_background": "light"
     },
     "output_type": "display_data"
    },
    {
     "name": "stdout",
     "output_type": "stream",
     "text": [
      "graph formcdata.co :total=2\n"
     ]
    },
    {
     "data": {
      "image/png": "[encoded data removed]",
      "text/plain": [
       "<Figure size 432x288 with 1 Axes>"
      ]
     },
     "metadata": {
      "needs_background": "light"
     },
     "output_type": "display_data"
    },
    {
     "name": "stdout",
     "output_type": "stream",
     "text": [
      "graph forbellsouth.ne :total=2\n"
     ]
    },
    {
     "data": {
      "image/png": "[encoded data removed]",
      "text/plain": [
       "<Figure size 432x288 with 1 Axes>"
      ]
     },
     "metadata": {
      "needs_background": "light"
     },
     "output_type": "display_data"
    },
    {
     "name": "stdout",
     "output_type": "stream",
     "text": [
      "graph forsan.rr.co :total=2\n"
     ]
    },
    {
     "data": {
      "image/png": "[encoded data removed]",
      "text/plain": [
       "<Figure size 432x288 with 1 Axes>"
      ]
     },
     "metadata": {
      "needs_background": "light"
     },
     "output_type": "display_data"
    },
    {
     "name": "stdout",
     "output_type": "stream",
     "text": [
      "graph fordechert.co :total=2\n"
     ]
    },
    {
     "data": {
      "image/png": "[encoded data removed]",
      "text/plain": [
       "<Figure size 432x288 with 1 Axes>"
      ]
     },
     "metadata": {
      "needs_background": "light"
     },
     "output_type": "display_data"
    },
    {
     "name": "stdout",
     "output_type": "stream",
     "text": [
      "graph foryahoo.co :total=2\n"
     ]
    },
    {
     "data": {
      "image/png": "[encoded data removed]",
      "text/plain": [
       "<Figure size 432x288 with 1 Axes>"
      ]
     },
     "metadata": {
      "needs_background": "light"
     },
     "output_type": "display_data"
    },
    {
     "name": "stdout",
     "output_type": "stream",
     "text": [
      "graph formindspring.co :total=2\n"
     ]
    },
    {
     "data": {
      "image/png": "[encoded data removed]",
      "text/plain": [
       "<Figure size 432x288 with 1 Axes>"
      ]
     },
     "metadata": {
      "needs_background": "light"
     },
     "output_type": "display_data"
    }
   ],
   "source": [
    "for i in df_cat.columns:\n",
    "    cat_num=df_cat[i].value_counts()\n",
    "    print('graph for%s :total=%d'%(i,len(cat_num)))\n",
    "    chart=sns.barplot(x=cat_num.index,y=cat_num)\n",
    "    chart.set_xticklabels(chart.get_xticklabels())\n",
    "    plt.show()"
   ]
  },
  {
   "cell_type": "code",
   "execution_count": 416,
   "metadata": {},
   "outputs": [
    {
     "data": {
      "text/plain": [
       "<matplotlib.axes._subplots.AxesSubplot at 0x20c93316448>"
      ]
     },
     "execution_count": 416,
     "metadata": {},
     "output_type": "execute_result"
    },
    {
     "data": {
      "image/png": "[encoded data removed]",
      "text/plain": [
       "<Figure size 432x288 with 2 Axes>"
      ]
     },
     "metadata": {
      "needs_background": "light"
     },
     "output_type": "display_data"
    }
   ],
   "source": [
    "corr_col=df[['auctionid', 'bid', 'bidtime', 'bidder', 'bidderrate', 'openbid','price','user_len']]\n",
    "sns.heatmap(corr_col.corr(),annot=True)"
   ]
  },
  {
   "cell_type": "code",
   "execution_count": 417,
   "metadata": {},
   "outputs": [
    {
     "data": {
      "text/plain": [
       "<matplotlib.axes._subplots.AxesSubplot at 0x20c93434a48>"
      ]
     },
     "execution_count": 417,
     "metadata": {},
     "output_type": "execute_result"
    },
    {
     "data": {
      "image/png": "[encoded data removed]",
      "text/plain": [
       "<Figure size 432x288 with 2 Axes>"
      ]
     },
     "metadata": {
      "needs_background": "light"
     },
     "output_type": "display_data"
    }
   ],
   "source": [
    "sns.heatmap(df.corr())"
   ]
  },
  {
   "cell_type": "code",
   "execution_count": 418,
   "metadata": {},
   "outputs": [
    {
     "data": {
      "text/html": [
       "<div>\n",
       "<style scoped>\n",
       "    .dataframe tbody tr th:only-of-type {\n",
       "        vertical-align: middle;\n",
       "    }\n",
       "\n",
       "    .dataframe tbody tr th {\n",
       "        vertical-align: top;\n",
       "    }\n",
       "\n",
       "    .dataframe thead th {\n",
       "        text-align: right;\n",
       "    }\n",
       "</style>\n",
       "<table border=\"1\" class=\"dataframe\">\n",
       "  <thead>\n",
       "    <tr style=\"text-align: right;\">\n",
       "      <th></th>\n",
       "      <th>auctionid</th>\n",
       "      <th>bid</th>\n",
       "      <th>bidtime</th>\n",
       "      <th>bidderrate</th>\n",
       "      <th>openbid</th>\n",
       "      <th>price</th>\n",
       "      <th>earthlink.ne</th>\n",
       "      <th>verizon.ne</th>\n",
       "      <th>aol.co</th>\n",
       "      <th>msn.co</th>\n",
       "      <th>...</th>\n",
       "      <th>altavis</th>\n",
       "      <th>disnow.co</th>\n",
       "      <th>calcsea.or</th>\n",
       "      <th>mcdata.co</th>\n",
       "      <th>bellsouth.ne</th>\n",
       "      <th>san.rr.co</th>\n",
       "      <th>dechert.co</th>\n",
       "      <th>yahoo.co</th>\n",
       "      <th>mindspring.co</th>\n",
       "      <th>user_len</th>\n",
       "    </tr>\n",
       "  </thead>\n",
       "  <tbody>\n",
       "    <tr>\n",
       "      <th>auctionid</th>\n",
       "      <td>1.000000</td>\n",
       "      <td>0.076822</td>\n",
       "      <td>-0.014198</td>\n",
       "      <td>0.055943</td>\n",
       "      <td>0.007248</td>\n",
       "      <td>0.075352</td>\n",
       "      <td>-0.003671</td>\n",
       "      <td>-0.114566</td>\n",
       "      <td>-0.025450</td>\n",
       "      <td>-0.012382</td>\n",
       "      <td>...</td>\n",
       "      <td>0.059326</td>\n",
       "      <td>-0.010992</td>\n",
       "      <td>0.071629</td>\n",
       "      <td>-0.046081</td>\n",
       "      <td>-0.002779</td>\n",
       "      <td>-0.011001</td>\n",
       "      <td>-0.016907</td>\n",
       "      <td>-0.050289</td>\n",
       "      <td>-0.085403</td>\n",
       "      <td>0.085795</td>\n",
       "    </tr>\n",
       "    <tr>\n",
       "      <th>bid</th>\n",
       "      <td>0.076822</td>\n",
       "      <td>1.000000</td>\n",
       "      <td>0.218780</td>\n",
       "      <td>-0.000327</td>\n",
       "      <td>0.423217</td>\n",
       "      <td>0.818606</td>\n",
       "      <td>-0.010693</td>\n",
       "      <td>-0.038867</td>\n",
       "      <td>-0.001855</td>\n",
       "      <td>0.035874</td>\n",
       "      <td>...</td>\n",
       "      <td>-0.000635</td>\n",
       "      <td>-0.005707</td>\n",
       "      <td>-0.023459</td>\n",
       "      <td>-0.023214</td>\n",
       "      <td>0.000497</td>\n",
       "      <td>0.220649</td>\n",
       "      <td>0.017502</td>\n",
       "      <td>-0.041519</td>\n",
       "      <td>-0.040120</td>\n",
       "      <td>-0.080043</td>\n",
       "    </tr>\n",
       "    <tr>\n",
       "      <th>bidtime</th>\n",
       "      <td>-0.014198</td>\n",
       "      <td>0.218780</td>\n",
       "      <td>1.000000</td>\n",
       "      <td>0.010255</td>\n",
       "      <td>0.170795</td>\n",
       "      <td>-0.129658</td>\n",
       "      <td>-0.022537</td>\n",
       "      <td>0.078114</td>\n",
       "      <td>0.047179</td>\n",
       "      <td>-0.058980</td>\n",
       "      <td>...</td>\n",
       "      <td>0.055179</td>\n",
       "      <td>-0.040906</td>\n",
       "      <td>0.073073</td>\n",
       "      <td>0.019310</td>\n",
       "      <td>0.010475</td>\n",
       "      <td>0.044103</td>\n",
       "      <td>0.022269</td>\n",
       "      <td>-0.057628</td>\n",
       "      <td>0.067610</td>\n",
       "      <td>0.012224</td>\n",
       "    </tr>\n",
       "    <tr>\n",
       "      <th>bidderrate</th>\n",
       "      <td>0.055943</td>\n",
       "      <td>-0.000327</td>\n",
       "      <td>0.010255</td>\n",
       "      <td>1.000000</td>\n",
       "      <td>0.169046</td>\n",
       "      <td>-0.026945</td>\n",
       "      <td>0.210440</td>\n",
       "      <td>-0.012912</td>\n",
       "      <td>0.104688</td>\n",
       "      <td>-0.015498</td>\n",
       "      <td>...</td>\n",
       "      <td>-0.024633</td>\n",
       "      <td>-0.011760</td>\n",
       "      <td>-0.012995</td>\n",
       "      <td>0.002863</td>\n",
       "      <td>0.064584</td>\n",
       "      <td>-0.032853</td>\n",
       "      <td>0.047274</td>\n",
       "      <td>-0.025611</td>\n",
       "      <td>-0.006196</td>\n",
       "      <td>-0.135771</td>\n",
       "    </tr>\n",
       "    <tr>\n",
       "      <th>openbid</th>\n",
       "      <td>0.007248</td>\n",
       "      <td>0.423217</td>\n",
       "      <td>0.170795</td>\n",
       "      <td>0.169046</td>\n",
       "      <td>1.000000</td>\n",
       "      <td>0.331437</td>\n",
       "      <td>-0.025269</td>\n",
       "      <td>0.021292</td>\n",
       "      <td>0.018171</td>\n",
       "      <td>0.070586</td>\n",
       "      <td>...</td>\n",
       "      <td>-0.030266</td>\n",
       "      <td>0.037773</td>\n",
       "      <td>0.025232</td>\n",
       "      <td>-0.012565</td>\n",
       "      <td>-0.021384</td>\n",
       "      <td>0.197250</td>\n",
       "      <td>0.037879</td>\n",
       "      <td>-0.006451</td>\n",
       "      <td>-0.029418</td>\n",
       "      <td>-0.054601</td>\n",
       "    </tr>\n",
       "    <tr>\n",
       "      <th>price</th>\n",
       "      <td>0.075352</td>\n",
       "      <td>0.818606</td>\n",
       "      <td>-0.129658</td>\n",
       "      <td>-0.026945</td>\n",
       "      <td>0.331437</td>\n",
       "      <td>1.000000</td>\n",
       "      <td>-0.007418</td>\n",
       "      <td>-0.060411</td>\n",
       "      <td>-0.014592</td>\n",
       "      <td>0.063929</td>\n",
       "      <td>...</td>\n",
       "      <td>-0.023091</td>\n",
       "      <td>0.001004</td>\n",
       "      <td>-0.041550</td>\n",
       "      <td>-0.027972</td>\n",
       "      <td>-0.018371</td>\n",
       "      <td>0.249951</td>\n",
       "      <td>0.001004</td>\n",
       "      <td>-0.046384</td>\n",
       "      <td>-0.053903</td>\n",
       "      <td>-0.103759</td>\n",
       "    </tr>\n",
       "    <tr>\n",
       "      <th>earthlink.ne</th>\n",
       "      <td>-0.003671</td>\n",
       "      <td>-0.010693</td>\n",
       "      <td>-0.022537</td>\n",
       "      <td>0.210440</td>\n",
       "      <td>-0.025269</td>\n",
       "      <td>-0.007418</td>\n",
       "      <td>1.000000</td>\n",
       "      <td>-0.004093</td>\n",
       "      <td>-0.013361</td>\n",
       "      <td>-0.004730</td>\n",
       "      <td>...</td>\n",
       "      <td>-0.003339</td>\n",
       "      <td>-0.001667</td>\n",
       "      <td>-0.003735</td>\n",
       "      <td>-0.001667</td>\n",
       "      <td>-0.002359</td>\n",
       "      <td>-0.004093</td>\n",
       "      <td>-0.001667</td>\n",
       "      <td>-0.003735</td>\n",
       "      <td>-0.003339</td>\n",
       "      <td>-0.064957</td>\n",
       "    </tr>\n",
       "    <tr>\n",
       "      <th>verizon.ne</th>\n",
       "      <td>-0.114566</td>\n",
       "      <td>-0.038867</td>\n",
       "      <td>0.078114</td>\n",
       "      <td>-0.012912</td>\n",
       "      <td>0.021292</td>\n",
       "      <td>-0.060411</td>\n",
       "      <td>-0.004093</td>\n",
       "      <td>1.000000</td>\n",
       "      <td>-0.016377</td>\n",
       "      <td>-0.005798</td>\n",
       "      <td>...</td>\n",
       "      <td>-0.004093</td>\n",
       "      <td>-0.002044</td>\n",
       "      <td>-0.004578</td>\n",
       "      <td>-0.002044</td>\n",
       "      <td>-0.002892</td>\n",
       "      <td>-0.005017</td>\n",
       "      <td>-0.002044</td>\n",
       "      <td>-0.004578</td>\n",
       "      <td>-0.004093</td>\n",
       "      <td>0.002437</td>\n",
       "    </tr>\n",
       "    <tr>\n",
       "      <th>aol.co</th>\n",
       "      <td>-0.025450</td>\n",
       "      <td>-0.001855</td>\n",
       "      <td>0.047179</td>\n",
       "      <td>0.104688</td>\n",
       "      <td>0.018171</td>\n",
       "      <td>-0.014592</td>\n",
       "      <td>-0.013361</td>\n",
       "      <td>-0.016377</td>\n",
       "      <td>1.000000</td>\n",
       "      <td>-0.018926</td>\n",
       "      <td>...</td>\n",
       "      <td>-0.013361</td>\n",
       "      <td>-0.006672</td>\n",
       "      <td>-0.014944</td>\n",
       "      <td>-0.006672</td>\n",
       "      <td>-0.009439</td>\n",
       "      <td>-0.016377</td>\n",
       "      <td>-0.006672</td>\n",
       "      <td>-0.014944</td>\n",
       "      <td>-0.013361</td>\n",
       "      <td>-0.027177</td>\n",
       "    </tr>\n",
       "    <tr>\n",
       "      <th>msn.co</th>\n",
       "      <td>-0.012382</td>\n",
       "      <td>0.035874</td>\n",
       "      <td>-0.058980</td>\n",
       "      <td>-0.015498</td>\n",
       "      <td>0.070586</td>\n",
       "      <td>0.063929</td>\n",
       "      <td>-0.004730</td>\n",
       "      <td>-0.005798</td>\n",
       "      <td>-0.018926</td>\n",
       "      <td>1.000000</td>\n",
       "      <td>...</td>\n",
       "      <td>-0.004730</td>\n",
       "      <td>-0.002362</td>\n",
       "      <td>-0.005290</td>\n",
       "      <td>-0.002362</td>\n",
       "      <td>-0.003342</td>\n",
       "      <td>-0.005798</td>\n",
       "      <td>-0.002362</td>\n",
       "      <td>-0.005290</td>\n",
       "      <td>-0.004730</td>\n",
       "      <td>-0.048248</td>\n",
       "    </tr>\n",
       "    <tr>\n",
       "      <th>tampabay.rr.co</th>\n",
       "      <td>0.034854</td>\n",
       "      <td>-0.019356</td>\n",
       "      <td>0.020326</td>\n",
       "      <td>0.002519</td>\n",
       "      <td>-0.021384</td>\n",
       "      <td>-0.031222</td>\n",
       "      <td>-0.002359</td>\n",
       "      <td>-0.002892</td>\n",
       "      <td>-0.009439</td>\n",
       "      <td>-0.003342</td>\n",
       "      <td>...</td>\n",
       "      <td>-0.002359</td>\n",
       "      <td>-0.001178</td>\n",
       "      <td>-0.002639</td>\n",
       "      <td>-0.001178</td>\n",
       "      <td>-0.001667</td>\n",
       "      <td>-0.002892</td>\n",
       "      <td>-0.001178</td>\n",
       "      <td>-0.002639</td>\n",
       "      <td>-0.002359</td>\n",
       "      <td>-0.013149</td>\n",
       "    </tr>\n",
       "    <tr>\n",
       "      <th>webtv.co</th>\n",
       "      <td>NaN</td>\n",
       "      <td>NaN</td>\n",
       "      <td>NaN</td>\n",
       "      <td>NaN</td>\n",
       "      <td>NaN</td>\n",
       "      <td>NaN</td>\n",
       "      <td>NaN</td>\n",
       "      <td>NaN</td>\n",
       "      <td>NaN</td>\n",
       "      <td>NaN</td>\n",
       "      <td>...</td>\n",
       "      <td>NaN</td>\n",
       "      <td>NaN</td>\n",
       "      <td>NaN</td>\n",
       "      <td>NaN</td>\n",
       "      <td>NaN</td>\n",
       "      <td>NaN</td>\n",
       "      <td>NaN</td>\n",
       "      <td>NaN</td>\n",
       "      <td>NaN</td>\n",
       "      <td>NaN</td>\n",
       "    </tr>\n",
       "    <tr>\n",
       "      <th>shadow.ne</th>\n",
       "      <td>-0.042713</td>\n",
       "      <td>-0.016978</td>\n",
       "      <td>-0.022057</td>\n",
       "      <td>0.053773</td>\n",
       "      <td>0.001241</td>\n",
       "      <td>-0.018012</td>\n",
       "      <td>-0.001667</td>\n",
       "      <td>-0.002044</td>\n",
       "      <td>-0.006672</td>\n",
       "      <td>-0.002362</td>\n",
       "      <td>...</td>\n",
       "      <td>-0.001667</td>\n",
       "      <td>-0.000833</td>\n",
       "      <td>-0.001865</td>\n",
       "      <td>-0.000833</td>\n",
       "      <td>-0.001178</td>\n",
       "      <td>-0.002044</td>\n",
       "      <td>-0.000833</td>\n",
       "      <td>-0.001865</td>\n",
       "      <td>-0.001667</td>\n",
       "      <td>0.011279</td>\n",
       "    </tr>\n",
       "    <tr>\n",
       "      <th>amexol.ne</th>\n",
       "      <td>-0.044743</td>\n",
       "      <td>-0.064349</td>\n",
       "      <td>-0.007327</td>\n",
       "      <td>-0.033766</td>\n",
       "      <td>-0.027807</td>\n",
       "      <td>-0.073607</td>\n",
       "      <td>-0.005019</td>\n",
       "      <td>-0.006152</td>\n",
       "      <td>-0.020083</td>\n",
       "      <td>-0.007110</td>\n",
       "      <td>...</td>\n",
       "      <td>-0.005019</td>\n",
       "      <td>-0.002506</td>\n",
       "      <td>-0.005614</td>\n",
       "      <td>-0.002506</td>\n",
       "      <td>-0.003546</td>\n",
       "      <td>-0.006152</td>\n",
       "      <td>-0.002506</td>\n",
       "      <td>-0.005614</td>\n",
       "      <td>-0.005019</td>\n",
       "      <td>0.002988</td>\n",
       "    </tr>\n",
       "    <tr>\n",
       "      <th>columbia.ed</th>\n",
       "      <td>-0.011251</td>\n",
       "      <td>0.000797</td>\n",
       "      <td>-0.031681</td>\n",
       "      <td>-0.014467</td>\n",
       "      <td>-0.005131</td>\n",
       "      <td>0.058229</td>\n",
       "      <td>-0.001667</td>\n",
       "      <td>-0.002044</td>\n",
       "      <td>-0.006672</td>\n",
       "      <td>-0.002362</td>\n",
       "      <td>...</td>\n",
       "      <td>-0.001667</td>\n",
       "      <td>-0.000833</td>\n",
       "      <td>-0.001865</td>\n",
       "      <td>-0.000833</td>\n",
       "      <td>-0.001178</td>\n",
       "      <td>-0.002044</td>\n",
       "      <td>-0.000833</td>\n",
       "      <td>-0.001865</td>\n",
       "      <td>-0.001667</td>\n",
       "      <td>-0.040153</td>\n",
       "    </tr>\n",
       "    <tr>\n",
       "      <th>stargate.ne</th>\n",
       "      <td>0.011418</td>\n",
       "      <td>-0.023103</td>\n",
       "      <td>0.031317</td>\n",
       "      <td>0.066771</td>\n",
       "      <td>-0.009910</td>\n",
       "      <td>-0.032114</td>\n",
       "      <td>-0.001667</td>\n",
       "      <td>-0.002044</td>\n",
       "      <td>-0.006672</td>\n",
       "      <td>-0.002362</td>\n",
       "      <td>...</td>\n",
       "      <td>-0.001667</td>\n",
       "      <td>-0.000833</td>\n",
       "      <td>-0.001865</td>\n",
       "      <td>-0.000833</td>\n",
       "      <td>-0.001178</td>\n",
       "      <td>-0.002044</td>\n",
       "      <td>-0.000833</td>\n",
       "      <td>-0.001865</td>\n",
       "      <td>-0.001667</td>\n",
       "      <td>-0.040153</td>\n",
       "    </tr>\n",
       "    <tr>\n",
       "      <th>elliman.co</th>\n",
       "      <td>0.016009</td>\n",
       "      <td>-0.019250</td>\n",
       "      <td>-0.042980</td>\n",
       "      <td>-0.013384</td>\n",
       "      <td>-0.015114</td>\n",
       "      <td>0.008307</td>\n",
       "      <td>-0.001667</td>\n",
       "      <td>-0.002044</td>\n",
       "      <td>-0.006672</td>\n",
       "      <td>-0.002362</td>\n",
       "      <td>...</td>\n",
       "      <td>-0.001667</td>\n",
       "      <td>-0.000833</td>\n",
       "      <td>-0.001865</td>\n",
       "      <td>-0.000833</td>\n",
       "      <td>-0.001178</td>\n",
       "      <td>-0.002044</td>\n",
       "      <td>-0.000833</td>\n",
       "      <td>-0.001865</td>\n",
       "      <td>-0.001667</td>\n",
       "      <td>-0.019580</td>\n",
       "    </tr>\n",
       "    <tr>\n",
       "      <th>scottsbluff.n</th>\n",
       "      <td>0.040876</td>\n",
       "      <td>0.055590</td>\n",
       "      <td>0.032356</td>\n",
       "      <td>-0.015009</td>\n",
       "      <td>-0.015114</td>\n",
       "      <td>0.032069</td>\n",
       "      <td>-0.001667</td>\n",
       "      <td>-0.002044</td>\n",
       "      <td>-0.006672</td>\n",
       "      <td>-0.002362</td>\n",
       "      <td>...</td>\n",
       "      <td>-0.001667</td>\n",
       "      <td>-0.000833</td>\n",
       "      <td>-0.001865</td>\n",
       "      <td>-0.000833</td>\n",
       "      <td>-0.001178</td>\n",
       "      <td>-0.002044</td>\n",
       "      <td>-0.000833</td>\n",
       "      <td>-0.001865</td>\n",
       "      <td>-0.001667</td>\n",
       "      <td>0.011279</td>\n",
       "    </tr>\n",
       "    <tr>\n",
       "      <th>btconnect.co</th>\n",
       "      <td>-0.040814</td>\n",
       "      <td>-0.016246</td>\n",
       "      <td>-0.033190</td>\n",
       "      <td>-0.030056</td>\n",
       "      <td>0.007058</td>\n",
       "      <td>0.014352</td>\n",
       "      <td>-0.003339</td>\n",
       "      <td>-0.004093</td>\n",
       "      <td>-0.013361</td>\n",
       "      <td>-0.004730</td>\n",
       "      <td>...</td>\n",
       "      <td>-0.003339</td>\n",
       "      <td>-0.001667</td>\n",
       "      <td>-0.003735</td>\n",
       "      <td>-0.001667</td>\n",
       "      <td>-0.002359</td>\n",
       "      <td>-0.004093</td>\n",
       "      <td>-0.001667</td>\n",
       "      <td>-0.003735</td>\n",
       "      <td>-0.003339</td>\n",
       "      <td>0.022586</td>\n",
       "    </tr>\n",
       "    <tr>\n",
       "      <th>northlink.co</th>\n",
       "      <td>-0.028655</td>\n",
       "      <td>-0.003767</td>\n",
       "      <td>-0.034980</td>\n",
       "      <td>-0.022263</td>\n",
       "      <td>-0.007789</td>\n",
       "      <td>0.052127</td>\n",
       "      <td>-0.002890</td>\n",
       "      <td>-0.003543</td>\n",
       "      <td>-0.011566</td>\n",
       "      <td>-0.004094</td>\n",
       "      <td>...</td>\n",
       "      <td>-0.002890</td>\n",
       "      <td>-0.001443</td>\n",
       "      <td>-0.003233</td>\n",
       "      <td>-0.001443</td>\n",
       "      <td>-0.002042</td>\n",
       "      <td>-0.003543</td>\n",
       "      <td>-0.001443</td>\n",
       "      <td>-0.003233</td>\n",
       "      <td>-0.002890</td>\n",
       "      <td>-0.051773</td>\n",
       "    </tr>\n",
       "    <tr>\n",
       "      <th>ucnsb.ne</th>\n",
       "      <td>-0.023336</td>\n",
       "      <td>-0.025932</td>\n",
       "      <td>-0.031614</td>\n",
       "      <td>-0.012843</td>\n",
       "      <td>-0.014159</td>\n",
       "      <td>-0.030606</td>\n",
       "      <td>-0.001667</td>\n",
       "      <td>-0.002044</td>\n",
       "      <td>-0.006672</td>\n",
       "      <td>-0.002362</td>\n",
       "      <td>...</td>\n",
       "      <td>-0.001667</td>\n",
       "      <td>-0.000833</td>\n",
       "      <td>-0.001865</td>\n",
       "      <td>-0.000833</td>\n",
       "      <td>-0.001178</td>\n",
       "      <td>-0.002044</td>\n",
       "      <td>-0.000833</td>\n",
       "      <td>-0.001865</td>\n",
       "      <td>-0.001667</td>\n",
       "      <td>-0.040153</td>\n",
       "    </tr>\n",
       "    <tr>\n",
       "      <th>purplepicket.co</th>\n",
       "      <td>-0.004609</td>\n",
       "      <td>-0.033380</td>\n",
       "      <td>-0.047358</td>\n",
       "      <td>0.014779</td>\n",
       "      <td>-0.021532</td>\n",
       "      <td>-0.035848</td>\n",
       "      <td>-0.002359</td>\n",
       "      <td>-0.002892</td>\n",
       "      <td>-0.009439</td>\n",
       "      <td>-0.003342</td>\n",
       "      <td>...</td>\n",
       "      <td>-0.002359</td>\n",
       "      <td>-0.001178</td>\n",
       "      <td>-0.002639</td>\n",
       "      <td>-0.001178</td>\n",
       "      <td>-0.001667</td>\n",
       "      <td>-0.002892</td>\n",
       "      <td>-0.001178</td>\n",
       "      <td>-0.002639</td>\n",
       "      <td>-0.002359</td>\n",
       "      <td>-0.056808</td>\n",
       "    </tr>\n",
       "    <tr>\n",
       "      <th>netzero.n</th>\n",
       "      <td>-0.061043</td>\n",
       "      <td>0.010613</td>\n",
       "      <td>0.002189</td>\n",
       "      <td>-0.012806</td>\n",
       "      <td>0.027298</td>\n",
       "      <td>0.005960</td>\n",
       "      <td>-0.002359</td>\n",
       "      <td>-0.002892</td>\n",
       "      <td>-0.009439</td>\n",
       "      <td>-0.003342</td>\n",
       "      <td>...</td>\n",
       "      <td>-0.002359</td>\n",
       "      <td>-0.001178</td>\n",
       "      <td>-0.002639</td>\n",
       "      <td>-0.001178</td>\n",
       "      <td>-0.001667</td>\n",
       "      <td>-0.002892</td>\n",
       "      <td>-0.001178</td>\n",
       "      <td>-0.002639</td>\n",
       "      <td>-0.002359</td>\n",
       "      <td>0.074170</td>\n",
       "    </tr>\n",
       "    <tr>\n",
       "      <th>prodigy.ne</th>\n",
       "      <td>-0.026615</td>\n",
       "      <td>0.238446</td>\n",
       "      <td>0.043031</td>\n",
       "      <td>0.131326</td>\n",
       "      <td>0.158365</td>\n",
       "      <td>0.197280</td>\n",
       "      <td>-0.004093</td>\n",
       "      <td>-0.005017</td>\n",
       "      <td>-0.016377</td>\n",
       "      <td>-0.005798</td>\n",
       "      <td>...</td>\n",
       "      <td>-0.004093</td>\n",
       "      <td>-0.002044</td>\n",
       "      <td>-0.004578</td>\n",
       "      <td>-0.002044</td>\n",
       "      <td>-0.002892</td>\n",
       "      <td>-0.005017</td>\n",
       "      <td>-0.002044</td>\n",
       "      <td>-0.004578</td>\n",
       "      <td>-0.004093</td>\n",
       "      <td>-0.056478</td>\n",
       "    </tr>\n",
       "    <tr>\n",
       "      <th>erols.co</th>\n",
       "      <td>0.016009</td>\n",
       "      <td>-0.010340</td>\n",
       "      <td>-0.043273</td>\n",
       "      <td>0.071104</td>\n",
       "      <td>-0.015114</td>\n",
       "      <td>0.008307</td>\n",
       "      <td>-0.001667</td>\n",
       "      <td>-0.002044</td>\n",
       "      <td>-0.006672</td>\n",
       "      <td>-0.002362</td>\n",
       "      <td>...</td>\n",
       "      <td>-0.001667</td>\n",
       "      <td>-0.000833</td>\n",
       "      <td>-0.001865</td>\n",
       "      <td>-0.000833</td>\n",
       "      <td>-0.001178</td>\n",
       "      <td>-0.002044</td>\n",
       "      <td>-0.000833</td>\n",
       "      <td>-0.001865</td>\n",
       "      <td>-0.001667</td>\n",
       "      <td>-0.009294</td>\n",
       "    </tr>\n",
       "    <tr>\n",
       "      <th>mediaone.ne</th>\n",
       "      <td>0.020371</td>\n",
       "      <td>0.003890</td>\n",
       "      <td>0.037273</td>\n",
       "      <td>0.026882</td>\n",
       "      <td>-0.003791</td>\n",
       "      <td>-0.018908</td>\n",
       "      <td>-0.003339</td>\n",
       "      <td>-0.004093</td>\n",
       "      <td>-0.013361</td>\n",
       "      <td>-0.004730</td>\n",
       "      <td>...</td>\n",
       "      <td>-0.003339</td>\n",
       "      <td>-0.001667</td>\n",
       "      <td>-0.003735</td>\n",
       "      <td>-0.001667</td>\n",
       "      <td>-0.002359</td>\n",
       "      <td>-0.004093</td>\n",
       "      <td>-0.001667</td>\n",
       "      <td>-0.003735</td>\n",
       "      <td>-0.003339</td>\n",
       "      <td>-0.090705</td>\n",
       "    </tr>\n",
       "    <tr>\n",
       "      <th>wxs.n</th>\n",
       "      <td>-0.023921</td>\n",
       "      <td>0.005539</td>\n",
       "      <td>0.016854</td>\n",
       "      <td>-0.009741</td>\n",
       "      <td>0.053592</td>\n",
       "      <td>0.001420</td>\n",
       "      <td>-0.002359</td>\n",
       "      <td>-0.002892</td>\n",
       "      <td>-0.009439</td>\n",
       "      <td>-0.003342</td>\n",
       "      <td>...</td>\n",
       "      <td>-0.002359</td>\n",
       "      <td>-0.001178</td>\n",
       "      <td>-0.002639</td>\n",
       "      <td>-0.001178</td>\n",
       "      <td>-0.001667</td>\n",
       "      <td>-0.002892</td>\n",
       "      <td>-0.001178</td>\n",
       "      <td>-0.002639</td>\n",
       "      <td>-0.002359</td>\n",
       "      <td>-0.013149</td>\n",
       "    </tr>\n",
       "    <tr>\n",
       "      <th>hotmail.co</th>\n",
       "      <td>0.016702</td>\n",
       "      <td>0.043831</td>\n",
       "      <td>0.050992</td>\n",
       "      <td>-0.029163</td>\n",
       "      <td>0.094903</td>\n",
       "      <td>0.030196</td>\n",
       "      <td>-0.005553</td>\n",
       "      <td>-0.006807</td>\n",
       "      <td>-0.022221</td>\n",
       "      <td>-0.007867</td>\n",
       "      <td>...</td>\n",
       "      <td>-0.005553</td>\n",
       "      <td>-0.002773</td>\n",
       "      <td>-0.006211</td>\n",
       "      <td>-0.002773</td>\n",
       "      <td>-0.003923</td>\n",
       "      <td>-0.006807</td>\n",
       "      <td>-0.002773</td>\n",
       "      <td>-0.006211</td>\n",
       "      <td>-0.005553</td>\n",
       "      <td>-0.012266</td>\n",
       "    </tr>\n",
       "    <tr>\n",
       "      <th>mac.co</th>\n",
       "      <td>0.027752</td>\n",
       "      <td>0.018087</td>\n",
       "      <td>-0.062135</td>\n",
       "      <td>-0.017569</td>\n",
       "      <td>-0.026200</td>\n",
       "      <td>0.014400</td>\n",
       "      <td>-0.002890</td>\n",
       "      <td>-0.003543</td>\n",
       "      <td>-0.011566</td>\n",
       "      <td>-0.004094</td>\n",
       "      <td>...</td>\n",
       "      <td>-0.002890</td>\n",
       "      <td>-0.001443</td>\n",
       "      <td>-0.003233</td>\n",
       "      <td>-0.001443</td>\n",
       "      <td>-0.002042</td>\n",
       "      <td>-0.003543</td>\n",
       "      <td>-0.001443</td>\n",
       "      <td>-0.003233</td>\n",
       "      <td>-0.002890</td>\n",
       "      <td>-0.016111</td>\n",
       "    </tr>\n",
       "    <tr>\n",
       "      <th>cs.co</th>\n",
       "      <td>-0.025199</td>\n",
       "      <td>0.158435</td>\n",
       "      <td>0.073189</td>\n",
       "      <td>-0.025126</td>\n",
       "      <td>-0.011493</td>\n",
       "      <td>0.130422</td>\n",
       "      <td>-0.003735</td>\n",
       "      <td>-0.004578</td>\n",
       "      <td>-0.014944</td>\n",
       "      <td>-0.005290</td>\n",
       "      <td>...</td>\n",
       "      <td>-0.003735</td>\n",
       "      <td>-0.001865</td>\n",
       "      <td>-0.004177</td>\n",
       "      <td>-0.001865</td>\n",
       "      <td>-0.002639</td>\n",
       "      <td>-0.004578</td>\n",
       "      <td>-0.001865</td>\n",
       "      <td>-0.004177</td>\n",
       "      <td>-0.003735</td>\n",
       "      <td>0.025263</td>\n",
       "    </tr>\n",
       "    <tr>\n",
       "      <th>wellsref.co</th>\n",
       "      <td>-0.004231</td>\n",
       "      <td>-0.011498</td>\n",
       "      <td>0.024341</td>\n",
       "      <td>-0.012301</td>\n",
       "      <td>-0.015114</td>\n",
       "      <td>-0.022649</td>\n",
       "      <td>-0.001667</td>\n",
       "      <td>-0.002044</td>\n",
       "      <td>-0.006672</td>\n",
       "      <td>-0.002362</td>\n",
       "      <td>...</td>\n",
       "      <td>-0.001667</td>\n",
       "      <td>-0.000833</td>\n",
       "      <td>-0.001865</td>\n",
       "      <td>-0.000833</td>\n",
       "      <td>-0.001178</td>\n",
       "      <td>-0.002044</td>\n",
       "      <td>-0.000833</td>\n",
       "      <td>-0.001865</td>\n",
       "      <td>-0.001667</td>\n",
       "      <td>-0.071012</td>\n",
       "    </tr>\n",
       "    <tr>\n",
       "      <th>slk.co</th>\n",
       "      <td>0.081853</td>\n",
       "      <td>0.101284</td>\n",
       "      <td>-0.010813</td>\n",
       "      <td>-0.030056</td>\n",
       "      <td>-0.030266</td>\n",
       "      <td>0.064218</td>\n",
       "      <td>-0.003339</td>\n",
       "      <td>-0.004093</td>\n",
       "      <td>-0.013361</td>\n",
       "      <td>-0.004730</td>\n",
       "      <td>...</td>\n",
       "      <td>-0.003339</td>\n",
       "      <td>-0.001667</td>\n",
       "      <td>-0.003735</td>\n",
       "      <td>-0.001667</td>\n",
       "      <td>-0.002359</td>\n",
       "      <td>-0.004093</td>\n",
       "      <td>-0.001667</td>\n",
       "      <td>-0.003735</td>\n",
       "      <td>-0.003339</td>\n",
       "      <td>0.043185</td>\n",
       "    </tr>\n",
       "    <tr>\n",
       "      <th>ti.co</th>\n",
       "      <td>0.029151</td>\n",
       "      <td>-0.021744</td>\n",
       "      <td>0.028607</td>\n",
       "      <td>0.114431</td>\n",
       "      <td>-0.007255</td>\n",
       "      <td>-0.029716</td>\n",
       "      <td>-0.001667</td>\n",
       "      <td>-0.002044</td>\n",
       "      <td>-0.006672</td>\n",
       "      <td>-0.002362</td>\n",
       "      <td>...</td>\n",
       "      <td>-0.001667</td>\n",
       "      <td>-0.000833</td>\n",
       "      <td>-0.001865</td>\n",
       "      <td>-0.000833</td>\n",
       "      <td>-0.001178</td>\n",
       "      <td>-0.002044</td>\n",
       "      <td>-0.000833</td>\n",
       "      <td>-0.001865</td>\n",
       "      <td>-0.001667</td>\n",
       "      <td>-0.050439</td>\n",
       "    </tr>\n",
       "    <tr>\n",
       "      <th>home.co</th>\n",
       "      <td>-0.014659</td>\n",
       "      <td>0.054700</td>\n",
       "      <td>-0.003742</td>\n",
       "      <td>0.003668</td>\n",
       "      <td>-0.021384</td>\n",
       "      <td>0.057400</td>\n",
       "      <td>-0.002359</td>\n",
       "      <td>-0.002892</td>\n",
       "      <td>-0.009439</td>\n",
       "      <td>-0.003342</td>\n",
       "      <td>...</td>\n",
       "      <td>-0.002359</td>\n",
       "      <td>-0.001178</td>\n",
       "      <td>-0.002639</td>\n",
       "      <td>-0.001178</td>\n",
       "      <td>-0.001667</td>\n",
       "      <td>-0.002892</td>\n",
       "      <td>-0.001178</td>\n",
       "      <td>-0.002639</td>\n",
       "      <td>-0.002359</td>\n",
       "      <td>-0.042255</td>\n",
       "    </tr>\n",
       "    <tr>\n",
       "      <th>easytel.ne</th>\n",
       "      <td>0.001010</td>\n",
       "      <td>-0.021143</td>\n",
       "      <td>-0.026926</td>\n",
       "      <td>-0.014467</td>\n",
       "      <td>0.001241</td>\n",
       "      <td>-0.025156</td>\n",
       "      <td>-0.001667</td>\n",
       "      <td>-0.002044</td>\n",
       "      <td>-0.006672</td>\n",
       "      <td>-0.002362</td>\n",
       "      <td>...</td>\n",
       "      <td>-0.001667</td>\n",
       "      <td>-0.000833</td>\n",
       "      <td>-0.001865</td>\n",
       "      <td>-0.000833</td>\n",
       "      <td>-0.001178</td>\n",
       "      <td>-0.002044</td>\n",
       "      <td>-0.000833</td>\n",
       "      <td>-0.001865</td>\n",
       "      <td>-0.001667</td>\n",
       "      <td>-0.029866</td>\n",
       "    </tr>\n",
       "    <tr>\n",
       "      <th>excite.co</th>\n",
       "      <td>-0.024215</td>\n",
       "      <td>0.029216</td>\n",
       "      <td>0.019069</td>\n",
       "      <td>-0.029133</td>\n",
       "      <td>-0.021747</td>\n",
       "      <td>0.040931</td>\n",
       "      <td>-0.004730</td>\n",
       "      <td>-0.005798</td>\n",
       "      <td>-0.018926</td>\n",
       "      <td>-0.006700</td>\n",
       "      <td>...</td>\n",
       "      <td>-0.004730</td>\n",
       "      <td>-0.002362</td>\n",
       "      <td>-0.005290</td>\n",
       "      <td>-0.002362</td>\n",
       "      <td>-0.003342</td>\n",
       "      <td>-0.005798</td>\n",
       "      <td>-0.002362</td>\n",
       "      <td>-0.005290</td>\n",
       "      <td>-0.004730</td>\n",
       "      <td>-0.102959</td>\n",
       "    </tr>\n",
       "    <tr>\n",
       "      <th>altavis</th>\n",
       "      <td>0.059326</td>\n",
       "      <td>-0.000635</td>\n",
       "      <td>0.055179</td>\n",
       "      <td>-0.024633</td>\n",
       "      <td>-0.030266</td>\n",
       "      <td>-0.023091</td>\n",
       "      <td>-0.003339</td>\n",
       "      <td>-0.004093</td>\n",
       "      <td>-0.013361</td>\n",
       "      <td>-0.004730</td>\n",
       "      <td>...</td>\n",
       "      <td>1.000000</td>\n",
       "      <td>-0.001667</td>\n",
       "      <td>-0.003735</td>\n",
       "      <td>-0.001667</td>\n",
       "      <td>-0.002359</td>\n",
       "      <td>-0.004093</td>\n",
       "      <td>-0.001667</td>\n",
       "      <td>-0.003735</td>\n",
       "      <td>-0.003339</td>\n",
       "      <td>0.146177</td>\n",
       "    </tr>\n",
       "    <tr>\n",
       "      <th>disnow.co</th>\n",
       "      <td>-0.010992</td>\n",
       "      <td>-0.005707</td>\n",
       "      <td>-0.040906</td>\n",
       "      <td>-0.011760</td>\n",
       "      <td>0.037773</td>\n",
       "      <td>0.001004</td>\n",
       "      <td>-0.001667</td>\n",
       "      <td>-0.002044</td>\n",
       "      <td>-0.006672</td>\n",
       "      <td>-0.002362</td>\n",
       "      <td>...</td>\n",
       "      <td>-0.001667</td>\n",
       "      <td>1.000000</td>\n",
       "      <td>-0.001865</td>\n",
       "      <td>-0.000833</td>\n",
       "      <td>-0.001178</td>\n",
       "      <td>-0.002044</td>\n",
       "      <td>-0.000833</td>\n",
       "      <td>-0.001865</td>\n",
       "      <td>-0.001667</td>\n",
       "      <td>-0.029866</td>\n",
       "    </tr>\n",
       "    <tr>\n",
       "      <th>calcsea.or</th>\n",
       "      <td>0.071629</td>\n",
       "      <td>-0.023459</td>\n",
       "      <td>0.073073</td>\n",
       "      <td>-0.012995</td>\n",
       "      <td>0.025232</td>\n",
       "      <td>-0.041550</td>\n",
       "      <td>-0.003735</td>\n",
       "      <td>-0.004578</td>\n",
       "      <td>-0.014944</td>\n",
       "      <td>-0.005290</td>\n",
       "      <td>...</td>\n",
       "      <td>-0.003735</td>\n",
       "      <td>-0.001865</td>\n",
       "      <td>1.000000</td>\n",
       "      <td>-0.001865</td>\n",
       "      <td>-0.002639</td>\n",
       "      <td>-0.004578</td>\n",
       "      <td>-0.001865</td>\n",
       "      <td>-0.004177</td>\n",
       "      <td>-0.003735</td>\n",
       "      <td>-0.043855</td>\n",
       "    </tr>\n",
       "    <tr>\n",
       "      <th>mcdata.co</th>\n",
       "      <td>-0.046081</td>\n",
       "      <td>-0.023214</td>\n",
       "      <td>0.019310</td>\n",
       "      <td>0.002863</td>\n",
       "      <td>-0.012565</td>\n",
       "      <td>-0.027972</td>\n",
       "      <td>-0.001667</td>\n",
       "      <td>-0.002044</td>\n",
       "      <td>-0.006672</td>\n",
       "      <td>-0.002362</td>\n",
       "      <td>...</td>\n",
       "      <td>-0.001667</td>\n",
       "      <td>-0.000833</td>\n",
       "      <td>-0.001865</td>\n",
       "      <td>1.000000</td>\n",
       "      <td>-0.001178</td>\n",
       "      <td>-0.002044</td>\n",
       "      <td>-0.000833</td>\n",
       "      <td>-0.001865</td>\n",
       "      <td>-0.001667</td>\n",
       "      <td>-0.019580</td>\n",
       "    </tr>\n",
       "    <tr>\n",
       "      <th>bellsouth.ne</th>\n",
       "      <td>-0.002779</td>\n",
       "      <td>0.000497</td>\n",
       "      <td>0.010475</td>\n",
       "      <td>0.064584</td>\n",
       "      <td>-0.021384</td>\n",
       "      <td>-0.018371</td>\n",
       "      <td>-0.002359</td>\n",
       "      <td>-0.002892</td>\n",
       "      <td>-0.009439</td>\n",
       "      <td>-0.003342</td>\n",
       "      <td>...</td>\n",
       "      <td>-0.002359</td>\n",
       "      <td>-0.001178</td>\n",
       "      <td>-0.002639</td>\n",
       "      <td>-0.001178</td>\n",
       "      <td>1.000000</td>\n",
       "      <td>-0.002892</td>\n",
       "      <td>-0.001178</td>\n",
       "      <td>-0.002639</td>\n",
       "      <td>-0.002359</td>\n",
       "      <td>-0.027702</td>\n",
       "    </tr>\n",
       "    <tr>\n",
       "      <th>san.rr.co</th>\n",
       "      <td>-0.011001</td>\n",
       "      <td>0.220649</td>\n",
       "      <td>0.044103</td>\n",
       "      <td>-0.032853</td>\n",
       "      <td>0.197250</td>\n",
       "      <td>0.249951</td>\n",
       "      <td>-0.004093</td>\n",
       "      <td>-0.005017</td>\n",
       "      <td>-0.016377</td>\n",
       "      <td>-0.005798</td>\n",
       "      <td>...</td>\n",
       "      <td>-0.004093</td>\n",
       "      <td>-0.002044</td>\n",
       "      <td>-0.004578</td>\n",
       "      <td>-0.002044</td>\n",
       "      <td>-0.002892</td>\n",
       "      <td>1.000000</td>\n",
       "      <td>-0.002044</td>\n",
       "      <td>-0.004578</td>\n",
       "      <td>-0.004093</td>\n",
       "      <td>-0.022812</td>\n",
       "    </tr>\n",
       "    <tr>\n",
       "      <th>dechert.co</th>\n",
       "      <td>-0.016907</td>\n",
       "      <td>0.017502</td>\n",
       "      <td>0.022269</td>\n",
       "      <td>0.047274</td>\n",
       "      <td>0.037879</td>\n",
       "      <td>0.001004</td>\n",
       "      <td>-0.001667</td>\n",
       "      <td>-0.002044</td>\n",
       "      <td>-0.006672</td>\n",
       "      <td>-0.002362</td>\n",
       "      <td>...</td>\n",
       "      <td>-0.001667</td>\n",
       "      <td>-0.000833</td>\n",
       "      <td>-0.001865</td>\n",
       "      <td>-0.000833</td>\n",
       "      <td>-0.001178</td>\n",
       "      <td>-0.002044</td>\n",
       "      <td>1.000000</td>\n",
       "      <td>-0.001865</td>\n",
       "      <td>-0.001667</td>\n",
       "      <td>0.011279</td>\n",
       "    </tr>\n",
       "    <tr>\n",
       "      <th>yahoo.co</th>\n",
       "      <td>-0.050289</td>\n",
       "      <td>-0.041519</td>\n",
       "      <td>-0.057628</td>\n",
       "      <td>-0.025611</td>\n",
       "      <td>-0.006451</td>\n",
       "      <td>-0.046384</td>\n",
       "      <td>-0.003735</td>\n",
       "      <td>-0.004578</td>\n",
       "      <td>-0.014944</td>\n",
       "      <td>-0.005290</td>\n",
       "      <td>...</td>\n",
       "      <td>-0.003735</td>\n",
       "      <td>-0.001865</td>\n",
       "      <td>-0.004177</td>\n",
       "      <td>-0.001865</td>\n",
       "      <td>-0.002639</td>\n",
       "      <td>-0.004578</td>\n",
       "      <td>-0.001865</td>\n",
       "      <td>1.000000</td>\n",
       "      <td>-0.003735</td>\n",
       "      <td>-0.048463</td>\n",
       "    </tr>\n",
       "    <tr>\n",
       "      <th>mindspring.co</th>\n",
       "      <td>-0.085403</td>\n",
       "      <td>-0.040120</td>\n",
       "      <td>0.067610</td>\n",
       "      <td>-0.006196</td>\n",
       "      <td>-0.029418</td>\n",
       "      <td>-0.053903</td>\n",
       "      <td>-0.003339</td>\n",
       "      <td>-0.004093</td>\n",
       "      <td>-0.013361</td>\n",
       "      <td>-0.004730</td>\n",
       "      <td>...</td>\n",
       "      <td>-0.003339</td>\n",
       "      <td>-0.001667</td>\n",
       "      <td>-0.003735</td>\n",
       "      <td>-0.001667</td>\n",
       "      <td>-0.002359</td>\n",
       "      <td>-0.004093</td>\n",
       "      <td>-0.001667</td>\n",
       "      <td>-0.003735</td>\n",
       "      <td>1.000000</td>\n",
       "      <td>-0.039209</td>\n",
       "    </tr>\n",
       "    <tr>\n",
       "      <th>user_len</th>\n",
       "      <td>0.085795</td>\n",
       "      <td>-0.080043</td>\n",
       "      <td>0.012224</td>\n",
       "      <td>-0.135771</td>\n",
       "      <td>-0.054601</td>\n",
       "      <td>-0.103759</td>\n",
       "      <td>-0.064957</td>\n",
       "      <td>0.002437</td>\n",
       "      <td>-0.027177</td>\n",
       "      <td>-0.048248</td>\n",
       "      <td>...</td>\n",
       "      <td>0.146177</td>\n",
       "      <td>-0.029866</td>\n",
       "      <td>-0.043855</td>\n",
       "      <td>-0.019580</td>\n",
       "      <td>-0.027702</td>\n",
       "      <td>-0.022812</td>\n",
       "      <td>0.011279</td>\n",
       "      <td>-0.048463</td>\n",
       "      <td>-0.039209</td>\n",
       "      <td>1.000000</td>\n",
       "    </tr>\n",
       "  </tbody>\n",
       "</table>\n",
       "<p>46 rows × 46 columns</p>\n",
       "</div>"
      ],
      "text/plain": [
       "                 auctionid       bid   bidtime  bidderrate   openbid  \\\n",
       "auctionid         1.000000  0.076822 -0.014198    0.055943  0.007248   \n",
       "bid               0.076822  1.000000  0.218780   -0.000327  0.423217   \n",
       "bidtime          -0.014198  0.218780  1.000000    0.010255  0.170795   \n",
       "bidderrate        0.055943 -0.000327  0.010255    1.000000  0.169046   \n",
       "openbid           0.007248  0.423217  0.170795    0.169046  1.000000   \n",
       "price             0.075352  0.818606 -0.129658   -0.026945  0.331437   \n",
       "earthlink.ne     -0.003671 -0.010693 -0.022537    0.210440 -0.025269   \n",
       "verizon.ne       -0.114566 -0.038867  0.078114   -0.012912  0.021292   \n",
       "aol.co           -0.025450 -0.001855  0.047179    0.104688  0.018171   \n",
       "msn.co           -0.012382  0.035874 -0.058980   -0.015498  0.070586   \n",
       "tampabay.rr.co    0.034854 -0.019356  0.020326    0.002519 -0.021384   \n",
       "webtv.co               NaN       NaN       NaN         NaN       NaN   \n",
       "shadow.ne        -0.042713 -0.016978 -0.022057    0.053773  0.001241   \n",
       "amexol.ne        -0.044743 -0.064349 -0.007327   -0.033766 -0.027807   \n",
       "columbia.ed      -0.011251  0.000797 -0.031681   -0.014467 -0.005131   \n",
       "stargate.ne       0.011418 -0.023103  0.031317    0.066771 -0.009910   \n",
       "elliman.co        0.016009 -0.019250 -0.042980   -0.013384 -0.015114   \n",
       "scottsbluff.n     0.040876  0.055590  0.032356   -0.015009 -0.015114   \n",
       "btconnect.co     -0.040814 -0.016246 -0.033190   -0.030056  0.007058   \n",
       "northlink.co     -0.028655 -0.003767 -0.034980   -0.022263 -0.007789   \n",
       "ucnsb.ne         -0.023336 -0.025932 -0.031614   -0.012843 -0.014159   \n",
       "purplepicket.co  -0.004609 -0.033380 -0.047358    0.014779 -0.021532   \n",
       "netzero.n        -0.061043  0.010613  0.002189   -0.012806  0.027298   \n",
       "prodigy.ne       -0.026615  0.238446  0.043031    0.131326  0.158365   \n",
       "erols.co          0.016009 -0.010340 -0.043273    0.071104 -0.015114   \n",
       "mediaone.ne       0.020371  0.003890  0.037273    0.026882 -0.003791   \n",
       "wxs.n            -0.023921  0.005539  0.016854   -0.009741  0.053592   \n",
       "hotmail.co        0.016702  0.043831  0.050992   -0.029163  0.094903   \n",
       "mac.co            0.027752  0.018087 -0.062135   -0.017569 -0.026200   \n",
       "cs.co            -0.025199  0.158435  0.073189   -0.025126 -0.011493   \n",
       "wellsref.co      -0.004231 -0.011498  0.024341   -0.012301 -0.015114   \n",
       "slk.co            0.081853  0.101284 -0.010813   -0.030056 -0.030266   \n",
       "ti.co             0.029151 -0.021744  0.028607    0.114431 -0.007255   \n",
       "home.co          -0.014659  0.054700 -0.003742    0.003668 -0.021384   \n",
       "easytel.ne        0.001010 -0.021143 -0.026926   -0.014467  0.001241   \n",
       "excite.co        -0.024215  0.029216  0.019069   -0.029133 -0.021747   \n",
       "altavis           0.059326 -0.000635  0.055179   -0.024633 -0.030266   \n",
       "disnow.co        -0.010992 -0.005707 -0.040906   -0.011760  0.037773   \n",
       "calcsea.or        0.071629 -0.023459  0.073073   -0.012995  0.025232   \n",
       "mcdata.co        -0.046081 -0.023214  0.019310    0.002863 -0.012565   \n",
       "bellsouth.ne     -0.002779  0.000497  0.010475    0.064584 -0.021384   \n",
       "san.rr.co        -0.011001  0.220649  0.044103   -0.032853  0.197250   \n",
       "dechert.co       -0.016907  0.017502  0.022269    0.047274  0.037879   \n",
       "yahoo.co         -0.050289 -0.041519 -0.057628   -0.025611 -0.006451   \n",
       "mindspring.co    -0.085403 -0.040120  0.067610   -0.006196 -0.029418   \n",
       "user_len          0.085795 -0.080043  0.012224   -0.135771 -0.054601   \n",
       "\n",
       "                    price  earthlink.ne  verizon.ne    aol.co    msn.co  ...  \\\n",
       "auctionid        0.075352     -0.003671   -0.114566 -0.025450 -0.012382  ...   \n",
       "bid              0.818606     -0.010693   -0.038867 -0.001855  0.035874  ...   \n",
       "bidtime         -0.129658     -0.022537    0.078114  0.047179 -0.058980  ...   \n",
       "bidderrate      -0.026945      0.210440   -0.012912  0.104688 -0.015498  ...   \n",
       "openbid          0.331437     -0.025269    0.021292  0.018171  0.070586  ...   \n",
       "price            1.000000     -0.007418   -0.060411 -0.014592  0.063929  ...   \n",
       "earthlink.ne    -0.007418      1.000000   -0.004093 -0.013361 -0.004730  ...   \n",
       "verizon.ne      -0.060411     -0.004093    1.000000 -0.016377 -0.005798  ...   \n",
       "aol.co          -0.014592     -0.013361   -0.016377  1.000000 -0.018926  ...   \n",
       "msn.co           0.063929     -0.004730   -0.005798 -0.018926  1.000000  ...   \n",
       "tampabay.rr.co  -0.031222     -0.002359   -0.002892 -0.009439 -0.003342  ...   \n",
       "webtv.co              NaN           NaN         NaN       NaN       NaN  ...   \n",
       "shadow.ne       -0.018012     -0.001667   -0.002044 -0.006672 -0.002362  ...   \n",
       "amexol.ne       -0.073607     -0.005019   -0.006152 -0.020083 -0.007110  ...   \n",
       "columbia.ed      0.058229     -0.001667   -0.002044 -0.006672 -0.002362  ...   \n",
       "stargate.ne     -0.032114     -0.001667   -0.002044 -0.006672 -0.002362  ...   \n",
       "elliman.co       0.008307     -0.001667   -0.002044 -0.006672 -0.002362  ...   \n",
       "scottsbluff.n    0.032069     -0.001667   -0.002044 -0.006672 -0.002362  ...   \n",
       "btconnect.co     0.014352     -0.003339   -0.004093 -0.013361 -0.004730  ...   \n",
       "northlink.co     0.052127     -0.002890   -0.003543 -0.011566 -0.004094  ...   \n",
       "ucnsb.ne        -0.030606     -0.001667   -0.002044 -0.006672 -0.002362  ...   \n",
       "purplepicket.co -0.035848     -0.002359   -0.002892 -0.009439 -0.003342  ...   \n",
       "netzero.n        0.005960     -0.002359   -0.002892 -0.009439 -0.003342  ...   \n",
       "prodigy.ne       0.197280     -0.004093   -0.005017 -0.016377 -0.005798  ...   \n",
       "erols.co         0.008307     -0.001667   -0.002044 -0.006672 -0.002362  ...   \n",
       "mediaone.ne     -0.018908     -0.003339   -0.004093 -0.013361 -0.004730  ...   \n",
       "wxs.n            0.001420     -0.002359   -0.002892 -0.009439 -0.003342  ...   \n",
       "hotmail.co       0.030196     -0.005553   -0.006807 -0.022221 -0.007867  ...   \n",
       "mac.co           0.014400     -0.002890   -0.003543 -0.011566 -0.004094  ...   \n",
       "cs.co            0.130422     -0.003735   -0.004578 -0.014944 -0.005290  ...   \n",
       "wellsref.co     -0.022649     -0.001667   -0.002044 -0.006672 -0.002362  ...   \n",
       "slk.co           0.064218     -0.003339   -0.004093 -0.013361 -0.004730  ...   \n",
       "ti.co           -0.029716     -0.001667   -0.002044 -0.006672 -0.002362  ...   \n",
       "home.co          0.057400     -0.002359   -0.002892 -0.009439 -0.003342  ...   \n",
       "easytel.ne      -0.025156     -0.001667   -0.002044 -0.006672 -0.002362  ...   \n",
       "excite.co        0.040931     -0.004730   -0.005798 -0.018926 -0.006700  ...   \n",
       "altavis         -0.023091     -0.003339   -0.004093 -0.013361 -0.004730  ...   \n",
       "disnow.co        0.001004     -0.001667   -0.002044 -0.006672 -0.002362  ...   \n",
       "calcsea.or      -0.041550     -0.003735   -0.004578 -0.014944 -0.005290  ...   \n",
       "mcdata.co       -0.027972     -0.001667   -0.002044 -0.006672 -0.002362  ...   \n",
       "bellsouth.ne    -0.018371     -0.002359   -0.002892 -0.009439 -0.003342  ...   \n",
       "san.rr.co        0.249951     -0.004093   -0.005017 -0.016377 -0.005798  ...   \n",
       "dechert.co       0.001004     -0.001667   -0.002044 -0.006672 -0.002362  ...   \n",
       "yahoo.co        -0.046384     -0.003735   -0.004578 -0.014944 -0.005290  ...   \n",
       "mindspring.co   -0.053903     -0.003339   -0.004093 -0.013361 -0.004730  ...   \n",
       "user_len        -0.103759     -0.064957    0.002437 -0.027177 -0.048248  ...   \n",
       "\n",
       "                  altavis  disnow.co  calcsea.or  mcdata.co  bellsouth.ne  \\\n",
       "auctionid        0.059326  -0.010992    0.071629  -0.046081     -0.002779   \n",
       "bid             -0.000635  -0.005707   -0.023459  -0.023214      0.000497   \n",
       "bidtime          0.055179  -0.040906    0.073073   0.019310      0.010475   \n",
       "bidderrate      -0.024633  -0.011760   -0.012995   0.002863      0.064584   \n",
       "openbid         -0.030266   0.037773    0.025232  -0.012565     -0.021384   \n",
       "price           -0.023091   0.001004   -0.041550  -0.027972     -0.018371   \n",
       "earthlink.ne    -0.003339  -0.001667   -0.003735  -0.001667     -0.002359   \n",
       "verizon.ne      -0.004093  -0.002044   -0.004578  -0.002044     -0.002892   \n",
       "aol.co          -0.013361  -0.006672   -0.014944  -0.006672     -0.009439   \n",
       "msn.co          -0.004730  -0.002362   -0.005290  -0.002362     -0.003342   \n",
       "tampabay.rr.co  -0.002359  -0.001178   -0.002639  -0.001178     -0.001667   \n",
       "webtv.co              NaN        NaN         NaN        NaN           NaN   \n",
       "shadow.ne       -0.001667  -0.000833   -0.001865  -0.000833     -0.001178   \n",
       "amexol.ne       -0.005019  -0.002506   -0.005614  -0.002506     -0.003546   \n",
       "columbia.ed     -0.001667  -0.000833   -0.001865  -0.000833     -0.001178   \n",
       "stargate.ne     -0.001667  -0.000833   -0.001865  -0.000833     -0.001178   \n",
       "elliman.co      -0.001667  -0.000833   -0.001865  -0.000833     -0.001178   \n",
       "scottsbluff.n   -0.001667  -0.000833   -0.001865  -0.000833     -0.001178   \n",
       "btconnect.co    -0.003339  -0.001667   -0.003735  -0.001667     -0.002359   \n",
       "northlink.co    -0.002890  -0.001443   -0.003233  -0.001443     -0.002042   \n",
       "ucnsb.ne        -0.001667  -0.000833   -0.001865  -0.000833     -0.001178   \n",
       "purplepicket.co -0.002359  -0.001178   -0.002639  -0.001178     -0.001667   \n",
       "netzero.n       -0.002359  -0.001178   -0.002639  -0.001178     -0.001667   \n",
       "prodigy.ne      -0.004093  -0.002044   -0.004578  -0.002044     -0.002892   \n",
       "erols.co        -0.001667  -0.000833   -0.001865  -0.000833     -0.001178   \n",
       "mediaone.ne     -0.003339  -0.001667   -0.003735  -0.001667     -0.002359   \n",
       "wxs.n           -0.002359  -0.001178   -0.002639  -0.001178     -0.001667   \n",
       "hotmail.co      -0.005553  -0.002773   -0.006211  -0.002773     -0.003923   \n",
       "mac.co          -0.002890  -0.001443   -0.003233  -0.001443     -0.002042   \n",
       "cs.co           -0.003735  -0.001865   -0.004177  -0.001865     -0.002639   \n",
       "wellsref.co     -0.001667  -0.000833   -0.001865  -0.000833     -0.001178   \n",
       "slk.co          -0.003339  -0.001667   -0.003735  -0.001667     -0.002359   \n",
       "ti.co           -0.001667  -0.000833   -0.001865  -0.000833     -0.001178   \n",
       "home.co         -0.002359  -0.001178   -0.002639  -0.001178     -0.001667   \n",
       "easytel.ne      -0.001667  -0.000833   -0.001865  -0.000833     -0.001178   \n",
       "excite.co       -0.004730  -0.002362   -0.005290  -0.002362     -0.003342   \n",
       "altavis          1.000000  -0.001667   -0.003735  -0.001667     -0.002359   \n",
       "disnow.co       -0.001667   1.000000   -0.001865  -0.000833     -0.001178   \n",
       "calcsea.or      -0.003735  -0.001865    1.000000  -0.001865     -0.002639   \n",
       "mcdata.co       -0.001667  -0.000833   -0.001865   1.000000     -0.001178   \n",
       "bellsouth.ne    -0.002359  -0.001178   -0.002639  -0.001178      1.000000   \n",
       "san.rr.co       -0.004093  -0.002044   -0.004578  -0.002044     -0.002892   \n",
       "dechert.co      -0.001667  -0.000833   -0.001865  -0.000833     -0.001178   \n",
       "yahoo.co        -0.003735  -0.001865   -0.004177  -0.001865     -0.002639   \n",
       "mindspring.co   -0.003339  -0.001667   -0.003735  -0.001667     -0.002359   \n",
       "user_len         0.146177  -0.029866   -0.043855  -0.019580     -0.027702   \n",
       "\n",
       "                 san.rr.co  dechert.co  yahoo.co  mindspring.co  user_len  \n",
       "auctionid        -0.011001   -0.016907 -0.050289      -0.085403  0.085795  \n",
       "bid               0.220649    0.017502 -0.041519      -0.040120 -0.080043  \n",
       "bidtime           0.044103    0.022269 -0.057628       0.067610  0.012224  \n",
       "bidderrate       -0.032853    0.047274 -0.025611      -0.006196 -0.135771  \n",
       "openbid           0.197250    0.037879 -0.006451      -0.029418 -0.054601  \n",
       "price             0.249951    0.001004 -0.046384      -0.053903 -0.103759  \n",
       "earthlink.ne     -0.004093   -0.001667 -0.003735      -0.003339 -0.064957  \n",
       "verizon.ne       -0.005017   -0.002044 -0.004578      -0.004093  0.002437  \n",
       "aol.co           -0.016377   -0.006672 -0.014944      -0.013361 -0.027177  \n",
       "msn.co           -0.005798   -0.002362 -0.005290      -0.004730 -0.048248  \n",
       "tampabay.rr.co   -0.002892   -0.001178 -0.002639      -0.002359 -0.013149  \n",
       "webtv.co               NaN         NaN       NaN            NaN       NaN  \n",
       "shadow.ne        -0.002044   -0.000833 -0.001865      -0.001667  0.011279  \n",
       "amexol.ne        -0.006152   -0.002506 -0.005614      -0.005019  0.002988  \n",
       "columbia.ed      -0.002044   -0.000833 -0.001865      -0.001667 -0.040153  \n",
       "stargate.ne      -0.002044   -0.000833 -0.001865      -0.001667 -0.040153  \n",
       "elliman.co       -0.002044   -0.000833 -0.001865      -0.001667 -0.019580  \n",
       "scottsbluff.n    -0.002044   -0.000833 -0.001865      -0.001667  0.011279  \n",
       "btconnect.co     -0.004093   -0.001667 -0.003735      -0.003339  0.022586  \n",
       "northlink.co     -0.003543   -0.001443 -0.003233      -0.002890 -0.051773  \n",
       "ucnsb.ne         -0.002044   -0.000833 -0.001865      -0.001667 -0.040153  \n",
       "purplepicket.co  -0.002892   -0.001178 -0.002639      -0.002359 -0.056808  \n",
       "netzero.n        -0.002892   -0.001178 -0.002639      -0.002359  0.074170  \n",
       "prodigy.ne       -0.005017   -0.002044 -0.004578      -0.004093 -0.056478  \n",
       "erols.co         -0.002044   -0.000833 -0.001865      -0.001667 -0.009294  \n",
       "mediaone.ne      -0.004093   -0.001667 -0.003735      -0.003339 -0.090705  \n",
       "wxs.n            -0.002892   -0.001178 -0.002639      -0.002359 -0.013149  \n",
       "hotmail.co       -0.006807   -0.002773 -0.006211      -0.005553 -0.012266  \n",
       "mac.co           -0.003543   -0.001443 -0.003233      -0.002890 -0.016111  \n",
       "cs.co            -0.004578   -0.001865 -0.004177      -0.003735  0.025263  \n",
       "wellsref.co      -0.002044   -0.000833 -0.001865      -0.001667 -0.071012  \n",
       "slk.co           -0.004093   -0.001667 -0.003735      -0.003339  0.043185  \n",
       "ti.co            -0.002044   -0.000833 -0.001865      -0.001667 -0.050439  \n",
       "home.co          -0.002892   -0.001178 -0.002639      -0.002359 -0.042255  \n",
       "easytel.ne       -0.002044   -0.000833 -0.001865      -0.001667 -0.029866  \n",
       "excite.co        -0.005798   -0.002362 -0.005290      -0.004730 -0.102959  \n",
       "altavis          -0.004093   -0.001667 -0.003735      -0.003339  0.146177  \n",
       "disnow.co        -0.002044   -0.000833 -0.001865      -0.001667 -0.029866  \n",
       "calcsea.or       -0.004578   -0.001865 -0.004177      -0.003735 -0.043855  \n",
       "mcdata.co        -0.002044   -0.000833 -0.001865      -0.001667 -0.019580  \n",
       "bellsouth.ne     -0.002892   -0.001178 -0.002639      -0.002359 -0.027702  \n",
       "san.rr.co         1.000000   -0.002044 -0.004578      -0.004093 -0.022812  \n",
       "dechert.co       -0.002044    1.000000 -0.001865      -0.001667  0.011279  \n",
       "yahoo.co         -0.004578   -0.001865  1.000000      -0.003735 -0.048463  \n",
       "mindspring.co    -0.004093   -0.001667 -0.003735       1.000000 -0.039209  \n",
       "user_len         -0.022812    0.011279 -0.048463      -0.039209  1.000000  \n",
       "\n",
       "[46 rows x 46 columns]"
      ]
     },
     "execution_count": 418,
     "metadata": {},
     "output_type": "execute_result"
    }
   ],
   "source": [
    "df.corr()"
   ]
  },
  {
   "cell_type": "code",
   "execution_count": 419,
   "metadata": {},
   "outputs": [],
   "source": [
    "# Dropping since it's value was present in some outlier\n",
    "df=df.drop(['webtv.co'],axis=1)"
   ]
  },
  {
   "cell_type": "code",
   "execution_count": 420,
   "metadata": {},
   "outputs": [],
   "source": [
    "# dropping bid since bid and price are highly correlated\n",
    "df=df.drop(['bid'],axis=1)"
   ]
  },
  {
   "cell_type": "code",
   "execution_count": 421,
   "metadata": {},
   "outputs": [
    {
     "data": {
      "text/html": [
       "<div>\n",
       "<style scoped>\n",
       "    .dataframe tbody tr th:only-of-type {\n",
       "        vertical-align: middle;\n",
       "    }\n",
       "\n",
       "    .dataframe tbody tr th {\n",
       "        vertical-align: top;\n",
       "    }\n",
       "\n",
       "    .dataframe thead th {\n",
       "        text-align: right;\n",
       "    }\n",
       "</style>\n",
       "<table border=\"1\" class=\"dataframe\">\n",
       "  <thead>\n",
       "    <tr style=\"text-align: right;\">\n",
       "      <th></th>\n",
       "      <th>auctionid</th>\n",
       "      <th>bidtime</th>\n",
       "      <th>bidder</th>\n",
       "      <th>bidderrate</th>\n",
       "      <th>openbid</th>\n",
       "      <th>price</th>\n",
       "      <th>earthlink.ne</th>\n",
       "      <th>verizon.ne</th>\n",
       "      <th>aol.co</th>\n",
       "      <th>msn.co</th>\n",
       "      <th>...</th>\n",
       "      <th>altavis</th>\n",
       "      <th>disnow.co</th>\n",
       "      <th>calcsea.or</th>\n",
       "      <th>mcdata.co</th>\n",
       "      <th>bellsouth.ne</th>\n",
       "      <th>san.rr.co</th>\n",
       "      <th>dechert.co</th>\n",
       "      <th>yahoo.co</th>\n",
       "      <th>mindspring.co</th>\n",
       "      <th>user_len</th>\n",
       "    </tr>\n",
       "  </thead>\n",
       "  <tbody>\n",
       "    <tr>\n",
       "      <th>0</th>\n",
       "      <td>1644594033</td>\n",
       "      <td>6.999456</td>\n",
       "      <td>boraborabora</td>\n",
       "      <td>67</td>\n",
       "      <td>9.99</td>\n",
       "      <td>498.00</td>\n",
       "      <td>0</td>\n",
       "      <td>0</td>\n",
       "      <td>0</td>\n",
       "      <td>0</td>\n",
       "      <td>...</td>\n",
       "      <td>0</td>\n",
       "      <td>0</td>\n",
       "      <td>0</td>\n",
       "      <td>0</td>\n",
       "      <td>0</td>\n",
       "      <td>0</td>\n",
       "      <td>0</td>\n",
       "      <td>0</td>\n",
       "      <td>0</td>\n",
       "      <td>12</td>\n",
       "    </tr>\n",
       "    <tr>\n",
       "      <th>1</th>\n",
       "      <td>1639309309</td>\n",
       "      <td>1.669618</td>\n",
       "      <td>aclbjc</td>\n",
       "      <td>0</td>\n",
       "      <td>1.00</td>\n",
       "      <td>374.99</td>\n",
       "      <td>0</td>\n",
       "      <td>0</td>\n",
       "      <td>0</td>\n",
       "      <td>0</td>\n",
       "      <td>...</td>\n",
       "      <td>0</td>\n",
       "      <td>0</td>\n",
       "      <td>0</td>\n",
       "      <td>0</td>\n",
       "      <td>0</td>\n",
       "      <td>0</td>\n",
       "      <td>0</td>\n",
       "      <td>0</td>\n",
       "      <td>0</td>\n",
       "      <td>6</td>\n",
       "    </tr>\n",
       "    <tr>\n",
       "      <th>2</th>\n",
       "      <td>1644109746</td>\n",
       "      <td>6.917986</td>\n",
       "      <td>nelsoncpm</td>\n",
       "      <td>7</td>\n",
       "      <td>1.00</td>\n",
       "      <td>3103.00</td>\n",
       "      <td>0</td>\n",
       "      <td>0</td>\n",
       "      <td>0</td>\n",
       "      <td>0</td>\n",
       "      <td>...</td>\n",
       "      <td>0</td>\n",
       "      <td>0</td>\n",
       "      <td>0</td>\n",
       "      <td>0</td>\n",
       "      <td>0</td>\n",
       "      <td>0</td>\n",
       "      <td>0</td>\n",
       "      <td>0</td>\n",
       "      <td>0</td>\n",
       "      <td>9</td>\n",
       "    </tr>\n",
       "    <tr>\n",
       "      <th>3</th>\n",
       "      <td>1649858595</td>\n",
       "      <td>3.107014</td>\n",
       "      <td>pialu9</td>\n",
       "      <td>4</td>\n",
       "      <td>7.99</td>\n",
       "      <td>202.50</td>\n",
       "      <td>0</td>\n",
       "      <td>0</td>\n",
       "      <td>0</td>\n",
       "      <td>0</td>\n",
       "      <td>...</td>\n",
       "      <td>0</td>\n",
       "      <td>0</td>\n",
       "      <td>0</td>\n",
       "      <td>0</td>\n",
       "      <td>0</td>\n",
       "      <td>0</td>\n",
       "      <td>0</td>\n",
       "      <td>0</td>\n",
       "      <td>0</td>\n",
       "      <td>6</td>\n",
       "    </tr>\n",
       "    <tr>\n",
       "      <th>4</th>\n",
       "      <td>1647846714</td>\n",
       "      <td>2.721319</td>\n",
       "      <td>geemeetee</td>\n",
       "      <td>17</td>\n",
       "      <td>1.00</td>\n",
       "      <td>905.45</td>\n",
       "      <td>0</td>\n",
       "      <td>0</td>\n",
       "      <td>1</td>\n",
       "      <td>0</td>\n",
       "      <td>...</td>\n",
       "      <td>0</td>\n",
       "      <td>0</td>\n",
       "      <td>0</td>\n",
       "      <td>0</td>\n",
       "      <td>0</td>\n",
       "      <td>0</td>\n",
       "      <td>0</td>\n",
       "      <td>0</td>\n",
       "      <td>0</td>\n",
       "      <td>9</td>\n",
       "    </tr>\n",
       "  </tbody>\n",
       "</table>\n",
       "<p>5 rows × 45 columns</p>\n",
       "</div>"
      ],
      "text/plain": [
       "    auctionid   bidtime        bidder  bidderrate  openbid    price  \\\n",
       "0  1644594033  6.999456  boraborabora          67     9.99   498.00   \n",
       "1  1639309309  1.669618        aclbjc           0     1.00   374.99   \n",
       "2  1644109746  6.917986     nelsoncpm           7     1.00  3103.00   \n",
       "3  1649858595  3.107014        pialu9           4     7.99   202.50   \n",
       "4  1647846714  2.721319     geemeetee          17     1.00   905.45   \n",
       "\n",
       "   earthlink.ne  verizon.ne  aol.co  msn.co  ...  altavis  disnow.co  \\\n",
       "0             0           0       0       0  ...        0          0   \n",
       "1             0           0       0       0  ...        0          0   \n",
       "2             0           0       0       0  ...        0          0   \n",
       "3             0           0       0       0  ...        0          0   \n",
       "4             0           0       1       0  ...        0          0   \n",
       "\n",
       "   calcsea.or  mcdata.co  bellsouth.ne  san.rr.co  dechert.co  yahoo.co  \\\n",
       "0           0          0             0          0           0         0   \n",
       "1           0          0             0          0           0         0   \n",
       "2           0          0             0          0           0         0   \n",
       "3           0          0             0          0           0         0   \n",
       "4           0          0             0          0           0         0   \n",
       "\n",
       "   mindspring.co  user_len  \n",
       "0              0        12  \n",
       "1              0         6  \n",
       "2              0         9  \n",
       "3              0         6  \n",
       "4              0         9  \n",
       "\n",
       "[5 rows x 45 columns]"
      ]
     },
     "execution_count": 421,
     "metadata": {},
     "output_type": "execute_result"
    }
   ],
   "source": [
    "df.head()"
   ]
  },
  {
   "cell_type": "code",
   "execution_count": 422,
   "metadata": {},
   "outputs": [
    {
     "data": {
      "text/plain": [
       "Index(['auctionid', 'bidtime', 'bidder', 'bidderrate', 'openbid', 'price',\n",
       "       'earthlink.ne', 'verizon.ne', 'aol.co', 'msn.co', 'tampabay.rr.co',\n",
       "       'shadow.ne', 'amexol.ne', 'columbia.ed', 'stargate.ne', 'elliman.co',\n",
       "       'scottsbluff.n', 'btconnect.co', 'northlink.co', 'ucnsb.ne',\n",
       "       'purplepicket.co', 'netzero.n', 'prodigy.ne', 'erols.co', 'mediaone.ne',\n",
       "       'wxs.n', 'hotmail.co', 'mac.co', 'cs.co', 'wellsref.co', 'slk.co',\n",
       "       'ti.co', 'home.co', 'easytel.ne', 'excite.co', 'altavis', 'disnow.co',\n",
       "       'calcsea.or', 'mcdata.co', 'bellsouth.ne', 'san.rr.co', 'dechert.co',\n",
       "       'yahoo.co', 'mindspring.co', 'user_len'],\n",
       "      dtype='object')"
      ]
     },
     "execution_count": 422,
     "metadata": {},
     "output_type": "execute_result"
    }
   ],
   "source": [
    "df.columns"
   ]
  },
  {
   "cell_type": "markdown",
   "metadata": {},
   "source": [
    "### Making model"
   ]
  },
  {
   "cell_type": "code",
   "execution_count": 423,
   "metadata": {},
   "outputs": [],
   "source": [
    "x=corr_col.drop(['price','bidder'],axis=1)\n",
    "y=corr_col.price.values"
   ]
  },
  {
   "cell_type": "code",
   "execution_count": 424,
   "metadata": {},
   "outputs": [],
   "source": [
    "x_train,x_test,y_train,y_test=train_test_split(x,y,test_size=0.2)"
   ]
  },
  {
   "cell_type": "code",
   "execution_count": 425,
   "metadata": {},
   "outputs": [],
   "source": [
    "X_sm=sm.add_constant(x)\n",
    "model=sm.OLS(y,X_sm)"
   ]
  },
  {
   "cell_type": "code",
   "execution_count": 426,
   "metadata": {},
   "outputs": [
    {
     "data": {
      "text/html": [
       "<table class=\"simpletable\">\n",
       "<caption>OLS Regression Results</caption>\n",
       "<tr>\n",
       "  <th>Dep. Variable:</th>            <td>y</td>        <th>  R-squared:         </th> <td>   0.772</td> \n",
       "</tr>\n",
       "<tr>\n",
       "  <th>Model:</th>                   <td>OLS</td>       <th>  Adj. R-squared:    </th> <td>   0.771</td> \n",
       "</tr>\n",
       "<tr>\n",
       "  <th>Method:</th>             <td>Least Squares</td>  <th>  F-statistic:       </th> <td>   674.9</td> \n",
       "</tr>\n",
       "<tr>\n",
       "  <th>Date:</th>             <td>Mon, 28 Dec 2020</td> <th>  Prob (F-statistic):</th>  <td>  0.00</td>  \n",
       "</tr>\n",
       "<tr>\n",
       "  <th>Time:</th>                 <td>13:58:07</td>     <th>  Log-Likelihood:    </th> <td> -8842.8</td> \n",
       "</tr>\n",
       "<tr>\n",
       "  <th>No. Observations:</th>      <td>  1202</td>      <th>  AIC:               </th> <td>1.770e+04</td>\n",
       "</tr>\n",
       "<tr>\n",
       "  <th>Df Residuals:</th>          <td>  1195</td>      <th>  BIC:               </th> <td>1.774e+04</td>\n",
       "</tr>\n",
       "<tr>\n",
       "  <th>Df Model:</th>              <td>     6</td>      <th>                     </th>     <td> </td>    \n",
       "</tr>\n",
       "<tr>\n",
       "  <th>Covariance Type:</th>      <td>nonrobust</td>    <th>                     </th>     <td> </td>    \n",
       "</tr>\n",
       "</table>\n",
       "<table class=\"simpletable\">\n",
       "<tr>\n",
       "       <td></td>         <th>coef</th>     <th>std err</th>      <th>t</th>      <th>P>|t|</th>  <th>[0.025</th>    <th>0.975]</th>  \n",
       "</tr>\n",
       "<tr>\n",
       "  <th>const</th>      <td>-2023.4418</td> <td> 5121.238</td> <td>   -0.395</td> <td> 0.693</td> <td>-1.21e+04</td> <td> 8024.177</td>\n",
       "</tr>\n",
       "<tr>\n",
       "  <th>auctionid</th>  <td> 1.732e-06</td> <td> 3.12e-06</td> <td>    0.556</td> <td> 0.579</td> <td>-4.38e-06</td> <td> 7.85e-06</td>\n",
       "</tr>\n",
       "<tr>\n",
       "  <th>bid</th>        <td>    1.0770</td> <td>    0.019</td> <td>   56.233</td> <td> 0.000</td> <td>    1.039</td> <td>    1.115</td>\n",
       "</tr>\n",
       "<tr>\n",
       "  <th>bidtime</th>    <td> -102.8150</td> <td>    4.511</td> <td>  -22.792</td> <td> 0.000</td> <td> -111.666</td> <td>  -93.964</td>\n",
       "</tr>\n",
       "<tr>\n",
       "  <th>bidderrate</th> <td>   -0.4684</td> <td>    0.212</td> <td>   -2.209</td> <td> 0.027</td> <td>   -0.884</td> <td>   -0.052</td>\n",
       "</tr>\n",
       "<tr>\n",
       "  <th>openbid</th>    <td>    0.0540</td> <td>    0.046</td> <td>    1.185</td> <td> 0.236</td> <td>   -0.035</td> <td>    0.143</td>\n",
       "</tr>\n",
       "<tr>\n",
       "  <th>user_len</th>   <td>   -9.4584</td> <td>    3.982</td> <td>   -2.375</td> <td> 0.018</td> <td>  -17.271</td> <td>   -1.646</td>\n",
       "</tr>\n",
       "</table>\n",
       "<table class=\"simpletable\">\n",
       "<tr>\n",
       "  <th>Omnibus:</th>       <td>464.012</td> <th>  Durbin-Watson:     </th> <td>   2.084</td>\n",
       "</tr>\n",
       "<tr>\n",
       "  <th>Prob(Omnibus):</th> <td> 0.000</td>  <th>  Jarque-Bera (JB):  </th> <td>2246.846</td>\n",
       "</tr>\n",
       "<tr>\n",
       "  <th>Skew:</th>          <td> 1.755</td>  <th>  Prob(JB):          </th> <td>    0.00</td>\n",
       "</tr>\n",
       "<tr>\n",
       "  <th>Kurtosis:</th>      <td> 8.705</td>  <th>  Cond. No.          </th> <td>7.68e+11</td>\n",
       "</tr>\n",
       "</table><br/><br/>Warnings:<br/>[1] Standard Errors assume that the covariance matrix of the errors is correctly specified.<br/>[2] The condition number is large, 7.68e+11. This might indicate that there are<br/>strong multicollinearity or other numerical problems."
      ],
      "text/plain": [
       "<class 'statsmodels.iolib.summary.Summary'>\n",
       "\"\"\"\n",
       "                            OLS Regression Results                            \n",
       "==============================================================================\n",
       "Dep. Variable:                      y   R-squared:                       0.772\n",
       "Model:                            OLS   Adj. R-squared:                  0.771\n",
       "Method:                 Least Squares   F-statistic:                     674.9\n",
       "Date:                Mon, 28 Dec 2020   Prob (F-statistic):               0.00\n",
       "Time:                        13:58:07   Log-Likelihood:                -8842.8\n",
       "No. Observations:                1202   AIC:                         1.770e+04\n",
       "Df Residuals:                    1195   BIC:                         1.774e+04\n",
       "Df Model:                           6                                         \n",
       "Covariance Type:            nonrobust                                         \n",
       "==============================================================================\n",
       "                 coef    std err          t      P>|t|      [0.025      0.975]\n",
       "------------------------------------------------------------------------------\n",
       "const      -2023.4418   5121.238     -0.395      0.693   -1.21e+04    8024.177\n",
       "auctionid   1.732e-06   3.12e-06      0.556      0.579   -4.38e-06    7.85e-06\n",
       "bid            1.0770      0.019     56.233      0.000       1.039       1.115\n",
       "bidtime     -102.8150      4.511    -22.792      0.000    -111.666     -93.964\n",
       "bidderrate    -0.4684      0.212     -2.209      0.027      -0.884      -0.052\n",
       "openbid        0.0540      0.046      1.185      0.236      -0.035       0.143\n",
       "user_len      -9.4584      3.982     -2.375      0.018     -17.271      -1.646\n",
       "==============================================================================\n",
       "Omnibus:                      464.012   Durbin-Watson:                   2.084\n",
       "Prob(Omnibus):                  0.000   Jarque-Bera (JB):             2246.846\n",
       "Skew:                           1.755   Prob(JB):                         0.00\n",
       "Kurtosis:                       8.705   Cond. No.                     7.68e+11\n",
       "==============================================================================\n",
       "\n",
       "Warnings:\n",
       "[1] Standard Errors assume that the covariance matrix of the errors is correctly specified.\n",
       "[2] The condition number is large, 7.68e+11. This might indicate that there are\n",
       "strong multicollinearity or other numerical problems.\n",
       "\"\"\""
      ]
     },
     "execution_count": 426,
     "metadata": {},
     "output_type": "execute_result"
    }
   ],
   "source": [
    "model.fit().summary()"
   ]
  },
  {
   "cell_type": "code",
   "execution_count": 427,
   "metadata": {},
   "outputs": [
    {
     "data": {
      "text/plain": [
       "LinearRegression(copy_X=True, fit_intercept=True, n_jobs=None, normalize=False)"
      ]
     },
     "execution_count": 427,
     "metadata": {},
     "output_type": "execute_result"
    }
   ],
   "source": [
    "# Multiple linear regression\n",
    "lm=LinearRegression()\n",
    "lm.fit(x_train,y_train)"
   ]
  },
  {
   "cell_type": "code",
   "execution_count": 428,
   "metadata": {},
   "outputs": [
    {
     "data": {
      "text/plain": [
       "-259.9060916533931"
      ]
     },
     "execution_count": 428,
     "metadata": {},
     "output_type": "execute_result"
    }
   ],
   "source": [
    "np.mean(cross_val_score(lm,x_train,y_train,scoring='neg_mean_absolute_error',cv=3))"
   ]
  },
  {
   "cell_type": "code",
   "execution_count": 429,
   "metadata": {},
   "outputs": [],
   "source": [
    "# The above score shows that we are on average off by rs 248 from the real value\n",
    "# Lasso regression is another approach where it will normalize any bigger values"
   ]
  },
  {
   "cell_type": "code",
   "execution_count": 437,
   "metadata": {},
   "outputs": [
    {
     "data": {
      "text/plain": [
       "-259.3974209320244"
      ]
     },
     "execution_count": 437,
     "metadata": {},
     "output_type": "execute_result"
    }
   ],
   "source": [
    "# Lasso regression\n",
    "lm_l=Lasso(alpha=26.5)\n",
    "lm_l.fit(x_train,y_train)\n",
    "np.mean(cross_val_score(lm_l,x_train,y_train,scoring='neg_mean_absolute_error',cv=3))"
   ]
  },
  {
   "cell_type": "code",
   "execution_count": 435,
   "metadata": {},
   "outputs": [
    {
     "data": {
      "text/plain": [
       "[<matplotlib.lines.Line2D at 0x20c936ba608>]"
      ]
     },
     "execution_count": 435,
     "metadata": {},
     "output_type": "execute_result"
    },
    {
     "data": {
      "image/png": "[encoded data removed]",
      "text/plain": [
       "<Figure size 432x288 with 1 Axes>"
      ]
     },
     "metadata": {
      "needs_background": "light"
     },
     "output_type": "display_data"
    }
   ],
   "source": [
    "alpha=[]\n",
    "error=[]\n",
    "for i in range(1,100):\n",
    "    alpha.append(i/2)\n",
    "    lml=Lasso(alpha=i/2)\n",
    "    error.append(np.mean(cross_val_score(lml,x_train,y_train,scoring='neg_mean_absolute_error',cv=3)))\n",
    "plt.plot(alpha,error)"
   ]
  },
  {
   "cell_type": "code",
   "execution_count": 436,
   "metadata": {},
   "outputs": [
    {
     "data": {
      "text/html": [
       "<div>\n",
       "<style scoped>\n",
       "    .dataframe tbody tr th:only-of-type {\n",
       "        vertical-align: middle;\n",
       "    }\n",
       "\n",
       "    .dataframe tbody tr th {\n",
       "        vertical-align: top;\n",
       "    }\n",
       "\n",
       "    .dataframe thead th {\n",
       "        text-align: right;\n",
       "    }\n",
       "</style>\n",
       "<table border=\"1\" class=\"dataframe\">\n",
       "  <thead>\n",
       "    <tr style=\"text-align: right;\">\n",
       "      <th></th>\n",
       "      <th>alpha</th>\n",
       "      <th>error</th>\n",
       "    </tr>\n",
       "  </thead>\n",
       "  <tbody>\n",
       "    <tr>\n",
       "      <th>52</th>\n",
       "      <td>26.5</td>\n",
       "      <td>-259.397421</td>\n",
       "    </tr>\n",
       "  </tbody>\n",
       "</table>\n",
       "</div>"
      ],
      "text/plain": [
       "    alpha       error\n",
       "52   26.5 -259.397421"
      ]
     },
     "execution_count": 436,
     "metadata": {},
     "output_type": "execute_result"
    }
   ],
   "source": [
    "err=tuple(zip(alpha,error))\n",
    "df_err=pd.DataFrame(err,columns=['alpha','error'])\n",
    "df_err[df_err.error==max(df_err.error)]"
   ]
  },
  {
   "cell_type": "code",
   "execution_count": 438,
   "metadata": {},
   "outputs": [],
   "source": [
    "# At alpha of 26.5 lasso regression gives slighty better model"
   ]
  },
  {
   "cell_type": "code",
   "execution_count": 439,
   "metadata": {},
   "outputs": [
    {
     "data": {
      "text/plain": [
       "-162.76172916926274"
      ]
     },
     "execution_count": 439,
     "metadata": {},
     "output_type": "execute_result"
    }
   ],
   "source": [
    "# Random forest regression\n",
    "rf=RandomForestRegressor()\n",
    "np.mean(cross_val_score(rf,x_train,y_train,scoring='neg_mean_absolute_error',cv=3))"
   ]
  },
  {
   "cell_type": "code",
   "execution_count": 440,
   "metadata": {},
   "outputs": [],
   "source": [
    "# Tune models using grid search\n",
    "parameters={'n_estimators':range(10,300,10),'criterion':('mse','mae'),'max_features':('auto','sqrt','log2')}"
   ]
  },
  {
   "cell_type": "code",
   "execution_count": 441,
   "metadata": {},
   "outputs": [
    {
     "data": {
      "text/plain": [
       "GridSearchCV(cv=3, error_score=nan,\n",
       "             estimator=RandomForestRegressor(bootstrap=True, ccp_alpha=0.0,\n",
       "                                             criterion='mse', max_depth=None,\n",
       "                                             max_features='auto',\n",
       "                                             max_leaf_nodes=None,\n",
       "                                             max_samples=None,\n",
       "                                             min_impurity_decrease=0.0,\n",
       "                                             min_impurity_split=None,\n",
       "                                             min_samples_leaf=1,\n",
       "                                             min_samples_split=2,\n",
       "                                             min_weight_fraction_leaf=0.0,\n",
       "                                             n_estimators=100, n_jobs=None,\n",
       "                                             oob_score=False, random_state=None,\n",
       "                                             verbose=0, warm_start=False),\n",
       "             iid='deprecated', n_jobs=None,\n",
       "             param_grid={'criterion': ('mse', 'mae'),\n",
       "                         'max_features': ('auto', 'sqrt', 'log2'),\n",
       "                         'n_estimators': range(10, 300, 10)},\n",
       "             pre_dispatch='2*n_jobs', refit=True, return_train_score=False,\n",
       "             scoring='neg_mean_absolute_error', verbose=0)"
      ]
     },
     "execution_count": 441,
     "metadata": {},
     "output_type": "execute_result"
    }
   ],
   "source": [
    "gs=GridSearchCV(rf,parameters,scoring='neg_mean_absolute_error',cv=3)\n",
    "gs.fit(x_train,y_train)"
   ]
  },
  {
   "cell_type": "code",
   "execution_count": 442,
   "metadata": {},
   "outputs": [
    {
     "data": {
      "text/plain": [
       "-151.4412369088569"
      ]
     },
     "execution_count": 442,
     "metadata": {},
     "output_type": "execute_result"
    }
   ],
   "source": [
    "gs.best_score_"
   ]
  },
  {
   "cell_type": "code",
   "execution_count": 443,
   "metadata": {},
   "outputs": [
    {
     "data": {
      "text/plain": [
       "RandomForestRegressor(bootstrap=True, ccp_alpha=0.0, criterion='mse',\n",
       "                      max_depth=None, max_features='log2', max_leaf_nodes=None,\n",
       "                      max_samples=None, min_impurity_decrease=0.0,\n",
       "                      min_impurity_split=None, min_samples_leaf=1,\n",
       "                      min_samples_split=2, min_weight_fraction_leaf=0.0,\n",
       "                      n_estimators=60, n_jobs=None, oob_score=False,\n",
       "                      random_state=None, verbose=0, warm_start=False)"
      ]
     },
     "execution_count": 443,
     "metadata": {},
     "output_type": "execute_result"
    }
   ],
   "source": [
    "gs.best_estimator_"
   ]
  },
  {
   "cell_type": "code",
   "execution_count": 475,
   "metadata": {},
   "outputs": [
    {
     "data": {
      "text/plain": [
       "array([ 659.02116667,  655.98833333,  447.2335    , 1681.95      ,\n",
       "        483.33333333,  871.31866667,  994.75      , 1737.67333333,\n",
       "        202.5       ,  656.349     ,  834.23333333,  739.94666667,\n",
       "        124.25      ,  669.9985    ,  418.05516667,  902.35983333,\n",
       "       1200.53283333,  631.13783333, 1338.78883333, 1609.91666667,\n",
       "        333.71583333, 1870.75      ,  393.24166667,  267.992     ,\n",
       "        671.62766667,  367.98883333,  218.37783333,  760.00566667,\n",
       "       1192.1545    ,  292.65583333,  421.31933333, 1577.13716667,\n",
       "       1102.34966667,  391.54266667, 1721.25      ,  660.44266667,\n",
       "        838.73333333, 1677.7       ,  448.08183333,  965.2       ,\n",
       "       1267.1655    ,  627.43983333,  160.76      ,  492.84183333,\n",
       "       2816.6       , 2484.54616667, 2485.55933333,  486.17433333,\n",
       "        576.4735    ,  867.55616667,  153.26383333,  455.        ,\n",
       "        342.87566667,  492.84183333,  458.94283333, 2380.93333333,\n",
       "       2100.        ,  416.49883333,  775.6565    , 2289.2575    ,\n",
       "       1707.7       , 1475.76133333, 2181.73183333,  211.34766667,\n",
       "       2427.33316667,  881.09483333,  648.83333333,  446.778     ,\n",
       "       2491.63333333, 1637.33333333,  522.8415    , 1477.09983333,\n",
       "        333.27066667,  456.40916667,  336.43183333, 1819.16666667,\n",
       "        979.6855    ,  804.40616667,  216.68333333,  432.83116667,\n",
       "       2153.37033333,  159.929     ,  949.14566667,  492.84183333,\n",
       "       1210.69866667,  461.927     ,  477.60633333,  404.82866667,\n",
       "        940.50433333,  531.81266667,  912.11166667,  600.37983333,\n",
       "        318.435     , 1002.75      , 3735.46666667,  841.74083333,\n",
       "       1568.2665    ,  454.4625    , 1256.38383333, 3012.59983333,\n",
       "        365.10316667,  395.61466667,  405.35333333,  693.38483333,\n",
       "       1881.789     ,  459.554     ,  374.99      , 1183.16666667,\n",
       "       2328.45      , 1111.86666667,  367.59916667,  614.59383333,\n",
       "        492.84183333, 1592.833     , 1880.        ,  858.61666667,\n",
       "        594.53033333, 1683.63766667,  696.278     , 2348.66666667,\n",
       "        292.02533333,  529.76483333,  265.17316667, 1804.75      ,\n",
       "       1135.86666667,  993.392     ,  236.3325    ,  482.34716667,\n",
       "        327.56083333,  481.18083333,  993.9       , 1613.66666667,\n",
       "       1577.13716667,  281.57833333,  438.916     , 2487.96283333,\n",
       "        328.158     , 1821.05      ,  371.86016667,  124.25      ,\n",
       "        389.0265    , 1060.6805    ,  497.83266667,  125.60016667,\n",
       "       2321.25      , 2924.08333333,  446.778     ,  574.35583333,\n",
       "        224.75333333, 1888.21666667, 1197.33316667,  190.08316667,\n",
       "        426.065     , 2498.73316667,  821.48616667,  712.21483333,\n",
       "       1173.82033333,  615.13633333, 1234.71733333,  538.22766667,\n",
       "        641.97483333, 2502.226     , 2407.04833333,  650.785     ,\n",
       "       1297.38333333,  154.38      , 1655.533     ,  172.18333333,\n",
       "        507.55566667, 1879.628     , 1799.05      , 1966.55666667,\n",
       "        498.        ,  721.53166667, 1796.13333333, 1786.616     ,\n",
       "        318.29483333,  409.78133333,  383.063     ,  579.9455    ,\n",
       "        557.9435    ,  819.7325    ,  979.6855    , 1291.38083333,\n",
       "        695.36033333, 1142.96633333, 1687.54933333,  355.119     ,\n",
       "        223.137     ,  633.41633333,  503.35      , 1192.1545    ,\n",
       "        317.49766667, 1681.95      , 1583.76666667,  946.08133333,\n",
       "       3053.8       ,  745.277     , 1031.80116667, 1430.50733333,\n",
       "        739.94666667,  437.72316667,  742.33883333,  128.01233333,\n",
       "        136.929     , 1629.9325    , 2582.18316667,  655.98833333,\n",
       "       1297.38333333,  492.12216667,  358.01183333,  409.78133333,\n",
       "        357.53233333, 2817.68316667, 2595.41666667, 1466.7165    ,\n",
       "        335.31233333,  976.89316667, 2936.4795    , 3768.38333333,\n",
       "       1100.        ,  721.25983333,  620.1715    ,  608.44716667,\n",
       "        769.5       , 1651.38733333,  635.43333333, 1855.68333333,\n",
       "        535.38283333, 1483.71633333,  155.        , 1065.12033333,\n",
       "       1927.32966667, 1771.93333333,  342.87566667, 1612.05      ,\n",
       "        612.67483333,  561.55533333,  421.21      , 1297.1795    ,\n",
       "        472.66316667])"
      ]
     },
     "execution_count": 475,
     "metadata": {},
     "output_type": "execute_result"
    }
   ],
   "source": [
    "# test ensembles\n",
    "tpred_lm=lm.predict(x_test)\n",
    "tpred_lml=lm_l.predict(x_test)\n",
    "tpred_rf=gs.best_estimator_.predict(x_test)"
   ]
  },
  {
   "cell_type": "code",
   "execution_count": 445,
   "metadata": {},
   "outputs": [
    {
     "data": {
      "text/plain": [
       "275.35076180906026"
      ]
     },
     "execution_count": 445,
     "metadata": {},
     "output_type": "execute_result"
    }
   ],
   "source": [
    "mean_absolute_error(y_test,tpred_lm)"
   ]
  },
  {
   "cell_type": "code",
   "execution_count": 446,
   "metadata": {},
   "outputs": [
    {
     "data": {
      "text/plain": [
       "274.19114611830935"
      ]
     },
     "execution_count": 446,
     "metadata": {},
     "output_type": "execute_result"
    }
   ],
   "source": [
    "mean_absolute_error(y_test,tpred_lml)"
   ]
  },
  {
   "cell_type": "code",
   "execution_count": 447,
   "metadata": {},
   "outputs": [
    {
     "data": {
      "text/plain": [
       "118.5506867219917"
      ]
     },
     "execution_count": 447,
     "metadata": {},
     "output_type": "execute_result"
    }
   ],
   "source": [
    "mean_absolute_error(y_test,tpred_rf)"
   ]
  },
  {
   "cell_type": "markdown",
   "metadata": {},
   "source": [
    "### Test data only for the competition"
   ]
  },
  {
   "cell_type": "code",
   "execution_count": 458,
   "metadata": {},
   "outputs": [
    {
     "data": {
      "text/html": [
       "<div>\n",
       "<style scoped>\n",
       "    .dataframe tbody tr th:only-of-type {\n",
       "        vertical-align: middle;\n",
       "    }\n",
       "\n",
       "    .dataframe tbody tr th {\n",
       "        vertical-align: top;\n",
       "    }\n",
       "\n",
       "    .dataframe thead th {\n",
       "        text-align: right;\n",
       "    }\n",
       "</style>\n",
       "<table border=\"1\" class=\"dataframe\">\n",
       "  <thead>\n",
       "    <tr style=\"text-align: right;\">\n",
       "      <th></th>\n",
       "      <th>auctionid</th>\n",
       "      <th>bid</th>\n",
       "      <th>bidtime</th>\n",
       "      <th>bidder</th>\n",
       "      <th>bidderrate</th>\n",
       "      <th>openbid</th>\n",
       "    </tr>\n",
       "  </thead>\n",
       "  <tbody>\n",
       "    <tr>\n",
       "      <th>0</th>\n",
       "      <td>1640550476</td>\n",
       "      <td>175.00</td>\n",
       "      <td>4.329410</td>\n",
       "      <td>simonho2001sg</td>\n",
       "      <td>8</td>\n",
       "      <td>1.0</td>\n",
       "    </tr>\n",
       "    <tr>\n",
       "      <th>1</th>\n",
       "      <td>1644343468</td>\n",
       "      <td>111.11</td>\n",
       "      <td>0.587164</td>\n",
       "      <td>tab999@msn.com</td>\n",
       "      <td>84</td>\n",
       "      <td>1.0</td>\n",
       "    </tr>\n",
       "    <tr>\n",
       "      <th>2</th>\n",
       "      <td>1639979107</td>\n",
       "      <td>103.50</td>\n",
       "      <td>6.999572</td>\n",
       "      <td>inyerdrms</td>\n",
       "      <td>2</td>\n",
       "      <td>5.0</td>\n",
       "    </tr>\n",
       "    <tr>\n",
       "      <th>3</th>\n",
       "      <td>1649718196</td>\n",
       "      <td>620.00</td>\n",
       "      <td>2.750775</td>\n",
       "      <td>kjr2306</td>\n",
       "      <td>24</td>\n",
       "      <td>1.0</td>\n",
       "    </tr>\n",
       "    <tr>\n",
       "      <th>4</th>\n",
       "      <td>1644077820</td>\n",
       "      <td>60.00</td>\n",
       "      <td>1.393611</td>\n",
       "      <td>chevysred</td>\n",
       "      <td>-1</td>\n",
       "      <td>1.0</td>\n",
       "    </tr>\n",
       "  </tbody>\n",
       "</table>\n",
       "</div>"
      ],
      "text/plain": [
       "    auctionid     bid   bidtime          bidder  bidderrate  openbid\n",
       "0  1640550476  175.00  4.329410   simonho2001sg           8      1.0\n",
       "1  1644343468  111.11  0.587164  tab999@msn.com          84      1.0\n",
       "2  1639979107  103.50  6.999572       inyerdrms           2      5.0\n",
       "3  1649718196  620.00  2.750775         kjr2306          24      1.0\n",
       "4  1644077820   60.00  1.393611       chevysred          -1      1.0"
      ]
     },
     "execution_count": 458,
     "metadata": {},
     "output_type": "execute_result"
    }
   ],
   "source": [
    "test_data = pd.read_csv('https://raw.githubusercontent.com/dphi-official/Datasets/master/auction_data/test_set_label.csv')\n",
    "test_data.head()"
   ]
  },
  {
   "cell_type": "code",
   "execution_count": 459,
   "metadata": {},
   "outputs": [
    {
     "data": {
      "text/plain": [
       "(337, 6)"
      ]
     },
     "execution_count": 459,
     "metadata": {},
     "output_type": "execute_result"
    }
   ],
   "source": [
    "test_data.shape"
   ]
  },
  {
   "cell_type": "code",
   "execution_count": 460,
   "metadata": {},
   "outputs": [
    {
     "data": {
      "text/plain": [
       "auctionid     False\n",
       "bid           False\n",
       "bidtime       False\n",
       "bidder        False\n",
       "bidderrate    False\n",
       "openbid       False\n",
       "dtype: bool"
      ]
     },
     "execution_count": 460,
     "metadata": {},
     "output_type": "execute_result"
    }
   ],
   "source": [
    "test_data.isnull().any()"
   ]
  },
  {
   "cell_type": "code",
   "execution_count": 461,
   "metadata": {},
   "outputs": [
    {
     "data": {
      "text/plain": [
       "auctionid       int64\n",
       "bid           float64\n",
       "bidtime       float64\n",
       "bidder         object\n",
       "bidderrate      int64\n",
       "openbid       float64\n",
       "dtype: object"
      ]
     },
     "execution_count": 461,
     "metadata": {},
     "output_type": "execute_result"
    }
   ],
   "source": [
    "test_data.dtypes"
   ]
  },
  {
   "cell_type": "code",
   "execution_count": 462,
   "metadata": {},
   "outputs": [
    {
     "data": {
      "text/html": [
       "<div>\n",
       "<style scoped>\n",
       "    .dataframe tbody tr th:only-of-type {\n",
       "        vertical-align: middle;\n",
       "    }\n",
       "\n",
       "    .dataframe tbody tr th {\n",
       "        vertical-align: top;\n",
       "    }\n",
       "\n",
       "    .dataframe thead th {\n",
       "        text-align: right;\n",
       "    }\n",
       "</style>\n",
       "<table border=\"1\" class=\"dataframe\">\n",
       "  <thead>\n",
       "    <tr style=\"text-align: right;\">\n",
       "      <th></th>\n",
       "      <th>auctionid</th>\n",
       "      <th>bid</th>\n",
       "      <th>bidtime</th>\n",
       "      <th>bidder</th>\n",
       "      <th>bidderrate</th>\n",
       "      <th>openbid</th>\n",
       "    </tr>\n",
       "  </thead>\n",
       "  <tbody>\n",
       "    <tr>\n",
       "      <th>0</th>\n",
       "      <td>1640550476</td>\n",
       "      <td>175.00</td>\n",
       "      <td>4.329410</td>\n",
       "      <td>simonho2001sg</td>\n",
       "      <td>8</td>\n",
       "      <td>1.0</td>\n",
       "    </tr>\n",
       "    <tr>\n",
       "      <th>1</th>\n",
       "      <td>1644343468</td>\n",
       "      <td>111.11</td>\n",
       "      <td>0.587164</td>\n",
       "      <td>tab999</td>\n",
       "      <td>84</td>\n",
       "      <td>1.0</td>\n",
       "    </tr>\n",
       "    <tr>\n",
       "      <th>2</th>\n",
       "      <td>1639979107</td>\n",
       "      <td>103.50</td>\n",
       "      <td>6.999572</td>\n",
       "      <td>inyerdrms</td>\n",
       "      <td>2</td>\n",
       "      <td>5.0</td>\n",
       "    </tr>\n",
       "    <tr>\n",
       "      <th>3</th>\n",
       "      <td>1649718196</td>\n",
       "      <td>620.00</td>\n",
       "      <td>2.750775</td>\n",
       "      <td>kjr2306</td>\n",
       "      <td>24</td>\n",
       "      <td>1.0</td>\n",
       "    </tr>\n",
       "    <tr>\n",
       "      <th>4</th>\n",
       "      <td>1644077820</td>\n",
       "      <td>60.00</td>\n",
       "      <td>1.393611</td>\n",
       "      <td>chevysred</td>\n",
       "      <td>-1</td>\n",
       "      <td>1.0</td>\n",
       "    </tr>\n",
       "  </tbody>\n",
       "</table>\n",
       "</div>"
      ],
      "text/plain": [
       "    auctionid     bid   bidtime         bidder  bidderrate  openbid\n",
       "0  1640550476  175.00  4.329410  simonho2001sg           8      1.0\n",
       "1  1644343468  111.11  0.587164         tab999          84      1.0\n",
       "2  1639979107  103.50  6.999572      inyerdrms           2      5.0\n",
       "3  1649718196  620.00  2.750775        kjr2306          24      1.0\n",
       "4  1644077820   60.00  1.393611      chevysred          -1      1.0"
      ]
     },
     "execution_count": 462,
     "metadata": {},
     "output_type": "execute_result"
    }
   ],
   "source": [
    "# Removing email ids from bidder's name\n",
    "test_data['bidder']=test_data['bidder'].apply(lambda x:x.split('@')[0] if '@' in x else x)\n",
    "test_data.head()"
   ]
  },
  {
   "cell_type": "code",
   "execution_count": 463,
   "metadata": {},
   "outputs": [
    {
     "data": {
      "text/html": [
       "<div>\n",
       "<style scoped>\n",
       "    .dataframe tbody tr th:only-of-type {\n",
       "        vertical-align: middle;\n",
       "    }\n",
       "\n",
       "    .dataframe tbody tr th {\n",
       "        vertical-align: top;\n",
       "    }\n",
       "\n",
       "    .dataframe thead th {\n",
       "        text-align: right;\n",
       "    }\n",
       "</style>\n",
       "<table border=\"1\" class=\"dataframe\">\n",
       "  <thead>\n",
       "    <tr style=\"text-align: right;\">\n",
       "      <th></th>\n",
       "      <th>auctionid</th>\n",
       "      <th>bid</th>\n",
       "      <th>bidtime</th>\n",
       "      <th>bidder</th>\n",
       "      <th>bidderrate</th>\n",
       "      <th>openbid</th>\n",
       "      <th>user_len</th>\n",
       "    </tr>\n",
       "  </thead>\n",
       "  <tbody>\n",
       "    <tr>\n",
       "      <th>0</th>\n",
       "      <td>1640550476</td>\n",
       "      <td>175.00</td>\n",
       "      <td>4.329410</td>\n",
       "      <td>simonho2001sg</td>\n",
       "      <td>8</td>\n",
       "      <td>1.0</td>\n",
       "      <td>13</td>\n",
       "    </tr>\n",
       "    <tr>\n",
       "      <th>1</th>\n",
       "      <td>1644343468</td>\n",
       "      <td>111.11</td>\n",
       "      <td>0.587164</td>\n",
       "      <td>tab999</td>\n",
       "      <td>84</td>\n",
       "      <td>1.0</td>\n",
       "      <td>6</td>\n",
       "    </tr>\n",
       "    <tr>\n",
       "      <th>2</th>\n",
       "      <td>1639979107</td>\n",
       "      <td>103.50</td>\n",
       "      <td>6.999572</td>\n",
       "      <td>inyerdrms</td>\n",
       "      <td>2</td>\n",
       "      <td>5.0</td>\n",
       "      <td>9</td>\n",
       "    </tr>\n",
       "    <tr>\n",
       "      <th>3</th>\n",
       "      <td>1649718196</td>\n",
       "      <td>620.00</td>\n",
       "      <td>2.750775</td>\n",
       "      <td>kjr2306</td>\n",
       "      <td>24</td>\n",
       "      <td>1.0</td>\n",
       "      <td>7</td>\n",
       "    </tr>\n",
       "    <tr>\n",
       "      <th>4</th>\n",
       "      <td>1644077820</td>\n",
       "      <td>60.00</td>\n",
       "      <td>1.393611</td>\n",
       "      <td>chevysred</td>\n",
       "      <td>-1</td>\n",
       "      <td>1.0</td>\n",
       "      <td>9</td>\n",
       "    </tr>\n",
       "  </tbody>\n",
       "</table>\n",
       "</div>"
      ],
      "text/plain": [
       "    auctionid     bid   bidtime         bidder  bidderrate  openbid  user_len\n",
       "0  1640550476  175.00  4.329410  simonho2001sg           8      1.0        13\n",
       "1  1644343468  111.11  0.587164         tab999          84      1.0         6\n",
       "2  1639979107  103.50  6.999572      inyerdrms           2      5.0         9\n",
       "3  1649718196  620.00  2.750775        kjr2306          24      1.0         7\n",
       "4  1644077820   60.00  1.393611      chevysred          -1      1.0         9"
      ]
     },
     "execution_count": 463,
     "metadata": {},
     "output_type": "execute_result"
    }
   ],
   "source": [
    "test_data['user_len']=test_data['bidder'].apply(lambda x:len(x))\n",
    "test_data.head()"
   ]
  },
  {
   "cell_type": "code",
   "execution_count": 464,
   "metadata": {},
   "outputs": [],
   "source": [
    "test_x=test_data[['auctionid', 'bid', 'bidtime', 'bidderrate', 'openbid','user_len']]"
   ]
  },
  {
   "cell_type": "code",
   "execution_count": 465,
   "metadata": {},
   "outputs": [],
   "source": [
    "pred_lm=lm.predict(test_x)\n",
    "pred_lml=lm_l.predict(test_x)\n",
    "pred_rf=gs.best_estimator_.predict(test_x)"
   ]
  },
  {
   "cell_type": "code",
   "execution_count": 466,
   "metadata": {},
   "outputs": [],
   "source": [
    "pred_rf=pd.DataFrame(pred_rf)"
   ]
  },
  {
   "cell_type": "code",
   "execution_count": 467,
   "metadata": {},
   "outputs": [
    {
     "data": {
      "text/plain": [
       "(337, 1)"
      ]
     },
     "execution_count": 467,
     "metadata": {},
     "output_type": "execute_result"
    }
   ],
   "source": [
    "pred_rf.shape"
   ]
  },
  {
   "cell_type": "code",
   "execution_count": 468,
   "metadata": {},
   "outputs": [],
   "source": [
    "pred_rf.to_csv('pred_rf.csv')"
   ]
  },
  {
   "cell_type": "code",
   "execution_count": null,
   "metadata": {},
   "outputs": [],
   "source": []
  }
 ],
 "metadata": {
  "kernelspec": {
   "display_name": "Python 3",
   "language": "python",
   "name": "python3"
  },
  "language_info": {
   "codemirror_mode": {
    "name": "ipython",
    "version": 3
   },
   "file_extension": ".py",
   "mimetype": "text/x-python",
   "name": "python",
   "nbconvert_exporter": "python",
   "pygments_lexer": "ipython3",
   "version": "3.7.6"
  }
 },
 "nbformat": 4,
 "nbformat_minor": 4
}
