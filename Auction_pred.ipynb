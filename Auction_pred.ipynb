{
 "cells": [
  {
   "cell_type": "code",
   "execution_count": 2,
   "metadata": {},
   "outputs": [],
   "source": [
    "import numpy as np\n",
    "import pandas as pd\n",
    "import matplotlib.pyplot as plt\n",
    "import seaborn as sns\n",
    "from sklearn.model_selection import train_test_split\n",
    "import statsmodels.api as sm\n",
    "from sklearn.linear_model import LinearRegression, Lasso\n",
    "from sklearn.model_selection import cross_val_score,GridSearchCV\n",
    "from sklearn.ensemble import RandomForestRegressor\n",
    "from sklearn.metrics import mean_absolute_error"
   ]
  },
  {
   "cell_type": "code",
   "execution_count": 47,
   "metadata": {},
   "outputs": [],
   "source": [
    "auction_data = pd.read_csv(\"https://raw.githubusercontent.com/dphi-official/Datasets/master/auction_data/train_set_label.csv\" )"
   ]
  },
  {
   "cell_type": "code",
   "execution_count": 48,
   "metadata": {},
   "outputs": [
    {
     "data": {
      "text/html": [
       "<div>\n",
       "<style scoped>\n",
       "    .dataframe tbody tr th:only-of-type {\n",
       "        vertical-align: middle;\n",
       "    }\n",
       "\n",
       "    .dataframe tbody tr th {\n",
       "        vertical-align: top;\n",
       "    }\n",
       "\n",
       "    .dataframe thead th {\n",
       "        text-align: right;\n",
       "    }\n",
       "</style>\n",
       "<table border=\"1\" class=\"dataframe\">\n",
       "  <thead>\n",
       "    <tr style=\"text-align: right;\">\n",
       "      <th></th>\n",
       "      <th>auctionid</th>\n",
       "      <th>bid</th>\n",
       "      <th>bidtime</th>\n",
       "      <th>bidder</th>\n",
       "      <th>bidderrate</th>\n",
       "      <th>openbid</th>\n",
       "      <th>price</th>\n",
       "    </tr>\n",
       "  </thead>\n",
       "  <tbody>\n",
       "    <tr>\n",
       "      <th>0</th>\n",
       "      <td>1644594033</td>\n",
       "      <td>493.0</td>\n",
       "      <td>6.999456</td>\n",
       "      <td>boraborabora</td>\n",
       "      <td>67</td>\n",
       "      <td>9.99</td>\n",
       "      <td>498.00</td>\n",
       "    </tr>\n",
       "    <tr>\n",
       "      <th>1</th>\n",
       "      <td>1639309309</td>\n",
       "      <td>30.0</td>\n",
       "      <td>1.669618</td>\n",
       "      <td>aclbjc</td>\n",
       "      <td>0</td>\n",
       "      <td>1.00</td>\n",
       "      <td>374.99</td>\n",
       "    </tr>\n",
       "    <tr>\n",
       "      <th>2</th>\n",
       "      <td>1644109746</td>\n",
       "      <td>3103.0</td>\n",
       "      <td>6.917986</td>\n",
       "      <td>nelsoncpm</td>\n",
       "      <td>7</td>\n",
       "      <td>1.00</td>\n",
       "      <td>3103.00</td>\n",
       "    </tr>\n",
       "    <tr>\n",
       "      <th>3</th>\n",
       "      <td>1649858595</td>\n",
       "      <td>175.0</td>\n",
       "      <td>3.107014</td>\n",
       "      <td>pialu9</td>\n",
       "      <td>4</td>\n",
       "      <td>7.99</td>\n",
       "      <td>202.50</td>\n",
       "    </tr>\n",
       "    <tr>\n",
       "      <th>4</th>\n",
       "      <td>1647846714</td>\n",
       "      <td>226.0</td>\n",
       "      <td>2.721319</td>\n",
       "      <td>geemeetee@aol.com</td>\n",
       "      <td>17</td>\n",
       "      <td>1.00</td>\n",
       "      <td>905.45</td>\n",
       "    </tr>\n",
       "  </tbody>\n",
       "</table>\n",
       "</div>"
      ],
      "text/plain": [
       "    auctionid     bid   bidtime             bidder  bidderrate  openbid  \\\n",
       "0  1644594033   493.0  6.999456       boraborabora          67     9.99   \n",
       "1  1639309309    30.0  1.669618             aclbjc           0     1.00   \n",
       "2  1644109746  3103.0  6.917986          nelsoncpm           7     1.00   \n",
       "3  1649858595   175.0  3.107014             pialu9           4     7.99   \n",
       "4  1647846714   226.0  2.721319  geemeetee@aol.com          17     1.00   \n",
       "\n",
       "     price  \n",
       "0   498.00  \n",
       "1   374.99  \n",
       "2  3103.00  \n",
       "3   202.50  \n",
       "4   905.45  "
      ]
     },
     "execution_count": 48,
     "metadata": {},
     "output_type": "execute_result"
    }
   ],
   "source": [
    "auction_data.head()"
   ]
  },
  {
   "cell_type": "code",
   "execution_count": 49,
   "metadata": {},
   "outputs": [
    {
     "data": {
      "text/plain": [
       "(1213, 7)"
      ]
     },
     "execution_count": 49,
     "metadata": {},
     "output_type": "execute_result"
    }
   ],
   "source": [
    "auction_data.shape"
   ]
  },
  {
   "cell_type": "code",
   "execution_count": 50,
   "metadata": {},
   "outputs": [
    {
     "data": {
      "text/plain": [
       "auctionid     False\n",
       "bid           False\n",
       "bidtime       False\n",
       "bidder        False\n",
       "bidderrate    False\n",
       "openbid       False\n",
       "price         False\n",
       "dtype: bool"
      ]
     },
     "execution_count": 50,
     "metadata": {},
     "output_type": "execute_result"
    }
   ],
   "source": [
    "auction_data.isnull().any()"
   ]
  },
  {
   "cell_type": "code",
   "execution_count": 51,
   "metadata": {},
   "outputs": [
    {
     "data": {
      "text/plain": [
       "auctionid       int64\n",
       "bid           float64\n",
       "bidtime       float64\n",
       "bidder         object\n",
       "bidderrate      int64\n",
       "openbid       float64\n",
       "price         float64\n",
       "dtype: object"
      ]
     },
     "execution_count": 51,
     "metadata": {},
     "output_type": "execute_result"
    }
   ],
   "source": [
    "auction_data.dtypes"
   ]
  },
  {
   "cell_type": "markdown",
   "metadata": {},
   "source": [
    "The data has no missing values and the data types are in correct format.\n"
   ]
  },
  {
   "cell_type": "markdown",
   "metadata": {},
   "source": [
    "Before proceeding, we can make some assumptions according to our understanding:\n",
    "- The final price should be increasing with openbid, bid.\n",
    "- The price can have any relation with bidtime, it may be less or more as the bidtime increases. There should not be any direct relation.\n",
    "- Similarly there should not be any direct relation between bidderrate and price.\n",
    "- 'bidder' should not have any relation with price."
   ]
  },
  {
   "cell_type": "markdown",
   "metadata": {},
   "source": [
    "Distribution of samples of all the variables"
   ]
  },
  {
   "cell_type": "code",
   "execution_count": 52,
   "metadata": {},
   "outputs": [
    {
     "data": {
      "text/plain": [
       "<matplotlib.axes._subplots.AxesSubplot at 0x1ce828a9cc8>"
      ]
     },
     "execution_count": 52,
     "metadata": {},
     "output_type": "execute_result"
    },
    {
     "data": {
      "image/png": "[encoded data removed]",
      "text/plain": [
       "<Figure size 432x288 with 1 Axes>"
      ]
     },
     "metadata": {
      "needs_background": "light"
     },
     "output_type": "display_data"
    }
   ],
   "source": [
    "df=auction_data\n",
    "sns.distplot(df['bidderrate'])"
   ]
  },
  {
   "cell_type": "code",
   "execution_count": 53,
   "metadata": {},
   "outputs": [
    {
     "data": {
      "text/plain": [
       "<matplotlib.axes._subplots.AxesSubplot at 0x1ce82c3cd08>"
      ]
     },
     "execution_count": 53,
     "metadata": {},
     "output_type": "execute_result"
    },
    {
     "data": {
      "image/png": "[encoded data removed]",
      "text/plain": [
       "<Figure size 432x288 with 1 Axes>"
      ]
     },
     "metadata": {
      "needs_background": "light"
     },
     "output_type": "display_data"
    }
   ],
   "source": [
    "sns.distplot(df['bid'])"
   ]
  },
  {
   "cell_type": "code",
   "execution_count": 54,
   "metadata": {},
   "outputs": [
    {
     "data": {
      "text/plain": [
       "<matplotlib.axes._subplots.AxesSubplot at 0x1ce829abbc8>"
      ]
     },
     "execution_count": 54,
     "metadata": {},
     "output_type": "execute_result"
    },
    {
     "data": {
      "image/png": "[encoded data removed]",
      "text/plain": [
       "<Figure size 432x288 with 1 Axes>"
      ]
     },
     "metadata": {
      "needs_background": "light"
     },
     "output_type": "display_data"
    }
   ],
   "source": [
    "sns.distplot(df['bidtime'])"
   ]
  },
  {
   "cell_type": "code",
   "execution_count": 55,
   "metadata": {},
   "outputs": [
    {
     "data": {
      "text/plain": [
       "<matplotlib.axes._subplots.AxesSubplot at 0x1ce82a2b988>"
      ]
     },
     "execution_count": 55,
     "metadata": {},
     "output_type": "execute_result"
    },
    {
     "data": {
      "image/png": "[encoded data removed]",
      "text/plain": [
       "<Figure size 432x288 with 1 Axes>"
      ]
     },
     "metadata": {
      "needs_background": "light"
     },
     "output_type": "display_data"
    }
   ],
   "source": [
    "sns.distplot(df['openbid'])"
   ]
  },
  {
   "cell_type": "code",
   "execution_count": 56,
   "metadata": {},
   "outputs": [
    {
     "data": {
      "text/plain": [
       "<matplotlib.axes._subplots.AxesSubplot at 0x1ce8356d108>"
      ]
     },
     "execution_count": 56,
     "metadata": {},
     "output_type": "execute_result"
    },
    {
     "data": {
      "image/png": "[encoded data removed]",
      "text/plain": [
       "<Figure size 432x288 with 1 Axes>"
      ]
     },
     "metadata": {
      "needs_background": "light"
     },
     "output_type": "display_data"
    }
   ],
   "source": [
    "sns.distplot(df['price'])"
   ]
  },
  {
   "cell_type": "markdown",
   "metadata": {},
   "source": [
    "We can see that almost all the features do not have a normal distribution. So for being able to use them for prediction we are going to convert them to a normal distribution."
   ]
  },
  {
   "cell_type": "code",
   "execution_count": 57,
   "metadata": {},
   "outputs": [
    {
     "data": {
      "text/plain": [
       "<matplotlib.axes._subplots.AxesSubplot at 0x1ce8362cf88>"
      ]
     },
     "execution_count": 57,
     "metadata": {},
     "output_type": "execute_result"
    },
    {
     "data": {
      "image/png": "[encoded data removed]",
      "text/plain": [
       "<Figure size 432x288 with 1 Axes>"
      ]
     },
     "metadata": {
      "needs_background": "light"
     },
     "output_type": "display_data"
    }
   ],
   "source": [
    "# Scatterplot\n",
    "sns.regplot(x='openbid',y='price',data=df)"
   ]
  },
  {
   "cell_type": "markdown",
   "metadata": {},
   "source": [
    "The openbid shows a highly linear correlation with price. The price increases as the openbid increases. This seems to a very important feature and we will use it in model building.\n",
    "\n",
    "From this graph we can see that there are certain openbid for which we have many different prices, so we can say that openbid is a highly categorical feature. Some openbid's are more preferred by the sellers."
   ]
  },
  {
   "cell_type": "code",
   "execution_count": 58,
   "metadata": {},
   "outputs": [
    {
     "data": {
      "text/plain": [
       "<matplotlib.axes._subplots.AxesSubplot at 0x1ce82a21788>"
      ]
     },
     "execution_count": 58,
     "metadata": {},
     "output_type": "execute_result"
    },
    {
     "data": {
      "image/png": "[encoded data removed]",
      "text/plain": [
       "<Figure size 432x288 with 1 Axes>"
      ]
     },
     "metadata": {
      "needs_background": "light"
     },
     "output_type": "display_data"
    }
   ],
   "source": [
    "sns.regplot(x='bid',y='price',data=df)"
   ]
  },
  {
   "cell_type": "markdown",
   "metadata": {},
   "source": [
    "Price should be linear with the proxy bid. if someone is putting a higher proxy bid then it means that the thing is more valuable. Our graph also supports this statement and a linear relationship can be seen. 'bid' is an important feature for price determination."
   ]
  },
  {
   "cell_type": "code",
   "execution_count": 59,
   "metadata": {},
   "outputs": [
    {
     "data": {
      "text/plain": [
       "<matplotlib.axes._subplots.AxesSubplot at 0x1ce836dd648>"
      ]
     },
     "execution_count": 59,
     "metadata": {},
     "output_type": "execute_result"
    },
    {
     "data": {
      "image/png": "[encoded data removed]",
      "text/plain": [
       "<Figure size 432x288 with 1 Axes>"
      ]
     },
     "metadata": {
      "needs_background": "light"
     },
     "output_type": "display_data"
    }
   ],
   "source": [
    "sns.regplot(x='bidtime',y='price',data=df)"
   ]
  },
  {
   "cell_type": "markdown",
   "metadata": {},
   "source": [
    "It can be seen that price is almost constant with changing bidtime. So bidtime alone is not a good predictor to be used, and we can think of doing some feature engineering."
   ]
  },
  {
   "cell_type": "code",
   "execution_count": 60,
   "metadata": {},
   "outputs": [
    {
     "data": {
      "text/plain": [
       "<matplotlib.axes._subplots.AxesSubplot at 0x1ce8378dd08>"
      ]
     },
     "execution_count": 60,
     "metadata": {},
     "output_type": "execute_result"
    },
    {
     "data": {
      "image/png": "[encoded data removed]",
      "text/plain": [
       "<Figure size 432x288 with 1 Axes>"
      ]
     },
     "metadata": {
      "needs_background": "light"
     },
     "output_type": "display_data"
    }
   ],
   "source": [
    "sns.regplot(x='bidderrate',y='price',data=df)"
   ]
  },
  {
   "cell_type": "markdown",
   "metadata": {},
   "source": [
    "We can see there is not much relation between bidderrate and prices. So we should do some feature engineering with 'bidderrate'."
   ]
  },
  {
   "cell_type": "code",
   "execution_count": 61,
   "metadata": {},
   "outputs": [
    {
     "data": {
      "text/plain": [
       "<matplotlib.axes._subplots.AxesSubplot at 0x1ce837e8288>"
      ]
     },
     "execution_count": 61,
     "metadata": {},
     "output_type": "execute_result"
    },
    {
     "data": {
      "image/png": "[encoded data removed]",
      "text/plain": [
       "<Figure size 432x288 with 1 Axes>"
      ]
     },
     "metadata": {
      "needs_background": "light"
     },
     "output_type": "display_data"
    }
   ],
   "source": [
    "# Boxplots\n",
    "df.boxplot(column=['bidtime'])"
   ]
  },
  {
   "cell_type": "code",
   "execution_count": 62,
   "metadata": {},
   "outputs": [
    {
     "data": {
      "text/plain": [
       "<matplotlib.axes._subplots.AxesSubplot at 0x1ce8384f748>"
      ]
     },
     "execution_count": 62,
     "metadata": {},
     "output_type": "execute_result"
    },
    {
     "data": {
      "image/png": "[encoded data removed]",
      "text/plain": [
       "<Figure size 432x288 with 1 Axes>"
      ]
     },
     "metadata": {
      "needs_background": "light"
     },
     "output_type": "display_data"
    }
   ],
   "source": [
    "df.boxplot(column=['bidderrate'])"
   ]
  },
  {
   "cell_type": "code",
   "execution_count": 63,
   "metadata": {},
   "outputs": [
    {
     "data": {
      "text/plain": [
       "<matplotlib.axes._subplots.AxesSubplot at 0x1ce87da8cc8>"
      ]
     },
     "execution_count": 63,
     "metadata": {},
     "output_type": "execute_result"
    },
    {
     "data": {
      "image/png": "[encoded data removed]",
      "text/plain": [
       "<Figure size 432x288 with 1 Axes>"
      ]
     },
     "metadata": {
      "needs_background": "light"
     },
     "output_type": "display_data"
    }
   ],
   "source": [
    "df.boxplot(column=['bid','openbid','price'])"
   ]
  },
  {
   "cell_type": "markdown",
   "metadata": {},
   "source": [
    "We see that there are considerable amount of outliers in every variable except 'bidtime' and we should remove them."
   ]
  },
  {
   "cell_type": "code",
   "execution_count": 79,
   "metadata": {},
   "outputs": [
    {
     "data": {
      "text/plain": [
       "<matplotlib.axes._subplots.AxesSubplot at 0x1ce832151c8>"
      ]
     },
     "execution_count": 79,
     "metadata": {},
     "output_type": "execute_result"
    },
    {
     "data": {
      "image/png": "[encoded data removed]",
      "text/plain": [
       "<Figure size 432x288 with 2 Axes>"
      ]
     },
     "metadata": {
      "needs_background": "light"
     },
     "output_type": "display_data"
    }
   ],
   "source": [
    "corr_col=df[['bid', 'bidtime', 'bidder', 'bidderrate', 'openbid','price']]\n",
    "sns.heatmap(corr_col.corr(),annot=True)"
   ]
  },
  {
   "cell_type": "code",
   "execution_count": 393,
   "metadata": {},
   "outputs": [
    {
     "data": {
      "text/html": [
       "<div>\n",
       "<style scoped>\n",
       "    .dataframe tbody tr th:only-of-type {\n",
       "        vertical-align: middle;\n",
       "    }\n",
       "\n",
       "    .dataframe tbody tr th {\n",
       "        vertical-align: top;\n",
       "    }\n",
       "\n",
       "    .dataframe thead th {\n",
       "        text-align: right;\n",
       "    }\n",
       "</style>\n",
       "<table border=\"1\" class=\"dataframe\">\n",
       "  <thead>\n",
       "    <tr style=\"text-align: right;\">\n",
       "      <th></th>\n",
       "      <th>auctionid</th>\n",
       "      <th>bid</th>\n",
       "      <th>bidtime</th>\n",
       "      <th>bidderrate</th>\n",
       "      <th>openbid</th>\n",
       "      <th>price</th>\n",
       "      <th>earthlink.ne</th>\n",
       "      <th>verizon.ne</th>\n",
       "      <th>aol.co</th>\n",
       "      <th>msn.co</th>\n",
       "      <th>...</th>\n",
       "      <th>altavis</th>\n",
       "      <th>disnow.co</th>\n",
       "      <th>calcsea.or</th>\n",
       "      <th>mcdata.co</th>\n",
       "      <th>bellsouth.ne</th>\n",
       "      <th>san.rr.co</th>\n",
       "      <th>dechert.co</th>\n",
       "      <th>yahoo.co</th>\n",
       "      <th>mindspring.co</th>\n",
       "      <th>user_len</th>\n",
       "    </tr>\n",
       "  </thead>\n",
       "  <tbody>\n",
       "    <tr>\n",
       "      <th>count</th>\n",
       "      <td>1.213000e+03</td>\n",
       "      <td>1213.000000</td>\n",
       "      <td>1213.000000</td>\n",
       "      <td>1213.000000</td>\n",
       "      <td>1213.000000</td>\n",
       "      <td>1213.000000</td>\n",
       "      <td>1213.000000</td>\n",
       "      <td>1213.000000</td>\n",
       "      <td>1213.000000</td>\n",
       "      <td>1213.000000</td>\n",
       "      <td>...</td>\n",
       "      <td>1213.000000</td>\n",
       "      <td>1213.000000</td>\n",
       "      <td>1213.000000</td>\n",
       "      <td>1213.000000</td>\n",
       "      <td>1213.000000</td>\n",
       "      <td>1213.000000</td>\n",
       "      <td>1213.000000</td>\n",
       "      <td>1213.000000</td>\n",
       "      <td>1213.000000</td>\n",
       "      <td>1213.000000</td>\n",
       "    </tr>\n",
       "    <tr>\n",
       "      <th>mean</th>\n",
       "      <td>1.644577e+09</td>\n",
       "      <td>647.652539</td>\n",
       "      <td>4.078951</td>\n",
       "      <td>31.807914</td>\n",
       "      <td>159.142852</td>\n",
       "      <td>1010.246076</td>\n",
       "      <td>0.003298</td>\n",
       "      <td>0.004946</td>\n",
       "      <td>0.050289</td>\n",
       "      <td>0.006595</td>\n",
       "      <td>...</td>\n",
       "      <td>0.003298</td>\n",
       "      <td>0.000824</td>\n",
       "      <td>0.004122</td>\n",
       "      <td>0.000824</td>\n",
       "      <td>0.001649</td>\n",
       "      <td>0.004946</td>\n",
       "      <td>0.000824</td>\n",
       "      <td>0.004122</td>\n",
       "      <td>0.003298</td>\n",
       "      <td>8.889530</td>\n",
       "    </tr>\n",
       "    <tr>\n",
       "      <th>std</th>\n",
       "      <td>3.566101e+06</td>\n",
       "      <td>701.003386</td>\n",
       "      <td>2.505148</td>\n",
       "      <td>79.112571</td>\n",
       "      <td>388.456626</td>\n",
       "      <td>832.676139</td>\n",
       "      <td>0.057354</td>\n",
       "      <td>0.070186</td>\n",
       "      <td>0.218630</td>\n",
       "      <td>0.080976</td>\n",
       "      <td>...</td>\n",
       "      <td>0.057354</td>\n",
       "      <td>0.028712</td>\n",
       "      <td>0.064097</td>\n",
       "      <td>0.028712</td>\n",
       "      <td>0.040589</td>\n",
       "      <td>0.070186</td>\n",
       "      <td>0.028712</td>\n",
       "      <td>0.064097</td>\n",
       "      <td>0.057354</td>\n",
       "      <td>2.805169</td>\n",
       "    </tr>\n",
       "    <tr>\n",
       "      <th>min</th>\n",
       "      <td>1.638844e+09</td>\n",
       "      <td>1.000000</td>\n",
       "      <td>0.007535</td>\n",
       "      <td>-4.000000</td>\n",
       "      <td>0.010000</td>\n",
       "      <td>103.500000</td>\n",
       "      <td>0.000000</td>\n",
       "      <td>0.000000</td>\n",
       "      <td>0.000000</td>\n",
       "      <td>0.000000</td>\n",
       "      <td>...</td>\n",
       "      <td>0.000000</td>\n",
       "      <td>0.000000</td>\n",
       "      <td>0.000000</td>\n",
       "      <td>0.000000</td>\n",
       "      <td>0.000000</td>\n",
       "      <td>0.000000</td>\n",
       "      <td>0.000000</td>\n",
       "      <td>0.000000</td>\n",
       "      <td>0.000000</td>\n",
       "      <td>2.000000</td>\n",
       "    </tr>\n",
       "    <tr>\n",
       "      <th>25%</th>\n",
       "      <td>1.641784e+09</td>\n",
       "      <td>161.000000</td>\n",
       "      <td>1.578866</td>\n",
       "      <td>1.000000</td>\n",
       "      <td>1.000000</td>\n",
       "      <td>374.990000</td>\n",
       "      <td>0.000000</td>\n",
       "      <td>0.000000</td>\n",
       "      <td>0.000000</td>\n",
       "      <td>0.000000</td>\n",
       "      <td>...</td>\n",
       "      <td>0.000000</td>\n",
       "      <td>0.000000</td>\n",
       "      <td>0.000000</td>\n",
       "      <td>0.000000</td>\n",
       "      <td>0.000000</td>\n",
       "      <td>0.000000</td>\n",
       "      <td>0.000000</td>\n",
       "      <td>0.000000</td>\n",
       "      <td>0.000000</td>\n",
       "      <td>7.000000</td>\n",
       "    </tr>\n",
       "    <tr>\n",
       "      <th>50%</th>\n",
       "      <td>1.644139e+09</td>\n",
       "      <td>400.000000</td>\n",
       "      <td>4.302025</td>\n",
       "      <td>5.000000</td>\n",
       "      <td>7.990000</td>\n",
       "      <td>680.000000</td>\n",
       "      <td>0.000000</td>\n",
       "      <td>0.000000</td>\n",
       "      <td>0.000000</td>\n",
       "      <td>0.000000</td>\n",
       "      <td>...</td>\n",
       "      <td>0.000000</td>\n",
       "      <td>0.000000</td>\n",
       "      <td>0.000000</td>\n",
       "      <td>0.000000</td>\n",
       "      <td>0.000000</td>\n",
       "      <td>0.000000</td>\n",
       "      <td>0.000000</td>\n",
       "      <td>0.000000</td>\n",
       "      <td>0.000000</td>\n",
       "      <td>9.000000</td>\n",
       "    </tr>\n",
       "    <tr>\n",
       "      <th>75%</th>\n",
       "      <td>1.647847e+09</td>\n",
       "      <td>895.000000</td>\n",
       "      <td>6.777083</td>\n",
       "      <td>30.000000</td>\n",
       "      <td>175.000000</td>\n",
       "      <td>1600.000000</td>\n",
       "      <td>0.000000</td>\n",
       "      <td>0.000000</td>\n",
       "      <td>0.000000</td>\n",
       "      <td>0.000000</td>\n",
       "      <td>...</td>\n",
       "      <td>0.000000</td>\n",
       "      <td>0.000000</td>\n",
       "      <td>0.000000</td>\n",
       "      <td>0.000000</td>\n",
       "      <td>0.000000</td>\n",
       "      <td>0.000000</td>\n",
       "      <td>0.000000</td>\n",
       "      <td>0.000000</td>\n",
       "      <td>0.000000</td>\n",
       "      <td>10.000000</td>\n",
       "    </tr>\n",
       "    <tr>\n",
       "      <th>max</th>\n",
       "      <td>1.650986e+09</td>\n",
       "      <td>5400.000000</td>\n",
       "      <td>6.999965</td>\n",
       "      <td>1303.000000</td>\n",
       "      <td>5000.000000</td>\n",
       "      <td>5400.000000</td>\n",
       "      <td>1.000000</td>\n",
       "      <td>1.000000</td>\n",
       "      <td>1.000000</td>\n",
       "      <td>1.000000</td>\n",
       "      <td>...</td>\n",
       "      <td>1.000000</td>\n",
       "      <td>1.000000</td>\n",
       "      <td>1.000000</td>\n",
       "      <td>1.000000</td>\n",
       "      <td>1.000000</td>\n",
       "      <td>1.000000</td>\n",
       "      <td>1.000000</td>\n",
       "      <td>1.000000</td>\n",
       "      <td>1.000000</td>\n",
       "      <td>25.000000</td>\n",
       "    </tr>\n",
       "  </tbody>\n",
       "</table>\n",
       "<p>8 rows × 46 columns</p>\n",
       "</div>"
      ],
      "text/plain": [
       "          auctionid          bid      bidtime   bidderrate      openbid  \\\n",
       "count  1.213000e+03  1213.000000  1213.000000  1213.000000  1213.000000   \n",
       "mean   1.644577e+09   647.652539     4.078951    31.807914   159.142852   \n",
       "std    3.566101e+06   701.003386     2.505148    79.112571   388.456626   \n",
       "min    1.638844e+09     1.000000     0.007535    -4.000000     0.010000   \n",
       "25%    1.641784e+09   161.000000     1.578866     1.000000     1.000000   \n",
       "50%    1.644139e+09   400.000000     4.302025     5.000000     7.990000   \n",
       "75%    1.647847e+09   895.000000     6.777083    30.000000   175.000000   \n",
       "max    1.650986e+09  5400.000000     6.999965  1303.000000  5000.000000   \n",
       "\n",
       "             price  earthlink.ne   verizon.ne       aol.co       msn.co  ...  \\\n",
       "count  1213.000000   1213.000000  1213.000000  1213.000000  1213.000000  ...   \n",
       "mean   1010.246076      0.003298     0.004946     0.050289     0.006595  ...   \n",
       "std     832.676139      0.057354     0.070186     0.218630     0.080976  ...   \n",
       "min     103.500000      0.000000     0.000000     0.000000     0.000000  ...   \n",
       "25%     374.990000      0.000000     0.000000     0.000000     0.000000  ...   \n",
       "50%     680.000000      0.000000     0.000000     0.000000     0.000000  ...   \n",
       "75%    1600.000000      0.000000     0.000000     0.000000     0.000000  ...   \n",
       "max    5400.000000      1.000000     1.000000     1.000000     1.000000  ...   \n",
       "\n",
       "           altavis    disnow.co   calcsea.or    mcdata.co  bellsouth.ne  \\\n",
       "count  1213.000000  1213.000000  1213.000000  1213.000000   1213.000000   \n",
       "mean      0.003298     0.000824     0.004122     0.000824      0.001649   \n",
       "std       0.057354     0.028712     0.064097     0.028712      0.040589   \n",
       "min       0.000000     0.000000     0.000000     0.000000      0.000000   \n",
       "25%       0.000000     0.000000     0.000000     0.000000      0.000000   \n",
       "50%       0.000000     0.000000     0.000000     0.000000      0.000000   \n",
       "75%       0.000000     0.000000     0.000000     0.000000      0.000000   \n",
       "max       1.000000     1.000000     1.000000     1.000000      1.000000   \n",
       "\n",
       "         san.rr.co   dechert.co     yahoo.co  mindspring.co     user_len  \n",
       "count  1213.000000  1213.000000  1213.000000    1213.000000  1213.000000  \n",
       "mean      0.004946     0.000824     0.004122       0.003298     8.889530  \n",
       "std       0.070186     0.028712     0.064097       0.057354     2.805169  \n",
       "min       0.000000     0.000000     0.000000       0.000000     2.000000  \n",
       "25%       0.000000     0.000000     0.000000       0.000000     7.000000  \n",
       "50%       0.000000     0.000000     0.000000       0.000000     9.000000  \n",
       "75%       0.000000     0.000000     0.000000       0.000000    10.000000  \n",
       "max       1.000000     1.000000     1.000000       1.000000    25.000000  \n",
       "\n",
       "[8 rows x 46 columns]"
      ]
     },
     "execution_count": 393,
     "metadata": {},
     "output_type": "execute_result"
    }
   ],
   "source": [
    "# EXPLORATORY DATA ANALYSIS\n",
    "auction_data.describe()"
   ]
  },
  {
   "cell_type": "code",
   "execution_count": 75,
   "metadata": {},
   "outputs": [
    {
     "data": {
      "text/plain": [
       "(1206, 8)"
      ]
     },
     "execution_count": 75,
     "metadata": {},
     "output_type": "execute_result"
    }
   ],
   "source": [
    "# Removing outliers which are far above the mean\n",
    "df=df[auction_data['bidderrate']<400]\n",
    "df.shape"
   ]
  },
  {
   "cell_type": "code",
   "execution_count": 76,
   "metadata": {},
   "outputs": [
    {
     "data": {
      "text/plain": [
       "(1202, 8)"
      ]
     },
     "execution_count": 76,
     "metadata": {},
     "output_type": "execute_result"
    }
   ],
   "source": [
    "df=df[auction_data['bid']<4000]\n",
    "df.shape"
   ]
  },
  {
   "cell_type": "code",
   "execution_count": 77,
   "metadata": {},
   "outputs": [
    {
     "data": {
      "text/plain": [
       "1202"
      ]
     },
     "execution_count": 77,
     "metadata": {},
     "output_type": "execute_result"
    }
   ],
   "source": [
    "len(df[df['openbid']<2000]) # No more outliers are present "
   ]
  },
  {
   "cell_type": "code",
   "execution_count": 78,
   "metadata": {},
   "outputs": [],
   "source": [
    "# Dropping the 'auction_id' column\n",
    "df=df.drop('auctionid',1)"
   ]
  },
  {
   "cell_type": "code",
   "execution_count": 418,
   "metadata": {},
   "outputs": [
    {
     "data": {
      "text/html": [
       "<div>\n",
       "<style scoped>\n",
       "    .dataframe tbody tr th:only-of-type {\n",
       "        vertical-align: middle;\n",
       "    }\n",
       "\n",
       "    .dataframe tbody tr th {\n",
       "        vertical-align: top;\n",
       "    }\n",
       "\n",
       "    .dataframe thead th {\n",
       "        text-align: right;\n",
       "    }\n",
       "</style>\n",
       "<table border=\"1\" class=\"dataframe\">\n",
       "  <thead>\n",
       "    <tr style=\"text-align: right;\">\n",
       "      <th></th>\n",
       "      <th>auctionid</th>\n",
       "      <th>bid</th>\n",
       "      <th>bidtime</th>\n",
       "      <th>bidderrate</th>\n",
       "      <th>openbid</th>\n",
       "      <th>price</th>\n",
       "      <th>earthlink.ne</th>\n",
       "      <th>verizon.ne</th>\n",
       "      <th>aol.co</th>\n",
       "      <th>msn.co</th>\n",
       "      <th>...</th>\n",
       "      <th>altavis</th>\n",
       "      <th>disnow.co</th>\n",
       "      <th>calcsea.or</th>\n",
       "      <th>mcdata.co</th>\n",
       "      <th>bellsouth.ne</th>\n",
       "      <th>san.rr.co</th>\n",
       "      <th>dechert.co</th>\n",
       "      <th>yahoo.co</th>\n",
       "      <th>mindspring.co</th>\n",
       "      <th>user_len</th>\n",
       "    </tr>\n",
       "  </thead>\n",
       "  <tbody>\n",
       "    <tr>\n",
       "      <th>auctionid</th>\n",
       "      <td>1.000000</td>\n",
       "      <td>0.076822</td>\n",
       "      <td>-0.014198</td>\n",
       "      <td>0.055943</td>\n",
       "      <td>0.007248</td>\n",
       "      <td>0.075352</td>\n",
       "      <td>-0.003671</td>\n",
       "      <td>-0.114566</td>\n",
       "      <td>-0.025450</td>\n",
       "      <td>-0.012382</td>\n",
       "      <td>...</td>\n",
       "      <td>0.059326</td>\n",
       "      <td>-0.010992</td>\n",
       "      <td>0.071629</td>\n",
       "      <td>-0.046081</td>\n",
       "      <td>-0.002779</td>\n",
       "      <td>-0.011001</td>\n",
       "      <td>-0.016907</td>\n",
       "      <td>-0.050289</td>\n",
       "      <td>-0.085403</td>\n",
       "      <td>0.085795</td>\n",
       "    </tr>\n",
       "    <tr>\n",
       "      <th>bid</th>\n",
       "      <td>0.076822</td>\n",
       "      <td>1.000000</td>\n",
       "      <td>0.218780</td>\n",
       "      <td>-0.000327</td>\n",
       "      <td>0.423217</td>\n",
       "      <td>0.818606</td>\n",
       "      <td>-0.010693</td>\n",
       "      <td>-0.038867</td>\n",
       "      <td>-0.001855</td>\n",
       "      <td>0.035874</td>\n",
       "      <td>...</td>\n",
       "      <td>-0.000635</td>\n",
       "      <td>-0.005707</td>\n",
       "      <td>-0.023459</td>\n",
       "      <td>-0.023214</td>\n",
       "      <td>0.000497</td>\n",
       "      <td>0.220649</td>\n",
       "      <td>0.017502</td>\n",
       "      <td>-0.041519</td>\n",
       "      <td>-0.040120</td>\n",
       "      <td>-0.080043</td>\n",
       "    </tr>\n",
       "    <tr>\n",
       "      <th>bidtime</th>\n",
       "      <td>-0.014198</td>\n",
       "      <td>0.218780</td>\n",
       "      <td>1.000000</td>\n",
       "      <td>0.010255</td>\n",
       "      <td>0.170795</td>\n",
       "      <td>-0.129658</td>\n",
       "      <td>-0.022537</td>\n",
       "      <td>0.078114</td>\n",
       "      <td>0.047179</td>\n",
       "      <td>-0.058980</td>\n",
       "      <td>...</td>\n",
       "      <td>0.055179</td>\n",
       "      <td>-0.040906</td>\n",
       "      <td>0.073073</td>\n",
       "      <td>0.019310</td>\n",
       "      <td>0.010475</td>\n",
       "      <td>0.044103</td>\n",
       "      <td>0.022269</td>\n",
       "      <td>-0.057628</td>\n",
       "      <td>0.067610</td>\n",
       "      <td>0.012224</td>\n",
       "    </tr>\n",
       "    <tr>\n",
       "      <th>bidderrate</th>\n",
       "      <td>0.055943</td>\n",
       "      <td>-0.000327</td>\n",
       "      <td>0.010255</td>\n",
       "      <td>1.000000</td>\n",
       "      <td>0.169046</td>\n",
       "      <td>-0.026945</td>\n",
       "      <td>0.210440</td>\n",
       "      <td>-0.012912</td>\n",
       "      <td>0.104688</td>\n",
       "      <td>-0.015498</td>\n",
       "      <td>...</td>\n",
       "      <td>-0.024633</td>\n",
       "      <td>-0.011760</td>\n",
       "      <td>-0.012995</td>\n",
       "      <td>0.002863</td>\n",
       "      <td>0.064584</td>\n",
       "      <td>-0.032853</td>\n",
       "      <td>0.047274</td>\n",
       "      <td>-0.025611</td>\n",
       "      <td>-0.006196</td>\n",
       "      <td>-0.135771</td>\n",
       "    </tr>\n",
       "    <tr>\n",
       "      <th>openbid</th>\n",
       "      <td>0.007248</td>\n",
       "      <td>0.423217</td>\n",
       "      <td>0.170795</td>\n",
       "      <td>0.169046</td>\n",
       "      <td>1.000000</td>\n",
       "      <td>0.331437</td>\n",
       "      <td>-0.025269</td>\n",
       "      <td>0.021292</td>\n",
       "      <td>0.018171</td>\n",
       "      <td>0.070586</td>\n",
       "      <td>...</td>\n",
       "      <td>-0.030266</td>\n",
       "      <td>0.037773</td>\n",
       "      <td>0.025232</td>\n",
       "      <td>-0.012565</td>\n",
       "      <td>-0.021384</td>\n",
       "      <td>0.197250</td>\n",
       "      <td>0.037879</td>\n",
       "      <td>-0.006451</td>\n",
       "      <td>-0.029418</td>\n",
       "      <td>-0.054601</td>\n",
       "    </tr>\n",
       "    <tr>\n",
       "      <th>price</th>\n",
       "      <td>0.075352</td>\n",
       "      <td>0.818606</td>\n",
       "      <td>-0.129658</td>\n",
       "      <td>-0.026945</td>\n",
       "      <td>0.331437</td>\n",
       "      <td>1.000000</td>\n",
       "      <td>-0.007418</td>\n",
       "      <td>-0.060411</td>\n",
       "      <td>-0.014592</td>\n",
       "      <td>0.063929</td>\n",
       "      <td>...</td>\n",
       "      <td>-0.023091</td>\n",
       "      <td>0.001004</td>\n",
       "      <td>-0.041550</td>\n",
       "      <td>-0.027972</td>\n",
       "      <td>-0.018371</td>\n",
       "      <td>0.249951</td>\n",
       "      <td>0.001004</td>\n",
       "      <td>-0.046384</td>\n",
       "      <td>-0.053903</td>\n",
       "      <td>-0.103759</td>\n",
       "    </tr>\n",
       "    <tr>\n",
       "      <th>earthlink.ne</th>\n",
       "      <td>-0.003671</td>\n",
       "      <td>-0.010693</td>\n",
       "      <td>-0.022537</td>\n",
       "      <td>0.210440</td>\n",
       "      <td>-0.025269</td>\n",
       "      <td>-0.007418</td>\n",
       "      <td>1.000000</td>\n",
       "      <td>-0.004093</td>\n",
       "      <td>-0.013361</td>\n",
       "      <td>-0.004730</td>\n",
       "      <td>...</td>\n",
       "      <td>-0.003339</td>\n",
       "      <td>-0.001667</td>\n",
       "      <td>-0.003735</td>\n",
       "      <td>-0.001667</td>\n",
       "      <td>-0.002359</td>\n",
       "      <td>-0.004093</td>\n",
       "      <td>-0.001667</td>\n",
       "      <td>-0.003735</td>\n",
       "      <td>-0.003339</td>\n",
       "      <td>-0.064957</td>\n",
       "    </tr>\n",
       "    <tr>\n",
       "      <th>verizon.ne</th>\n",
       "      <td>-0.114566</td>\n",
       "      <td>-0.038867</td>\n",
       "      <td>0.078114</td>\n",
       "      <td>-0.012912</td>\n",
       "      <td>0.021292</td>\n",
       "      <td>-0.060411</td>\n",
       "      <td>-0.004093</td>\n",
       "      <td>1.000000</td>\n",
       "      <td>-0.016377</td>\n",
       "      <td>-0.005798</td>\n",
       "      <td>...</td>\n",
       "      <td>-0.004093</td>\n",
       "      <td>-0.002044</td>\n",
       "      <td>-0.004578</td>\n",
       "      <td>-0.002044</td>\n",
       "      <td>-0.002892</td>\n",
       "      <td>-0.005017</td>\n",
       "      <td>-0.002044</td>\n",
       "      <td>-0.004578</td>\n",
       "      <td>-0.004093</td>\n",
       "      <td>0.002437</td>\n",
       "    </tr>\n",
       "    <tr>\n",
       "      <th>aol.co</th>\n",
       "      <td>-0.025450</td>\n",
       "      <td>-0.001855</td>\n",
       "      <td>0.047179</td>\n",
       "      <td>0.104688</td>\n",
       "      <td>0.018171</td>\n",
       "      <td>-0.014592</td>\n",
       "      <td>-0.013361</td>\n",
       "      <td>-0.016377</td>\n",
       "      <td>1.000000</td>\n",
       "      <td>-0.018926</td>\n",
       "      <td>...</td>\n",
       "      <td>-0.013361</td>\n",
       "      <td>-0.006672</td>\n",
       "      <td>-0.014944</td>\n",
       "      <td>-0.006672</td>\n",
       "      <td>-0.009439</td>\n",
       "      <td>-0.016377</td>\n",
       "      <td>-0.006672</td>\n",
       "      <td>-0.014944</td>\n",
       "      <td>-0.013361</td>\n",
       "      <td>-0.027177</td>\n",
       "    </tr>\n",
       "    <tr>\n",
       "      <th>msn.co</th>\n",
       "      <td>-0.012382</td>\n",
       "      <td>0.035874</td>\n",
       "      <td>-0.058980</td>\n",
       "      <td>-0.015498</td>\n",
       "      <td>0.070586</td>\n",
       "      <td>0.063929</td>\n",
       "      <td>-0.004730</td>\n",
       "      <td>-0.005798</td>\n",
       "      <td>-0.018926</td>\n",
       "      <td>1.000000</td>\n",
       "      <td>...</td>\n",
       "      <td>-0.004730</td>\n",
       "      <td>-0.002362</td>\n",
       "      <td>-0.005290</td>\n",
       "      <td>-0.002362</td>\n",
       "      <td>-0.003342</td>\n",
       "      <td>-0.005798</td>\n",
       "      <td>-0.002362</td>\n",
       "      <td>-0.005290</td>\n",
       "      <td>-0.004730</td>\n",
       "      <td>-0.048248</td>\n",
       "    </tr>\n",
       "    <tr>\n",
       "      <th>tampabay.rr.co</th>\n",
       "      <td>0.034854</td>\n",
       "      <td>-0.019356</td>\n",
       "      <td>0.020326</td>\n",
       "      <td>0.002519</td>\n",
       "      <td>-0.021384</td>\n",
       "      <td>-0.031222</td>\n",
       "      <td>-0.002359</td>\n",
       "      <td>-0.002892</td>\n",
       "      <td>-0.009439</td>\n",
       "      <td>-0.003342</td>\n",
       "      <td>...</td>\n",
       "      <td>-0.002359</td>\n",
       "      <td>-0.001178</td>\n",
       "      <td>-0.002639</td>\n",
       "      <td>-0.001178</td>\n",
       "      <td>-0.001667</td>\n",
       "      <td>-0.002892</td>\n",
       "      <td>-0.001178</td>\n",
       "      <td>-0.002639</td>\n",
       "      <td>-0.002359</td>\n",
       "      <td>-0.013149</td>\n",
       "    </tr>\n",
       "    <tr>\n",
       "      <th>webtv.co</th>\n",
       "      <td>NaN</td>\n",
       "      <td>NaN</td>\n",
       "      <td>NaN</td>\n",
       "      <td>NaN</td>\n",
       "      <td>NaN</td>\n",
       "      <td>NaN</td>\n",
       "      <td>NaN</td>\n",
       "      <td>NaN</td>\n",
       "      <td>NaN</td>\n",
       "      <td>NaN</td>\n",
       "      <td>...</td>\n",
       "      <td>NaN</td>\n",
       "      <td>NaN</td>\n",
       "      <td>NaN</td>\n",
       "      <td>NaN</td>\n",
       "      <td>NaN</td>\n",
       "      <td>NaN</td>\n",
       "      <td>NaN</td>\n",
       "      <td>NaN</td>\n",
       "      <td>NaN</td>\n",
       "      <td>NaN</td>\n",
       "    </tr>\n",
       "    <tr>\n",
       "      <th>shadow.ne</th>\n",
       "      <td>-0.042713</td>\n",
       "      <td>-0.016978</td>\n",
       "      <td>-0.022057</td>\n",
       "      <td>0.053773</td>\n",
       "      <td>0.001241</td>\n",
       "      <td>-0.018012</td>\n",
       "      <td>-0.001667</td>\n",
       "      <td>-0.002044</td>\n",
       "      <td>-0.006672</td>\n",
       "      <td>-0.002362</td>\n",
       "      <td>...</td>\n",
       "      <td>-0.001667</td>\n",
       "      <td>-0.000833</td>\n",
       "      <td>-0.001865</td>\n",
       "      <td>-0.000833</td>\n",
       "      <td>-0.001178</td>\n",
       "      <td>-0.002044</td>\n",
       "      <td>-0.000833</td>\n",
       "      <td>-0.001865</td>\n",
       "      <td>-0.001667</td>\n",
       "      <td>0.011279</td>\n",
       "    </tr>\n",
       "    <tr>\n",
       "      <th>amexol.ne</th>\n",
       "      <td>-0.044743</td>\n",
       "      <td>-0.064349</td>\n",
       "      <td>-0.007327</td>\n",
       "      <td>-0.033766</td>\n",
       "      <td>-0.027807</td>\n",
       "      <td>-0.073607</td>\n",
       "      <td>-0.005019</td>\n",
       "      <td>-0.006152</td>\n",
       "      <td>-0.020083</td>\n",
       "      <td>-0.007110</td>\n",
       "      <td>...</td>\n",
       "      <td>-0.005019</td>\n",
       "      <td>-0.002506</td>\n",
       "      <td>-0.005614</td>\n",
       "      <td>-0.002506</td>\n",
       "      <td>-0.003546</td>\n",
       "      <td>-0.006152</td>\n",
       "      <td>-0.002506</td>\n",
       "      <td>-0.005614</td>\n",
       "      <td>-0.005019</td>\n",
       "      <td>0.002988</td>\n",
       "    </tr>\n",
       "    <tr>\n",
       "      <th>columbia.ed</th>\n",
       "      <td>-0.011251</td>\n",
       "      <td>0.000797</td>\n",
       "      <td>-0.031681</td>\n",
       "      <td>-0.014467</td>\n",
       "      <td>-0.005131</td>\n",
       "      <td>0.058229</td>\n",
       "      <td>-0.001667</td>\n",
       "      <td>-0.002044</td>\n",
       "      <td>-0.006672</td>\n",
       "      <td>-0.002362</td>\n",
       "      <td>...</td>\n",
       "      <td>-0.001667</td>\n",
       "      <td>-0.000833</td>\n",
       "      <td>-0.001865</td>\n",
       "      <td>-0.000833</td>\n",
       "      <td>-0.001178</td>\n",
       "      <td>-0.002044</td>\n",
       "      <td>-0.000833</td>\n",
       "      <td>-0.001865</td>\n",
       "      <td>-0.001667</td>\n",
       "      <td>-0.040153</td>\n",
       "    </tr>\n",
       "    <tr>\n",
       "      <th>stargate.ne</th>\n",
       "      <td>0.011418</td>\n",
       "      <td>-0.023103</td>\n",
       "      <td>0.031317</td>\n",
       "      <td>0.066771</td>\n",
       "      <td>-0.009910</td>\n",
       "      <td>-0.032114</td>\n",
       "      <td>-0.001667</td>\n",
       "      <td>-0.002044</td>\n",
       "      <td>-0.006672</td>\n",
       "      <td>-0.002362</td>\n",
       "      <td>...</td>\n",
       "      <td>-0.001667</td>\n",
       "      <td>-0.000833</td>\n",
       "      <td>-0.001865</td>\n",
       "      <td>-0.000833</td>\n",
       "      <td>-0.001178</td>\n",
       "      <td>-0.002044</td>\n",
       "      <td>-0.000833</td>\n",
       "      <td>-0.001865</td>\n",
       "      <td>-0.001667</td>\n",
       "      <td>-0.040153</td>\n",
       "    </tr>\n",
       "    <tr>\n",
       "      <th>elliman.co</th>\n",
       "      <td>0.016009</td>\n",
       "      <td>-0.019250</td>\n",
       "      <td>-0.042980</td>\n",
       "      <td>-0.013384</td>\n",
       "      <td>-0.015114</td>\n",
       "      <td>0.008307</td>\n",
       "      <td>-0.001667</td>\n",
       "      <td>-0.002044</td>\n",
       "      <td>-0.006672</td>\n",
       "      <td>-0.002362</td>\n",
       "      <td>...</td>\n",
       "      <td>-0.001667</td>\n",
       "      <td>-0.000833</td>\n",
       "      <td>-0.001865</td>\n",
       "      <td>-0.000833</td>\n",
       "      <td>-0.001178</td>\n",
       "      <td>-0.002044</td>\n",
       "      <td>-0.000833</td>\n",
       "      <td>-0.001865</td>\n",
       "      <td>-0.001667</td>\n",
       "      <td>-0.019580</td>\n",
       "    </tr>\n",
       "    <tr>\n",
       "      <th>scottsbluff.n</th>\n",
       "      <td>0.040876</td>\n",
       "      <td>0.055590</td>\n",
       "      <td>0.032356</td>\n",
       "      <td>-0.015009</td>\n",
       "      <td>-0.015114</td>\n",
       "      <td>0.032069</td>\n",
       "      <td>-0.001667</td>\n",
       "      <td>-0.002044</td>\n",
       "      <td>-0.006672</td>\n",
       "      <td>-0.002362</td>\n",
       "      <td>...</td>\n",
       "      <td>-0.001667</td>\n",
       "      <td>-0.000833</td>\n",
       "      <td>-0.001865</td>\n",
       "      <td>-0.000833</td>\n",
       "      <td>-0.001178</td>\n",
       "      <td>-0.002044</td>\n",
       "      <td>-0.000833</td>\n",
       "      <td>-0.001865</td>\n",
       "      <td>-0.001667</td>\n",
       "      <td>0.011279</td>\n",
       "    </tr>\n",
       "    <tr>\n",
       "      <th>btconnect.co</th>\n",
       "      <td>-0.040814</td>\n",
       "      <td>-0.016246</td>\n",
       "      <td>-0.033190</td>\n",
       "      <td>-0.030056</td>\n",
       "      <td>0.007058</td>\n",
       "      <td>0.014352</td>\n",
       "      <td>-0.003339</td>\n",
       "      <td>-0.004093</td>\n",
       "      <td>-0.013361</td>\n",
       "      <td>-0.004730</td>\n",
       "      <td>...</td>\n",
       "      <td>-0.003339</td>\n",
       "      <td>-0.001667</td>\n",
       "      <td>-0.003735</td>\n",
       "      <td>-0.001667</td>\n",
       "      <td>-0.002359</td>\n",
       "      <td>-0.004093</td>\n",
       "      <td>-0.001667</td>\n",
       "      <td>-0.003735</td>\n",
       "      <td>-0.003339</td>\n",
       "      <td>0.022586</td>\n",
       "    </tr>\n",
       "    <tr>\n",
       "      <th>northlink.co</th>\n",
       "      <td>-0.028655</td>\n",
       "      <td>-0.003767</td>\n",
       "      <td>-0.034980</td>\n",
       "      <td>-0.022263</td>\n",
       "      <td>-0.007789</td>\n",
       "      <td>0.052127</td>\n",
       "      <td>-0.002890</td>\n",
       "      <td>-0.003543</td>\n",
       "      <td>-0.011566</td>\n",
       "      <td>-0.004094</td>\n",
       "      <td>...</td>\n",
       "      <td>-0.002890</td>\n",
       "      <td>-0.001443</td>\n",
       "      <td>-0.003233</td>\n",
       "      <td>-0.001443</td>\n",
       "      <td>-0.002042</td>\n",
       "      <td>-0.003543</td>\n",
       "      <td>-0.001443</td>\n",
       "      <td>-0.003233</td>\n",
       "      <td>-0.002890</td>\n",
       "      <td>-0.051773</td>\n",
       "    </tr>\n",
       "    <tr>\n",
       "      <th>ucnsb.ne</th>\n",
       "      <td>-0.023336</td>\n",
       "      <td>-0.025932</td>\n",
       "      <td>-0.031614</td>\n",
       "      <td>-0.012843</td>\n",
       "      <td>-0.014159</td>\n",
       "      <td>-0.030606</td>\n",
       "      <td>-0.001667</td>\n",
       "      <td>-0.002044</td>\n",
       "      <td>-0.006672</td>\n",
       "      <td>-0.002362</td>\n",
       "      <td>...</td>\n",
       "      <td>-0.001667</td>\n",
       "      <td>-0.000833</td>\n",
       "      <td>-0.001865</td>\n",
       "      <td>-0.000833</td>\n",
       "      <td>-0.001178</td>\n",
       "      <td>-0.002044</td>\n",
       "      <td>-0.000833</td>\n",
       "      <td>-0.001865</td>\n",
       "      <td>-0.001667</td>\n",
       "      <td>-0.040153</td>\n",
       "    </tr>\n",
       "    <tr>\n",
       "      <th>purplepicket.co</th>\n",
       "      <td>-0.004609</td>\n",
       "      <td>-0.033380</td>\n",
       "      <td>-0.047358</td>\n",
       "      <td>0.014779</td>\n",
       "      <td>-0.021532</td>\n",
       "      <td>-0.035848</td>\n",
       "      <td>-0.002359</td>\n",
       "      <td>-0.002892</td>\n",
       "      <td>-0.009439</td>\n",
       "      <td>-0.003342</td>\n",
       "      <td>...</td>\n",
       "      <td>-0.002359</td>\n",
       "      <td>-0.001178</td>\n",
       "      <td>-0.002639</td>\n",
       "      <td>-0.001178</td>\n",
       "      <td>-0.001667</td>\n",
       "      <td>-0.002892</td>\n",
       "      <td>-0.001178</td>\n",
       "      <td>-0.002639</td>\n",
       "      <td>-0.002359</td>\n",
       "      <td>-0.056808</td>\n",
       "    </tr>\n",
       "    <tr>\n",
       "      <th>netzero.n</th>\n",
       "      <td>-0.061043</td>\n",
       "      <td>0.010613</td>\n",
       "      <td>0.002189</td>\n",
       "      <td>-0.012806</td>\n",
       "      <td>0.027298</td>\n",
       "      <td>0.005960</td>\n",
       "      <td>-0.002359</td>\n",
       "      <td>-0.002892</td>\n",
       "      <td>-0.009439</td>\n",
       "      <td>-0.003342</td>\n",
       "      <td>...</td>\n",
       "      <td>-0.002359</td>\n",
       "      <td>-0.001178</td>\n",
       "      <td>-0.002639</td>\n",
       "      <td>-0.001178</td>\n",
       "      <td>-0.001667</td>\n",
       "      <td>-0.002892</td>\n",
       "      <td>-0.001178</td>\n",
       "      <td>-0.002639</td>\n",
       "      <td>-0.002359</td>\n",
       "      <td>0.074170</td>\n",
       "    </tr>\n",
       "    <tr>\n",
       "      <th>prodigy.ne</th>\n",
       "      <td>-0.026615</td>\n",
       "      <td>0.238446</td>\n",
       "      <td>0.043031</td>\n",
       "      <td>0.131326</td>\n",
       "      <td>0.158365</td>\n",
       "      <td>0.197280</td>\n",
       "      <td>-0.004093</td>\n",
       "      <td>-0.005017</td>\n",
       "      <td>-0.016377</td>\n",
       "      <td>-0.005798</td>\n",
       "      <td>...</td>\n",
       "      <td>-0.004093</td>\n",
       "      <td>-0.002044</td>\n",
       "      <td>-0.004578</td>\n",
       "      <td>-0.002044</td>\n",
       "      <td>-0.002892</td>\n",
       "      <td>-0.005017</td>\n",
       "      <td>-0.002044</td>\n",
       "      <td>-0.004578</td>\n",
       "      <td>-0.004093</td>\n",
       "      <td>-0.056478</td>\n",
       "    </tr>\n",
       "    <tr>\n",
       "      <th>erols.co</th>\n",
       "      <td>0.016009</td>\n",
       "      <td>-0.010340</td>\n",
       "      <td>-0.043273</td>\n",
       "      <td>0.071104</td>\n",
       "      <td>-0.015114</td>\n",
       "      <td>0.008307</td>\n",
       "      <td>-0.001667</td>\n",
       "      <td>-0.002044</td>\n",
       "      <td>-0.006672</td>\n",
       "      <td>-0.002362</td>\n",
       "      <td>...</td>\n",
       "      <td>-0.001667</td>\n",
       "      <td>-0.000833</td>\n",
       "      <td>-0.001865</td>\n",
       "      <td>-0.000833</td>\n",
       "      <td>-0.001178</td>\n",
       "      <td>-0.002044</td>\n",
       "      <td>-0.000833</td>\n",
       "      <td>-0.001865</td>\n",
       "      <td>-0.001667</td>\n",
       "      <td>-0.009294</td>\n",
       "    </tr>\n",
       "    <tr>\n",
       "      <th>mediaone.ne</th>\n",
       "      <td>0.020371</td>\n",
       "      <td>0.003890</td>\n",
       "      <td>0.037273</td>\n",
       "      <td>0.026882</td>\n",
       "      <td>-0.003791</td>\n",
       "      <td>-0.018908</td>\n",
       "      <td>-0.003339</td>\n",
       "      <td>-0.004093</td>\n",
       "      <td>-0.013361</td>\n",
       "      <td>-0.004730</td>\n",
       "      <td>...</td>\n",
       "      <td>-0.003339</td>\n",
       "      <td>-0.001667</td>\n",
       "      <td>-0.003735</td>\n",
       "      <td>-0.001667</td>\n",
       "      <td>-0.002359</td>\n",
       "      <td>-0.004093</td>\n",
       "      <td>-0.001667</td>\n",
       "      <td>-0.003735</td>\n",
       "      <td>-0.003339</td>\n",
       "      <td>-0.090705</td>\n",
       "    </tr>\n",
       "    <tr>\n",
       "      <th>wxs.n</th>\n",
       "      <td>-0.023921</td>\n",
       "      <td>0.005539</td>\n",
       "      <td>0.016854</td>\n",
       "      <td>-0.009741</td>\n",
       "      <td>0.053592</td>\n",
       "      <td>0.001420</td>\n",
       "      <td>-0.002359</td>\n",
       "      <td>-0.002892</td>\n",
       "      <td>-0.009439</td>\n",
       "      <td>-0.003342</td>\n",
       "      <td>...</td>\n",
       "      <td>-0.002359</td>\n",
       "      <td>-0.001178</td>\n",
       "      <td>-0.002639</td>\n",
       "      <td>-0.001178</td>\n",
       "      <td>-0.001667</td>\n",
       "      <td>-0.002892</td>\n",
       "      <td>-0.001178</td>\n",
       "      <td>-0.002639</td>\n",
       "      <td>-0.002359</td>\n",
       "      <td>-0.013149</td>\n",
       "    </tr>\n",
       "    <tr>\n",
       "      <th>hotmail.co</th>\n",
       "      <td>0.016702</td>\n",
       "      <td>0.043831</td>\n",
       "      <td>0.050992</td>\n",
       "      <td>-0.029163</td>\n",
       "      <td>0.094903</td>\n",
       "      <td>0.030196</td>\n",
       "      <td>-0.005553</td>\n",
       "      <td>-0.006807</td>\n",
       "      <td>-0.022221</td>\n",
       "      <td>-0.007867</td>\n",
       "      <td>...</td>\n",
       "      <td>-0.005553</td>\n",
       "      <td>-0.002773</td>\n",
       "      <td>-0.006211</td>\n",
       "      <td>-0.002773</td>\n",
       "      <td>-0.003923</td>\n",
       "      <td>-0.006807</td>\n",
       "      <td>-0.002773</td>\n",
       "      <td>-0.006211</td>\n",
       "      <td>-0.005553</td>\n",
       "      <td>-0.012266</td>\n",
       "    </tr>\n",
       "    <tr>\n",
       "      <th>mac.co</th>\n",
       "      <td>0.027752</td>\n",
       "      <td>0.018087</td>\n",
       "      <td>-0.062135</td>\n",
       "      <td>-0.017569</td>\n",
       "      <td>-0.026200</td>\n",
       "      <td>0.014400</td>\n",
       "      <td>-0.002890</td>\n",
       "      <td>-0.003543</td>\n",
       "      <td>-0.011566</td>\n",
       "      <td>-0.004094</td>\n",
       "      <td>...</td>\n",
       "      <td>-0.002890</td>\n",
       "      <td>-0.001443</td>\n",
       "      <td>-0.003233</td>\n",
       "      <td>-0.001443</td>\n",
       "      <td>-0.002042</td>\n",
       "      <td>-0.003543</td>\n",
       "      <td>-0.001443</td>\n",
       "      <td>-0.003233</td>\n",
       "      <td>-0.002890</td>\n",
       "      <td>-0.016111</td>\n",
       "    </tr>\n",
       "    <tr>\n",
       "      <th>cs.co</th>\n",
       "      <td>-0.025199</td>\n",
       "      <td>0.158435</td>\n",
       "      <td>0.073189</td>\n",
       "      <td>-0.025126</td>\n",
       "      <td>-0.011493</td>\n",
       "      <td>0.130422</td>\n",
       "      <td>-0.003735</td>\n",
       "      <td>-0.004578</td>\n",
       "      <td>-0.014944</td>\n",
       "      <td>-0.005290</td>\n",
       "      <td>...</td>\n",
       "      <td>-0.003735</td>\n",
       "      <td>-0.001865</td>\n",
       "      <td>-0.004177</td>\n",
       "      <td>-0.001865</td>\n",
       "      <td>-0.002639</td>\n",
       "      <td>-0.004578</td>\n",
       "      <td>-0.001865</td>\n",
       "      <td>-0.004177</td>\n",
       "      <td>-0.003735</td>\n",
       "      <td>0.025263</td>\n",
       "    </tr>\n",
       "    <tr>\n",
       "      <th>wellsref.co</th>\n",
       "      <td>-0.004231</td>\n",
       "      <td>-0.011498</td>\n",
       "      <td>0.024341</td>\n",
       "      <td>-0.012301</td>\n",
       "      <td>-0.015114</td>\n",
       "      <td>-0.022649</td>\n",
       "      <td>-0.001667</td>\n",
       "      <td>-0.002044</td>\n",
       "      <td>-0.006672</td>\n",
       "      <td>-0.002362</td>\n",
       "      <td>...</td>\n",
       "      <td>-0.001667</td>\n",
       "      <td>-0.000833</td>\n",
       "      <td>-0.001865</td>\n",
       "      <td>-0.000833</td>\n",
       "      <td>-0.001178</td>\n",
       "      <td>-0.002044</td>\n",
       "      <td>-0.000833</td>\n",
       "      <td>-0.001865</td>\n",
       "      <td>-0.001667</td>\n",
       "      <td>-0.071012</td>\n",
       "    </tr>\n",
       "    <tr>\n",
       "      <th>slk.co</th>\n",
       "      <td>0.081853</td>\n",
       "      <td>0.101284</td>\n",
       "      <td>-0.010813</td>\n",
       "      <td>-0.030056</td>\n",
       "      <td>-0.030266</td>\n",
       "      <td>0.064218</td>\n",
       "      <td>-0.003339</td>\n",
       "      <td>-0.004093</td>\n",
       "      <td>-0.013361</td>\n",
       "      <td>-0.004730</td>\n",
       "      <td>...</td>\n",
       "      <td>-0.003339</td>\n",
       "      <td>-0.001667</td>\n",
       "      <td>-0.003735</td>\n",
       "      <td>-0.001667</td>\n",
       "      <td>-0.002359</td>\n",
       "      <td>-0.004093</td>\n",
       "      <td>-0.001667</td>\n",
       "      <td>-0.003735</td>\n",
       "      <td>-0.003339</td>\n",
       "      <td>0.043185</td>\n",
       "    </tr>\n",
       "    <tr>\n",
       "      <th>ti.co</th>\n",
       "      <td>0.029151</td>\n",
       "      <td>-0.021744</td>\n",
       "      <td>0.028607</td>\n",
       "      <td>0.114431</td>\n",
       "      <td>-0.007255</td>\n",
       "      <td>-0.029716</td>\n",
       "      <td>-0.001667</td>\n",
       "      <td>-0.002044</td>\n",
       "      <td>-0.006672</td>\n",
       "      <td>-0.002362</td>\n",
       "      <td>...</td>\n",
       "      <td>-0.001667</td>\n",
       "      <td>-0.000833</td>\n",
       "      <td>-0.001865</td>\n",
       "      <td>-0.000833</td>\n",
       "      <td>-0.001178</td>\n",
       "      <td>-0.002044</td>\n",
       "      <td>-0.000833</td>\n",
       "      <td>-0.001865</td>\n",
       "      <td>-0.001667</td>\n",
       "      <td>-0.050439</td>\n",
       "    </tr>\n",
       "    <tr>\n",
       "      <th>home.co</th>\n",
       "      <td>-0.014659</td>\n",
       "      <td>0.054700</td>\n",
       "      <td>-0.003742</td>\n",
       "      <td>0.003668</td>\n",
       "      <td>-0.021384</td>\n",
       "      <td>0.057400</td>\n",
       "      <td>-0.002359</td>\n",
       "      <td>-0.002892</td>\n",
       "      <td>-0.009439</td>\n",
       "      <td>-0.003342</td>\n",
       "      <td>...</td>\n",
       "      <td>-0.002359</td>\n",
       "      <td>-0.001178</td>\n",
       "      <td>-0.002639</td>\n",
       "      <td>-0.001178</td>\n",
       "      <td>-0.001667</td>\n",
       "      <td>-0.002892</td>\n",
       "      <td>-0.001178</td>\n",
       "      <td>-0.002639</td>\n",
       "      <td>-0.002359</td>\n",
       "      <td>-0.042255</td>\n",
       "    </tr>\n",
       "    <tr>\n",
       "      <th>easytel.ne</th>\n",
       "      <td>0.001010</td>\n",
       "      <td>-0.021143</td>\n",
       "      <td>-0.026926</td>\n",
       "      <td>-0.014467</td>\n",
       "      <td>0.001241</td>\n",
       "      <td>-0.025156</td>\n",
       "      <td>-0.001667</td>\n",
       "      <td>-0.002044</td>\n",
       "      <td>-0.006672</td>\n",
       "      <td>-0.002362</td>\n",
       "      <td>...</td>\n",
       "      <td>-0.001667</td>\n",
       "      <td>-0.000833</td>\n",
       "      <td>-0.001865</td>\n",
       "      <td>-0.000833</td>\n",
       "      <td>-0.001178</td>\n",
       "      <td>-0.002044</td>\n",
       "      <td>-0.000833</td>\n",
       "      <td>-0.001865</td>\n",
       "      <td>-0.001667</td>\n",
       "      <td>-0.029866</td>\n",
       "    </tr>\n",
       "    <tr>\n",
       "      <th>excite.co</th>\n",
       "      <td>-0.024215</td>\n",
       "      <td>0.029216</td>\n",
       "      <td>0.019069</td>\n",
       "      <td>-0.029133</td>\n",
       "      <td>-0.021747</td>\n",
       "      <td>0.040931</td>\n",
       "      <td>-0.004730</td>\n",
       "      <td>-0.005798</td>\n",
       "      <td>-0.018926</td>\n",
       "      <td>-0.006700</td>\n",
       "      <td>...</td>\n",
       "      <td>-0.004730</td>\n",
       "      <td>-0.002362</td>\n",
       "      <td>-0.005290</td>\n",
       "      <td>-0.002362</td>\n",
       "      <td>-0.003342</td>\n",
       "      <td>-0.005798</td>\n",
       "      <td>-0.002362</td>\n",
       "      <td>-0.005290</td>\n",
       "      <td>-0.004730</td>\n",
       "      <td>-0.102959</td>\n",
       "    </tr>\n",
       "    <tr>\n",
       "      <th>altavis</th>\n",
       "      <td>0.059326</td>\n",
       "      <td>-0.000635</td>\n",
       "      <td>0.055179</td>\n",
       "      <td>-0.024633</td>\n",
       "      <td>-0.030266</td>\n",
       "      <td>-0.023091</td>\n",
       "      <td>-0.003339</td>\n",
       "      <td>-0.004093</td>\n",
       "      <td>-0.013361</td>\n",
       "      <td>-0.004730</td>\n",
       "      <td>...</td>\n",
       "      <td>1.000000</td>\n",
       "      <td>-0.001667</td>\n",
       "      <td>-0.003735</td>\n",
       "      <td>-0.001667</td>\n",
       "      <td>-0.002359</td>\n",
       "      <td>-0.004093</td>\n",
       "      <td>-0.001667</td>\n",
       "      <td>-0.003735</td>\n",
       "      <td>-0.003339</td>\n",
       "      <td>0.146177</td>\n",
       "    </tr>\n",
       "    <tr>\n",
       "      <th>disnow.co</th>\n",
       "      <td>-0.010992</td>\n",
       "      <td>-0.005707</td>\n",
       "      <td>-0.040906</td>\n",
       "      <td>-0.011760</td>\n",
       "      <td>0.037773</td>\n",
       "      <td>0.001004</td>\n",
       "      <td>-0.001667</td>\n",
       "      <td>-0.002044</td>\n",
       "      <td>-0.006672</td>\n",
       "      <td>-0.002362</td>\n",
       "      <td>...</td>\n",
       "      <td>-0.001667</td>\n",
       "      <td>1.000000</td>\n",
       "      <td>-0.001865</td>\n",
       "      <td>-0.000833</td>\n",
       "      <td>-0.001178</td>\n",
       "      <td>-0.002044</td>\n",
       "      <td>-0.000833</td>\n",
       "      <td>-0.001865</td>\n",
       "      <td>-0.001667</td>\n",
       "      <td>-0.029866</td>\n",
       "    </tr>\n",
       "    <tr>\n",
       "      <th>calcsea.or</th>\n",
       "      <td>0.071629</td>\n",
       "      <td>-0.023459</td>\n",
       "      <td>0.073073</td>\n",
       "      <td>-0.012995</td>\n",
       "      <td>0.025232</td>\n",
       "      <td>-0.041550</td>\n",
       "      <td>-0.003735</td>\n",
       "      <td>-0.004578</td>\n",
       "      <td>-0.014944</td>\n",
       "      <td>-0.005290</td>\n",
       "      <td>...</td>\n",
       "      <td>-0.003735</td>\n",
       "      <td>-0.001865</td>\n",
       "      <td>1.000000</td>\n",
       "      <td>-0.001865</td>\n",
       "      <td>-0.002639</td>\n",
       "      <td>-0.004578</td>\n",
       "      <td>-0.001865</td>\n",
       "      <td>-0.004177</td>\n",
       "      <td>-0.003735</td>\n",
       "      <td>-0.043855</td>\n",
       "    </tr>\n",
       "    <tr>\n",
       "      <th>mcdata.co</th>\n",
       "      <td>-0.046081</td>\n",
       "      <td>-0.023214</td>\n",
       "      <td>0.019310</td>\n",
       "      <td>0.002863</td>\n",
       "      <td>-0.012565</td>\n",
       "      <td>-0.027972</td>\n",
       "      <td>-0.001667</td>\n",
       "      <td>-0.002044</td>\n",
       "      <td>-0.006672</td>\n",
       "      <td>-0.002362</td>\n",
       "      <td>...</td>\n",
       "      <td>-0.001667</td>\n",
       "      <td>-0.000833</td>\n",
       "      <td>-0.001865</td>\n",
       "      <td>1.000000</td>\n",
       "      <td>-0.001178</td>\n",
       "      <td>-0.002044</td>\n",
       "      <td>-0.000833</td>\n",
       "      <td>-0.001865</td>\n",
       "      <td>-0.001667</td>\n",
       "      <td>-0.019580</td>\n",
       "    </tr>\n",
       "    <tr>\n",
       "      <th>bellsouth.ne</th>\n",
       "      <td>-0.002779</td>\n",
       "      <td>0.000497</td>\n",
       "      <td>0.010475</td>\n",
       "      <td>0.064584</td>\n",
       "      <td>-0.021384</td>\n",
       "      <td>-0.018371</td>\n",
       "      <td>-0.002359</td>\n",
       "      <td>-0.002892</td>\n",
       "      <td>-0.009439</td>\n",
       "      <td>-0.003342</td>\n",
       "      <td>...</td>\n",
       "      <td>-0.002359</td>\n",
       "      <td>-0.001178</td>\n",
       "      <td>-0.002639</td>\n",
       "      <td>-0.001178</td>\n",
       "      <td>1.000000</td>\n",
       "      <td>-0.002892</td>\n",
       "      <td>-0.001178</td>\n",
       "      <td>-0.002639</td>\n",
       "      <td>-0.002359</td>\n",
       "      <td>-0.027702</td>\n",
       "    </tr>\n",
       "    <tr>\n",
       "      <th>san.rr.co</th>\n",
       "      <td>-0.011001</td>\n",
       "      <td>0.220649</td>\n",
       "      <td>0.044103</td>\n",
       "      <td>-0.032853</td>\n",
       "      <td>0.197250</td>\n",
       "      <td>0.249951</td>\n",
       "      <td>-0.004093</td>\n",
       "      <td>-0.005017</td>\n",
       "      <td>-0.016377</td>\n",
       "      <td>-0.005798</td>\n",
       "      <td>...</td>\n",
       "      <td>-0.004093</td>\n",
       "      <td>-0.002044</td>\n",
       "      <td>-0.004578</td>\n",
       "      <td>-0.002044</td>\n",
       "      <td>-0.002892</td>\n",
       "      <td>1.000000</td>\n",
       "      <td>-0.002044</td>\n",
       "      <td>-0.004578</td>\n",
       "      <td>-0.004093</td>\n",
       "      <td>-0.022812</td>\n",
       "    </tr>\n",
       "    <tr>\n",
       "      <th>dechert.co</th>\n",
       "      <td>-0.016907</td>\n",
       "      <td>0.017502</td>\n",
       "      <td>0.022269</td>\n",
       "      <td>0.047274</td>\n",
       "      <td>0.037879</td>\n",
       "      <td>0.001004</td>\n",
       "      <td>-0.001667</td>\n",
       "      <td>-0.002044</td>\n",
       "      <td>-0.006672</td>\n",
       "      <td>-0.002362</td>\n",
       "      <td>...</td>\n",
       "      <td>-0.001667</td>\n",
       "      <td>-0.000833</td>\n",
       "      <td>-0.001865</td>\n",
       "      <td>-0.000833</td>\n",
       "      <td>-0.001178</td>\n",
       "      <td>-0.002044</td>\n",
       "      <td>1.000000</td>\n",
       "      <td>-0.001865</td>\n",
       "      <td>-0.001667</td>\n",
       "      <td>0.011279</td>\n",
       "    </tr>\n",
       "    <tr>\n",
       "      <th>yahoo.co</th>\n",
       "      <td>-0.050289</td>\n",
       "      <td>-0.041519</td>\n",
       "      <td>-0.057628</td>\n",
       "      <td>-0.025611</td>\n",
       "      <td>-0.006451</td>\n",
       "      <td>-0.046384</td>\n",
       "      <td>-0.003735</td>\n",
       "      <td>-0.004578</td>\n",
       "      <td>-0.014944</td>\n",
       "      <td>-0.005290</td>\n",
       "      <td>...</td>\n",
       "      <td>-0.003735</td>\n",
       "      <td>-0.001865</td>\n",
       "      <td>-0.004177</td>\n",
       "      <td>-0.001865</td>\n",
       "      <td>-0.002639</td>\n",
       "      <td>-0.004578</td>\n",
       "      <td>-0.001865</td>\n",
       "      <td>1.000000</td>\n",
       "      <td>-0.003735</td>\n",
       "      <td>-0.048463</td>\n",
       "    </tr>\n",
       "    <tr>\n",
       "      <th>mindspring.co</th>\n",
       "      <td>-0.085403</td>\n",
       "      <td>-0.040120</td>\n",
       "      <td>0.067610</td>\n",
       "      <td>-0.006196</td>\n",
       "      <td>-0.029418</td>\n",
       "      <td>-0.053903</td>\n",
       "      <td>-0.003339</td>\n",
       "      <td>-0.004093</td>\n",
       "      <td>-0.013361</td>\n",
       "      <td>-0.004730</td>\n",
       "      <td>...</td>\n",
       "      <td>-0.003339</td>\n",
       "      <td>-0.001667</td>\n",
       "      <td>-0.003735</td>\n",
       "      <td>-0.001667</td>\n",
       "      <td>-0.002359</td>\n",
       "      <td>-0.004093</td>\n",
       "      <td>-0.001667</td>\n",
       "      <td>-0.003735</td>\n",
       "      <td>1.000000</td>\n",
       "      <td>-0.039209</td>\n",
       "    </tr>\n",
       "    <tr>\n",
       "      <th>user_len</th>\n",
       "      <td>0.085795</td>\n",
       "      <td>-0.080043</td>\n",
       "      <td>0.012224</td>\n",
       "      <td>-0.135771</td>\n",
       "      <td>-0.054601</td>\n",
       "      <td>-0.103759</td>\n",
       "      <td>-0.064957</td>\n",
       "      <td>0.002437</td>\n",
       "      <td>-0.027177</td>\n",
       "      <td>-0.048248</td>\n",
       "      <td>...</td>\n",
       "      <td>0.146177</td>\n",
       "      <td>-0.029866</td>\n",
       "      <td>-0.043855</td>\n",
       "      <td>-0.019580</td>\n",
       "      <td>-0.027702</td>\n",
       "      <td>-0.022812</td>\n",
       "      <td>0.011279</td>\n",
       "      <td>-0.048463</td>\n",
       "      <td>-0.039209</td>\n",
       "      <td>1.000000</td>\n",
       "    </tr>\n",
       "  </tbody>\n",
       "</table>\n",
       "<p>46 rows × 46 columns</p>\n",
       "</div>"
      ],
      "text/plain": [
       "                 auctionid       bid   bidtime  bidderrate   openbid  \\\n",
       "auctionid         1.000000  0.076822 -0.014198    0.055943  0.007248   \n",
       "bid               0.076822  1.000000  0.218780   -0.000327  0.423217   \n",
       "bidtime          -0.014198  0.218780  1.000000    0.010255  0.170795   \n",
       "bidderrate        0.055943 -0.000327  0.010255    1.000000  0.169046   \n",
       "openbid           0.007248  0.423217  0.170795    0.169046  1.000000   \n",
       "price             0.075352  0.818606 -0.129658   -0.026945  0.331437   \n",
       "earthlink.ne     -0.003671 -0.010693 -0.022537    0.210440 -0.025269   \n",
       "verizon.ne       -0.114566 -0.038867  0.078114   -0.012912  0.021292   \n",
       "aol.co           -0.025450 -0.001855  0.047179    0.104688  0.018171   \n",
       "msn.co           -0.012382  0.035874 -0.058980   -0.015498  0.070586   \n",
       "tampabay.rr.co    0.034854 -0.019356  0.020326    0.002519 -0.021384   \n",
       "webtv.co               NaN       NaN       NaN         NaN       NaN   \n",
       "shadow.ne        -0.042713 -0.016978 -0.022057    0.053773  0.001241   \n",
       "amexol.ne        -0.044743 -0.064349 -0.007327   -0.033766 -0.027807   \n",
       "columbia.ed      -0.011251  0.000797 -0.031681   -0.014467 -0.005131   \n",
       "stargate.ne       0.011418 -0.023103  0.031317    0.066771 -0.009910   \n",
       "elliman.co        0.016009 -0.019250 -0.042980   -0.013384 -0.015114   \n",
       "scottsbluff.n     0.040876  0.055590  0.032356   -0.015009 -0.015114   \n",
       "btconnect.co     -0.040814 -0.016246 -0.033190   -0.030056  0.007058   \n",
       "northlink.co     -0.028655 -0.003767 -0.034980   -0.022263 -0.007789   \n",
       "ucnsb.ne         -0.023336 -0.025932 -0.031614   -0.012843 -0.014159   \n",
       "purplepicket.co  -0.004609 -0.033380 -0.047358    0.014779 -0.021532   \n",
       "netzero.n        -0.061043  0.010613  0.002189   -0.012806  0.027298   \n",
       "prodigy.ne       -0.026615  0.238446  0.043031    0.131326  0.158365   \n",
       "erols.co          0.016009 -0.010340 -0.043273    0.071104 -0.015114   \n",
       "mediaone.ne       0.020371  0.003890  0.037273    0.026882 -0.003791   \n",
       "wxs.n            -0.023921  0.005539  0.016854   -0.009741  0.053592   \n",
       "hotmail.co        0.016702  0.043831  0.050992   -0.029163  0.094903   \n",
       "mac.co            0.027752  0.018087 -0.062135   -0.017569 -0.026200   \n",
       "cs.co            -0.025199  0.158435  0.073189   -0.025126 -0.011493   \n",
       "wellsref.co      -0.004231 -0.011498  0.024341   -0.012301 -0.015114   \n",
       "slk.co            0.081853  0.101284 -0.010813   -0.030056 -0.030266   \n",
       "ti.co             0.029151 -0.021744  0.028607    0.114431 -0.007255   \n",
       "home.co          -0.014659  0.054700 -0.003742    0.003668 -0.021384   \n",
       "easytel.ne        0.001010 -0.021143 -0.026926   -0.014467  0.001241   \n",
       "excite.co        -0.024215  0.029216  0.019069   -0.029133 -0.021747   \n",
       "altavis           0.059326 -0.000635  0.055179   -0.024633 -0.030266   \n",
       "disnow.co        -0.010992 -0.005707 -0.040906   -0.011760  0.037773   \n",
       "calcsea.or        0.071629 -0.023459  0.073073   -0.012995  0.025232   \n",
       "mcdata.co        -0.046081 -0.023214  0.019310    0.002863 -0.012565   \n",
       "bellsouth.ne     -0.002779  0.000497  0.010475    0.064584 -0.021384   \n",
       "san.rr.co        -0.011001  0.220649  0.044103   -0.032853  0.197250   \n",
       "dechert.co       -0.016907  0.017502  0.022269    0.047274  0.037879   \n",
       "yahoo.co         -0.050289 -0.041519 -0.057628   -0.025611 -0.006451   \n",
       "mindspring.co    -0.085403 -0.040120  0.067610   -0.006196 -0.029418   \n",
       "user_len          0.085795 -0.080043  0.012224   -0.135771 -0.054601   \n",
       "\n",
       "                    price  earthlink.ne  verizon.ne    aol.co    msn.co  ...  \\\n",
       "auctionid        0.075352     -0.003671   -0.114566 -0.025450 -0.012382  ...   \n",
       "bid              0.818606     -0.010693   -0.038867 -0.001855  0.035874  ...   \n",
       "bidtime         -0.129658     -0.022537    0.078114  0.047179 -0.058980  ...   \n",
       "bidderrate      -0.026945      0.210440   -0.012912  0.104688 -0.015498  ...   \n",
       "openbid          0.331437     -0.025269    0.021292  0.018171  0.070586  ...   \n",
       "price            1.000000     -0.007418   -0.060411 -0.014592  0.063929  ...   \n",
       "earthlink.ne    -0.007418      1.000000   -0.004093 -0.013361 -0.004730  ...   \n",
       "verizon.ne      -0.060411     -0.004093    1.000000 -0.016377 -0.005798  ...   \n",
       "aol.co          -0.014592     -0.013361   -0.016377  1.000000 -0.018926  ...   \n",
       "msn.co           0.063929     -0.004730   -0.005798 -0.018926  1.000000  ...   \n",
       "tampabay.rr.co  -0.031222     -0.002359   -0.002892 -0.009439 -0.003342  ...   \n",
       "webtv.co              NaN           NaN         NaN       NaN       NaN  ...   \n",
       "shadow.ne       -0.018012     -0.001667   -0.002044 -0.006672 -0.002362  ...   \n",
       "amexol.ne       -0.073607     -0.005019   -0.006152 -0.020083 -0.007110  ...   \n",
       "columbia.ed      0.058229     -0.001667   -0.002044 -0.006672 -0.002362  ...   \n",
       "stargate.ne     -0.032114     -0.001667   -0.002044 -0.006672 -0.002362  ...   \n",
       "elliman.co       0.008307     -0.001667   -0.002044 -0.006672 -0.002362  ...   \n",
       "scottsbluff.n    0.032069     -0.001667   -0.002044 -0.006672 -0.002362  ...   \n",
       "btconnect.co     0.014352     -0.003339   -0.004093 -0.013361 -0.004730  ...   \n",
       "northlink.co     0.052127     -0.002890   -0.003543 -0.011566 -0.004094  ...   \n",
       "ucnsb.ne        -0.030606     -0.001667   -0.002044 -0.006672 -0.002362  ...   \n",
       "purplepicket.co -0.035848     -0.002359   -0.002892 -0.009439 -0.003342  ...   \n",
       "netzero.n        0.005960     -0.002359   -0.002892 -0.009439 -0.003342  ...   \n",
       "prodigy.ne       0.197280     -0.004093   -0.005017 -0.016377 -0.005798  ...   \n",
       "erols.co         0.008307     -0.001667   -0.002044 -0.006672 -0.002362  ...   \n",
       "mediaone.ne     -0.018908     -0.003339   -0.004093 -0.013361 -0.004730  ...   \n",
       "wxs.n            0.001420     -0.002359   -0.002892 -0.009439 -0.003342  ...   \n",
       "hotmail.co       0.030196     -0.005553   -0.006807 -0.022221 -0.007867  ...   \n",
       "mac.co           0.014400     -0.002890   -0.003543 -0.011566 -0.004094  ...   \n",
       "cs.co            0.130422     -0.003735   -0.004578 -0.014944 -0.005290  ...   \n",
       "wellsref.co     -0.022649     -0.001667   -0.002044 -0.006672 -0.002362  ...   \n",
       "slk.co           0.064218     -0.003339   -0.004093 -0.013361 -0.004730  ...   \n",
       "ti.co           -0.029716     -0.001667   -0.002044 -0.006672 -0.002362  ...   \n",
       "home.co          0.057400     -0.002359   -0.002892 -0.009439 -0.003342  ...   \n",
       "easytel.ne      -0.025156     -0.001667   -0.002044 -0.006672 -0.002362  ...   \n",
       "excite.co        0.040931     -0.004730   -0.005798 -0.018926 -0.006700  ...   \n",
       "altavis         -0.023091     -0.003339   -0.004093 -0.013361 -0.004730  ...   \n",
       "disnow.co        0.001004     -0.001667   -0.002044 -0.006672 -0.002362  ...   \n",
       "calcsea.or      -0.041550     -0.003735   -0.004578 -0.014944 -0.005290  ...   \n",
       "mcdata.co       -0.027972     -0.001667   -0.002044 -0.006672 -0.002362  ...   \n",
       "bellsouth.ne    -0.018371     -0.002359   -0.002892 -0.009439 -0.003342  ...   \n",
       "san.rr.co        0.249951     -0.004093   -0.005017 -0.016377 -0.005798  ...   \n",
       "dechert.co       0.001004     -0.001667   -0.002044 -0.006672 -0.002362  ...   \n",
       "yahoo.co        -0.046384     -0.003735   -0.004578 -0.014944 -0.005290  ...   \n",
       "mindspring.co   -0.053903     -0.003339   -0.004093 -0.013361 -0.004730  ...   \n",
       "user_len        -0.103759     -0.064957    0.002437 -0.027177 -0.048248  ...   \n",
       "\n",
       "                  altavis  disnow.co  calcsea.or  mcdata.co  bellsouth.ne  \\\n",
       "auctionid        0.059326  -0.010992    0.071629  -0.046081     -0.002779   \n",
       "bid             -0.000635  -0.005707   -0.023459  -0.023214      0.000497   \n",
       "bidtime          0.055179  -0.040906    0.073073   0.019310      0.010475   \n",
       "bidderrate      -0.024633  -0.011760   -0.012995   0.002863      0.064584   \n",
       "openbid         -0.030266   0.037773    0.025232  -0.012565     -0.021384   \n",
       "price           -0.023091   0.001004   -0.041550  -0.027972     -0.018371   \n",
       "earthlink.ne    -0.003339  -0.001667   -0.003735  -0.001667     -0.002359   \n",
       "verizon.ne      -0.004093  -0.002044   -0.004578  -0.002044     -0.002892   \n",
       "aol.co          -0.013361  -0.006672   -0.014944  -0.006672     -0.009439   \n",
       "msn.co          -0.004730  -0.002362   -0.005290  -0.002362     -0.003342   \n",
       "tampabay.rr.co  -0.002359  -0.001178   -0.002639  -0.001178     -0.001667   \n",
       "webtv.co              NaN        NaN         NaN        NaN           NaN   \n",
       "shadow.ne       -0.001667  -0.000833   -0.001865  -0.000833     -0.001178   \n",
       "amexol.ne       -0.005019  -0.002506   -0.005614  -0.002506     -0.003546   \n",
       "columbia.ed     -0.001667  -0.000833   -0.001865  -0.000833     -0.001178   \n",
       "stargate.ne     -0.001667  -0.000833   -0.001865  -0.000833     -0.001178   \n",
       "elliman.co      -0.001667  -0.000833   -0.001865  -0.000833     -0.001178   \n",
       "scottsbluff.n   -0.001667  -0.000833   -0.001865  -0.000833     -0.001178   \n",
       "btconnect.co    -0.003339  -0.001667   -0.003735  -0.001667     -0.002359   \n",
       "northlink.co    -0.002890  -0.001443   -0.003233  -0.001443     -0.002042   \n",
       "ucnsb.ne        -0.001667  -0.000833   -0.001865  -0.000833     -0.001178   \n",
       "purplepicket.co -0.002359  -0.001178   -0.002639  -0.001178     -0.001667   \n",
       "netzero.n       -0.002359  -0.001178   -0.002639  -0.001178     -0.001667   \n",
       "prodigy.ne      -0.004093  -0.002044   -0.004578  -0.002044     -0.002892   \n",
       "erols.co        -0.001667  -0.000833   -0.001865  -0.000833     -0.001178   \n",
       "mediaone.ne     -0.003339  -0.001667   -0.003735  -0.001667     -0.002359   \n",
       "wxs.n           -0.002359  -0.001178   -0.002639  -0.001178     -0.001667   \n",
       "hotmail.co      -0.005553  -0.002773   -0.006211  -0.002773     -0.003923   \n",
       "mac.co          -0.002890  -0.001443   -0.003233  -0.001443     -0.002042   \n",
       "cs.co           -0.003735  -0.001865   -0.004177  -0.001865     -0.002639   \n",
       "wellsref.co     -0.001667  -0.000833   -0.001865  -0.000833     -0.001178   \n",
       "slk.co          -0.003339  -0.001667   -0.003735  -0.001667     -0.002359   \n",
       "ti.co           -0.001667  -0.000833   -0.001865  -0.000833     -0.001178   \n",
       "home.co         -0.002359  -0.001178   -0.002639  -0.001178     -0.001667   \n",
       "easytel.ne      -0.001667  -0.000833   -0.001865  -0.000833     -0.001178   \n",
       "excite.co       -0.004730  -0.002362   -0.005290  -0.002362     -0.003342   \n",
       "altavis          1.000000  -0.001667   -0.003735  -0.001667     -0.002359   \n",
       "disnow.co       -0.001667   1.000000   -0.001865  -0.000833     -0.001178   \n",
       "calcsea.or      -0.003735  -0.001865    1.000000  -0.001865     -0.002639   \n",
       "mcdata.co       -0.001667  -0.000833   -0.001865   1.000000     -0.001178   \n",
       "bellsouth.ne    -0.002359  -0.001178   -0.002639  -0.001178      1.000000   \n",
       "san.rr.co       -0.004093  -0.002044   -0.004578  -0.002044     -0.002892   \n",
       "dechert.co      -0.001667  -0.000833   -0.001865  -0.000833     -0.001178   \n",
       "yahoo.co        -0.003735  -0.001865   -0.004177  -0.001865     -0.002639   \n",
       "mindspring.co   -0.003339  -0.001667   -0.003735  -0.001667     -0.002359   \n",
       "user_len         0.146177  -0.029866   -0.043855  -0.019580     -0.027702   \n",
       "\n",
       "                 san.rr.co  dechert.co  yahoo.co  mindspring.co  user_len  \n",
       "auctionid        -0.011001   -0.016907 -0.050289      -0.085403  0.085795  \n",
       "bid               0.220649    0.017502 -0.041519      -0.040120 -0.080043  \n",
       "bidtime           0.044103    0.022269 -0.057628       0.067610  0.012224  \n",
       "bidderrate       -0.032853    0.047274 -0.025611      -0.006196 -0.135771  \n",
       "openbid           0.197250    0.037879 -0.006451      -0.029418 -0.054601  \n",
       "price             0.249951    0.001004 -0.046384      -0.053903 -0.103759  \n",
       "earthlink.ne     -0.004093   -0.001667 -0.003735      -0.003339 -0.064957  \n",
       "verizon.ne       -0.005017   -0.002044 -0.004578      -0.004093  0.002437  \n",
       "aol.co           -0.016377   -0.006672 -0.014944      -0.013361 -0.027177  \n",
       "msn.co           -0.005798   -0.002362 -0.005290      -0.004730 -0.048248  \n",
       "tampabay.rr.co   -0.002892   -0.001178 -0.002639      -0.002359 -0.013149  \n",
       "webtv.co               NaN         NaN       NaN            NaN       NaN  \n",
       "shadow.ne        -0.002044   -0.000833 -0.001865      -0.001667  0.011279  \n",
       "amexol.ne        -0.006152   -0.002506 -0.005614      -0.005019  0.002988  \n",
       "columbia.ed      -0.002044   -0.000833 -0.001865      -0.001667 -0.040153  \n",
       "stargate.ne      -0.002044   -0.000833 -0.001865      -0.001667 -0.040153  \n",
       "elliman.co       -0.002044   -0.000833 -0.001865      -0.001667 -0.019580  \n",
       "scottsbluff.n    -0.002044   -0.000833 -0.001865      -0.001667  0.011279  \n",
       "btconnect.co     -0.004093   -0.001667 -0.003735      -0.003339  0.022586  \n",
       "northlink.co     -0.003543   -0.001443 -0.003233      -0.002890 -0.051773  \n",
       "ucnsb.ne         -0.002044   -0.000833 -0.001865      -0.001667 -0.040153  \n",
       "purplepicket.co  -0.002892   -0.001178 -0.002639      -0.002359 -0.056808  \n",
       "netzero.n        -0.002892   -0.001178 -0.002639      -0.002359  0.074170  \n",
       "prodigy.ne       -0.005017   -0.002044 -0.004578      -0.004093 -0.056478  \n",
       "erols.co         -0.002044   -0.000833 -0.001865      -0.001667 -0.009294  \n",
       "mediaone.ne      -0.004093   -0.001667 -0.003735      -0.003339 -0.090705  \n",
       "wxs.n            -0.002892   -0.001178 -0.002639      -0.002359 -0.013149  \n",
       "hotmail.co       -0.006807   -0.002773 -0.006211      -0.005553 -0.012266  \n",
       "mac.co           -0.003543   -0.001443 -0.003233      -0.002890 -0.016111  \n",
       "cs.co            -0.004578   -0.001865 -0.004177      -0.003735  0.025263  \n",
       "wellsref.co      -0.002044   -0.000833 -0.001865      -0.001667 -0.071012  \n",
       "slk.co           -0.004093   -0.001667 -0.003735      -0.003339  0.043185  \n",
       "ti.co            -0.002044   -0.000833 -0.001865      -0.001667 -0.050439  \n",
       "home.co          -0.002892   -0.001178 -0.002639      -0.002359 -0.042255  \n",
       "easytel.ne       -0.002044   -0.000833 -0.001865      -0.001667 -0.029866  \n",
       "excite.co        -0.005798   -0.002362 -0.005290      -0.004730 -0.102959  \n",
       "altavis          -0.004093   -0.001667 -0.003735      -0.003339  0.146177  \n",
       "disnow.co        -0.002044   -0.000833 -0.001865      -0.001667 -0.029866  \n",
       "calcsea.or       -0.004578   -0.001865 -0.004177      -0.003735 -0.043855  \n",
       "mcdata.co        -0.002044   -0.000833 -0.001865      -0.001667 -0.019580  \n",
       "bellsouth.ne     -0.002892   -0.001178 -0.002639      -0.002359 -0.027702  \n",
       "san.rr.co         1.000000   -0.002044 -0.004578      -0.004093 -0.022812  \n",
       "dechert.co       -0.002044    1.000000 -0.001865      -0.001667  0.011279  \n",
       "yahoo.co         -0.004578   -0.001865  1.000000      -0.003735 -0.048463  \n",
       "mindspring.co    -0.004093   -0.001667 -0.003735       1.000000 -0.039209  \n",
       "user_len         -0.022812    0.011279 -0.048463      -0.039209  1.000000  \n",
       "\n",
       "[46 rows x 46 columns]"
      ]
     },
     "execution_count": 418,
     "metadata": {},
     "output_type": "execute_result"
    }
   ],
   "source": [
    "df.corr()"
   ]
  },
  {
   "cell_type": "markdown",
   "metadata": {},
   "source": [
    "### Making model"
   ]
  },
  {
   "cell_type": "code",
   "execution_count": 423,
   "metadata": {},
   "outputs": [],
   "source": [
    "x=corr_col.drop(['price','bidder'],axis=1)\n",
    "y=corr_col.price.values"
   ]
  },
  {
   "cell_type": "code",
   "execution_count": 424,
   "metadata": {},
   "outputs": [],
   "source": [
    "x_train,x_test,y_train,y_test=train_test_split(x,y,test_size=0.2)"
   ]
  },
  {
   "cell_type": "markdown",
   "metadata": {},
   "source": [
    "OLS (Ordinary least square) or linear regression is a useful model to run early in the workflow. Logistic regression measures the relationship between the continuous dependent variable (feature) and one or more independent variables (features)."
   ]
  },
  {
   "cell_type": "code",
   "execution_count": 425,
   "metadata": {},
   "outputs": [],
   "source": [
    "X_sm=sm.add_constant(x)\n",
    "model=sm.OLS(y,X_sm)"
   ]
  },
  {
   "cell_type": "markdown",
   "metadata": {},
   "source": [
    "We can use OLS Regression to validate our assumptions and decisions for feature creating and completing goals. This can be done by calculating the coefficient of the features in the decision function."
   ]
  },
  {
   "cell_type": "code",
   "execution_count": 426,
   "metadata": {},
   "outputs": [
    {
     "data": {
      "text/html": [
       "<table class=\"simpletable\">\n",
       "<caption>OLS Regression Results</caption>\n",
       "<tr>\n",
       "  <th>Dep. Variable:</th>            <td>y</td>        <th>  R-squared:         </th> <td>   0.772</td> \n",
       "</tr>\n",
       "<tr>\n",
       "  <th>Model:</th>                   <td>OLS</td>       <th>  Adj. R-squared:    </th> <td>   0.771</td> \n",
       "</tr>\n",
       "<tr>\n",
       "  <th>Method:</th>             <td>Least Squares</td>  <th>  F-statistic:       </th> <td>   674.9</td> \n",
       "</tr>\n",
       "<tr>\n",
       "  <th>Date:</th>             <td>Mon, 28 Dec 2020</td> <th>  Prob (F-statistic):</th>  <td>  0.00</td>  \n",
       "</tr>\n",
       "<tr>\n",
       "  <th>Time:</th>                 <td>13:58:07</td>     <th>  Log-Likelihood:    </th> <td> -8842.8</td> \n",
       "</tr>\n",
       "<tr>\n",
       "  <th>No. Observations:</th>      <td>  1202</td>      <th>  AIC:               </th> <td>1.770e+04</td>\n",
       "</tr>\n",
       "<tr>\n",
       "  <th>Df Residuals:</th>          <td>  1195</td>      <th>  BIC:               </th> <td>1.774e+04</td>\n",
       "</tr>\n",
       "<tr>\n",
       "  <th>Df Model:</th>              <td>     6</td>      <th>                     </th>     <td> </td>    \n",
       "</tr>\n",
       "<tr>\n",
       "  <th>Covariance Type:</th>      <td>nonrobust</td>    <th>                     </th>     <td> </td>    \n",
       "</tr>\n",
       "</table>\n",
       "<table class=\"simpletable\">\n",
       "<tr>\n",
       "       <td></td>         <th>coef</th>     <th>std err</th>      <th>t</th>      <th>P>|t|</th>  <th>[0.025</th>    <th>0.975]</th>  \n",
       "</tr>\n",
       "<tr>\n",
       "  <th>const</th>      <td>-2023.4418</td> <td> 5121.238</td> <td>   -0.395</td> <td> 0.693</td> <td>-1.21e+04</td> <td> 8024.177</td>\n",
       "</tr>\n",
       "<tr>\n",
       "  <th>auctionid</th>  <td> 1.732e-06</td> <td> 3.12e-06</td> <td>    0.556</td> <td> 0.579</td> <td>-4.38e-06</td> <td> 7.85e-06</td>\n",
       "</tr>\n",
       "<tr>\n",
       "  <th>bid</th>        <td>    1.0770</td> <td>    0.019</td> <td>   56.233</td> <td> 0.000</td> <td>    1.039</td> <td>    1.115</td>\n",
       "</tr>\n",
       "<tr>\n",
       "  <th>bidtime</th>    <td> -102.8150</td> <td>    4.511</td> <td>  -22.792</td> <td> 0.000</td> <td> -111.666</td> <td>  -93.964</td>\n",
       "</tr>\n",
       "<tr>\n",
       "  <th>bidderrate</th> <td>   -0.4684</td> <td>    0.212</td> <td>   -2.209</td> <td> 0.027</td> <td>   -0.884</td> <td>   -0.052</td>\n",
       "</tr>\n",
       "<tr>\n",
       "  <th>openbid</th>    <td>    0.0540</td> <td>    0.046</td> <td>    1.185</td> <td> 0.236</td> <td>   -0.035</td> <td>    0.143</td>\n",
       "</tr>\n",
       "<tr>\n",
       "  <th>user_len</th>   <td>   -9.4584</td> <td>    3.982</td> <td>   -2.375</td> <td> 0.018</td> <td>  -17.271</td> <td>   -1.646</td>\n",
       "</tr>\n",
       "</table>\n",
       "<table class=\"simpletable\">\n",
       "<tr>\n",
       "  <th>Omnibus:</th>       <td>464.012</td> <th>  Durbin-Watson:     </th> <td>   2.084</td>\n",
       "</tr>\n",
       "<tr>\n",
       "  <th>Prob(Omnibus):</th> <td> 0.000</td>  <th>  Jarque-Bera (JB):  </th> <td>2246.846</td>\n",
       "</tr>\n",
       "<tr>\n",
       "  <th>Skew:</th>          <td> 1.755</td>  <th>  Prob(JB):          </th> <td>    0.00</td>\n",
       "</tr>\n",
       "<tr>\n",
       "  <th>Kurtosis:</th>      <td> 8.705</td>  <th>  Cond. No.          </th> <td>7.68e+11</td>\n",
       "</tr>\n",
       "</table><br/><br/>Warnings:<br/>[1] Standard Errors assume that the covariance matrix of the errors is correctly specified.<br/>[2] The condition number is large, 7.68e+11. This might indicate that there are<br/>strong multicollinearity or other numerical problems."
      ],
      "text/plain": [
       "<class 'statsmodels.iolib.summary.Summary'>\n",
       "\"\"\"\n",
       "                            OLS Regression Results                            \n",
       "==============================================================================\n",
       "Dep. Variable:                      y   R-squared:                       0.772\n",
       "Model:                            OLS   Adj. R-squared:                  0.771\n",
       "Method:                 Least Squares   F-statistic:                     674.9\n",
       "Date:                Mon, 28 Dec 2020   Prob (F-statistic):               0.00\n",
       "Time:                        13:58:07   Log-Likelihood:                -8842.8\n",
       "No. Observations:                1202   AIC:                         1.770e+04\n",
       "Df Residuals:                    1195   BIC:                         1.774e+04\n",
       "Df Model:                           6                                         \n",
       "Covariance Type:            nonrobust                                         \n",
       "==============================================================================\n",
       "                 coef    std err          t      P>|t|      [0.025      0.975]\n",
       "------------------------------------------------------------------------------\n",
       "const      -2023.4418   5121.238     -0.395      0.693   -1.21e+04    8024.177\n",
       "auctionid   1.732e-06   3.12e-06      0.556      0.579   -4.38e-06    7.85e-06\n",
       "bid            1.0770      0.019     56.233      0.000       1.039       1.115\n",
       "bidtime     -102.8150      4.511    -22.792      0.000    -111.666     -93.964\n",
       "bidderrate    -0.4684      0.212     -2.209      0.027      -0.884      -0.052\n",
       "openbid        0.0540      0.046      1.185      0.236      -0.035       0.143\n",
       "user_len      -9.4584      3.982     -2.375      0.018     -17.271      -1.646\n",
       "==============================================================================\n",
       "Omnibus:                      464.012   Durbin-Watson:                   2.084\n",
       "Prob(Omnibus):                  0.000   Jarque-Bera (JB):             2246.846\n",
       "Skew:                           1.755   Prob(JB):                         0.00\n",
       "Kurtosis:                       8.705   Cond. No.                     7.68e+11\n",
       "==============================================================================\n",
       "\n",
       "Warnings:\n",
       "[1] Standard Errors assume that the covariance matrix of the errors is correctly specified.\n",
       "[2] The condition number is large, 7.68e+11. This might indicate that there are\n",
       "strong multicollinearity or other numerical problems.\n",
       "\"\"\""
      ]
     },
     "execution_count": 426,
     "metadata": {},
     "output_type": "execute_result"
    }
   ],
   "source": [
    "model.fit().summary()"
   ]
  },
  {
   "cell_type": "markdown",
   "metadata": {},
   "source": [
    "- 'bid' is a significant feature, and as bid increases by 1 price also increases by 1\n",
    "- 'bidtime' is non significant as assumed\n",
    "- 'bidderrate' is a significant which is conterintuitive and also price decreases as the bidderrate increases.\n",
    "- 'openbid' is a non significant feature which is not is accordance with our assumption\n",
    "- user name length is a significant feature which has the most impact on the price."
   ]
  },
  {
   "cell_type": "markdown",
   "metadata": {},
   "source": [
    "In pattern recognition, Multiple is a statistical technique that uses several explanatory variables to predict the outcome of a response variable.\n",
    "\n",
    "The evaluation matric which we are going to use further is mean absolute error which is the mean of absolute differnce between the predicted and actual value for each training data."
   ]
  },
  {
   "cell_type": "code",
   "execution_count": 427,
   "metadata": {},
   "outputs": [
    {
     "data": {
      "text/plain": [
       "LinearRegression(copy_X=True, fit_intercept=True, n_jobs=None, normalize=False)"
      ]
     },
     "execution_count": 427,
     "metadata": {},
     "output_type": "execute_result"
    }
   ],
   "source": [
    "# Multiple linear regression\n",
    "lm=LinearRegression()\n",
    "lm.fit(x_train,y_train)"
   ]
  },
  {
   "cell_type": "code",
   "execution_count": 428,
   "metadata": {},
   "outputs": [
    {
     "data": {
      "text/plain": [
       "-259.9060916533931"
      ]
     },
     "execution_count": 428,
     "metadata": {},
     "output_type": "execute_result"
    }
   ],
   "source": [
    "np.mean(cross_val_score(lm,x_train,y_train,scoring='neg_mean_absolute_error',cv=3))"
   ]
  },
  {
   "cell_type": "code",
   "execution_count": 429,
   "metadata": {},
   "outputs": [],
   "source": [
    "# The above score shows that we are on average off by rs 248 from the real value\n",
    "# Lasso regression is another approach where it will normalize any bigger values"
   ]
  },
  {
   "cell_type": "markdown",
   "metadata": {},
   "source": [
    "Lasso is a regression analysis method that performs both variable selection and regularization in order to enhance the prediction accuracy and interpretability of the resulting statistical model."
   ]
  },
  {
   "cell_type": "code",
   "execution_count": 437,
   "metadata": {},
   "outputs": [
    {
     "data": {
      "text/plain": [
       "-259.3974209320244"
      ]
     },
     "execution_count": 437,
     "metadata": {},
     "output_type": "execute_result"
    }
   ],
   "source": [
    "# Lasso regression\n",
    "lm_l=Lasso(alpha=26.5)\n",
    "lm_l.fit(x_train,y_train)\n",
    "np.mean(cross_val_score(lm_l,x_train,y_train,scoring='neg_mean_absolute_error',cv=3))"
   ]
  },
  {
   "cell_type": "code",
   "execution_count": 435,
   "metadata": {},
   "outputs": [
    {
     "data": {
      "text/plain": [
       "[<matplotlib.lines.Line2D at 0x20c936ba608>]"
      ]
     },
     "execution_count": 435,
     "metadata": {},
     "output_type": "execute_result"
    },
    {
     "data": {
      "image/png": "[encoded data removed]",
      "text/plain": [
       "<Figure size 432x288 with 1 Axes>"
      ]
     },
     "metadata": {
      "needs_background": "light"
     },
     "output_type": "display_data"
    }
   ],
   "source": [
    "alpha=[]\n",
    "error=[]\n",
    "for i in range(1,100):\n",
    "    alpha.append(i/2)\n",
    "    lml=Lasso(alpha=i/2)\n",
    "    error.append(np.mean(cross_val_score(lml,x_train,y_train,scoring='neg_mean_absolute_error',cv=3)))\n",
    "plt.plot(alpha,error)"
   ]
  },
  {
   "cell_type": "code",
   "execution_count": 436,
   "metadata": {},
   "outputs": [
    {
     "data": {
      "text/html": [
       "<div>\n",
       "<style scoped>\n",
       "    .dataframe tbody tr th:only-of-type {\n",
       "        vertical-align: middle;\n",
       "    }\n",
       "\n",
       "    .dataframe tbody tr th {\n",
       "        vertical-align: top;\n",
       "    }\n",
       "\n",
       "    .dataframe thead th {\n",
       "        text-align: right;\n",
       "    }\n",
       "</style>\n",
       "<table border=\"1\" class=\"dataframe\">\n",
       "  <thead>\n",
       "    <tr style=\"text-align: right;\">\n",
       "      <th></th>\n",
       "      <th>alpha</th>\n",
       "      <th>error</th>\n",
       "    </tr>\n",
       "  </thead>\n",
       "  <tbody>\n",
       "    <tr>\n",
       "      <th>52</th>\n",
       "      <td>26.5</td>\n",
       "      <td>-259.397421</td>\n",
       "    </tr>\n",
       "  </tbody>\n",
       "</table>\n",
       "</div>"
      ],
      "text/plain": [
       "    alpha       error\n",
       "52   26.5 -259.397421"
      ]
     },
     "execution_count": 436,
     "metadata": {},
     "output_type": "execute_result"
    }
   ],
   "source": [
    "err=tuple(zip(alpha,error))\n",
    "df_err=pd.DataFrame(err,columns=['alpha','error'])\n",
    "df_err[df_err.error==max(df_err.error)]"
   ]
  },
  {
   "cell_type": "code",
   "execution_count": 438,
   "metadata": {},
   "outputs": [],
   "source": [
    "# At alpha of 26.5 lasso regression gives slighty better model"
   ]
  },
  {
   "cell_type": "markdown",
   "metadata": {},
   "source": [
    "Random Forests is one of the most popular. Random forests or random decision forests are an ensemble learning method for classification, regression and other tasks, that operate by constructing a multitude of decision trees (n_estimators=100) at training time and outputting the class that is the mode of the classes (classification) or mean prediction (regression) of the individual trees\n",
    "\n",
    "The model cross validation score is the highest among models evaluated so far.\n",
    "\n",
    "We are further going to improve the random forest models by tuning it's parameters using grid search cv.\n",
    "\n",
    "Hyper-parameters are parameters that are not directly learnt within estimators. In scikit-learn they are passed as arguments to the constructor of the estimator classes. The optimal hyperparameter can be found using grid-search-CV which is going to use the cross validation score to choose the best parameter."
   ]
  },
  {
   "cell_type": "code",
   "execution_count": 439,
   "metadata": {},
   "outputs": [
    {
     "data": {
      "text/plain": [
       "-162.76172916926274"
      ]
     },
     "execution_count": 439,
     "metadata": {},
     "output_type": "execute_result"
    }
   ],
   "source": [
    "# Random forest regression\n",
    "rf=RandomForestRegressor()\n",
    "np.mean(cross_val_score(rf,x_train,y_train,scoring='neg_mean_absolute_error',cv=3))"
   ]
  },
  {
   "cell_type": "code",
   "execution_count": 440,
   "metadata": {},
   "outputs": [],
   "source": [
    "# Tune models using grid search\n",
    "parameters={'n_estimators':range(10,300,10),'criterion':('mse','mae'),'max_features':('auto','sqrt','log2')}"
   ]
  },
  {
   "cell_type": "code",
   "execution_count": 441,
   "metadata": {},
   "outputs": [
    {
     "data": {
      "text/plain": [
       "GridSearchCV(cv=3, error_score=nan,\n",
       "             estimator=RandomForestRegressor(bootstrap=True, ccp_alpha=0.0,\n",
       "                                             criterion='mse', max_depth=None,\n",
       "                                             max_features='auto',\n",
       "                                             max_leaf_nodes=None,\n",
       "                                             max_samples=None,\n",
       "                                             min_impurity_decrease=0.0,\n",
       "                                             min_impurity_split=None,\n",
       "                                             min_samples_leaf=1,\n",
       "                                             min_samples_split=2,\n",
       "                                             min_weight_fraction_leaf=0.0,\n",
       "                                             n_estimators=100, n_jobs=None,\n",
       "                                             oob_score=False, random_state=None,\n",
       "                                             verbose=0, warm_start=False),\n",
       "             iid='deprecated', n_jobs=None,\n",
       "             param_grid={'criterion': ('mse', 'mae'),\n",
       "                         'max_features': ('auto', 'sqrt', 'log2'),\n",
       "                         'n_estimators': range(10, 300, 10)},\n",
       "             pre_dispatch='2*n_jobs', refit=True, return_train_score=False,\n",
       "             scoring='neg_mean_absolute_error', verbose=0)"
      ]
     },
     "execution_count": 441,
     "metadata": {},
     "output_type": "execute_result"
    }
   ],
   "source": [
    "gs=GridSearchCV(rf,parameters,scoring='neg_mean_absolute_error',cv=3)\n",
    "gs.fit(x_train,y_train)"
   ]
  },
  {
   "cell_type": "code",
   "execution_count": 442,
   "metadata": {},
   "outputs": [
    {
     "data": {
      "text/plain": [
       "-151.4412369088569"
      ]
     },
     "execution_count": 442,
     "metadata": {},
     "output_type": "execute_result"
    }
   ],
   "source": [
    "gs.best_score_"
   ]
  },
  {
   "cell_type": "code",
   "execution_count": 443,
   "metadata": {},
   "outputs": [
    {
     "data": {
      "text/plain": [
       "RandomForestRegressor(bootstrap=True, ccp_alpha=0.0, criterion='mse',\n",
       "                      max_depth=None, max_features='log2', max_leaf_nodes=None,\n",
       "                      max_samples=None, min_impurity_decrease=0.0,\n",
       "                      min_impurity_split=None, min_samples_leaf=1,\n",
       "                      min_samples_split=2, min_weight_fraction_leaf=0.0,\n",
       "                      n_estimators=60, n_jobs=None, oob_score=False,\n",
       "                      random_state=None, verbose=0, warm_start=False)"
      ]
     },
     "execution_count": 443,
     "metadata": {},
     "output_type": "execute_result"
    }
   ],
   "source": [
    "gs.best_estimator_"
   ]
  },
  {
   "cell_type": "code",
   "execution_count": 475,
   "metadata": {},
   "outputs": [
    {
     "data": {
      "text/plain": [
       "array([ 659.02116667,  655.98833333,  447.2335    , 1681.95      ,\n",
       "        483.33333333,  871.31866667,  994.75      , 1737.67333333,\n",
       "        202.5       ,  656.349     ,  834.23333333,  739.94666667,\n",
       "        124.25      ,  669.9985    ,  418.05516667,  902.35983333,\n",
       "       1200.53283333,  631.13783333, 1338.78883333, 1609.91666667,\n",
       "        333.71583333, 1870.75      ,  393.24166667,  267.992     ,\n",
       "        671.62766667,  367.98883333,  218.37783333,  760.00566667,\n",
       "       1192.1545    ,  292.65583333,  421.31933333, 1577.13716667,\n",
       "       1102.34966667,  391.54266667, 1721.25      ,  660.44266667,\n",
       "        838.73333333, 1677.7       ,  448.08183333,  965.2       ,\n",
       "       1267.1655    ,  627.43983333,  160.76      ,  492.84183333,\n",
       "       2816.6       , 2484.54616667, 2485.55933333,  486.17433333,\n",
       "        576.4735    ,  867.55616667,  153.26383333,  455.        ,\n",
       "        342.87566667,  492.84183333,  458.94283333, 2380.93333333,\n",
       "       2100.        ,  416.49883333,  775.6565    , 2289.2575    ,\n",
       "       1707.7       , 1475.76133333, 2181.73183333,  211.34766667,\n",
       "       2427.33316667,  881.09483333,  648.83333333,  446.778     ,\n",
       "       2491.63333333, 1637.33333333,  522.8415    , 1477.09983333,\n",
       "        333.27066667,  456.40916667,  336.43183333, 1819.16666667,\n",
       "        979.6855    ,  804.40616667,  216.68333333,  432.83116667,\n",
       "       2153.37033333,  159.929     ,  949.14566667,  492.84183333,\n",
       "       1210.69866667,  461.927     ,  477.60633333,  404.82866667,\n",
       "        940.50433333,  531.81266667,  912.11166667,  600.37983333,\n",
       "        318.435     , 1002.75      , 3735.46666667,  841.74083333,\n",
       "       1568.2665    ,  454.4625    , 1256.38383333, 3012.59983333,\n",
       "        365.10316667,  395.61466667,  405.35333333,  693.38483333,\n",
       "       1881.789     ,  459.554     ,  374.99      , 1183.16666667,\n",
       "       2328.45      , 1111.86666667,  367.59916667,  614.59383333,\n",
       "        492.84183333, 1592.833     , 1880.        ,  858.61666667,\n",
       "        594.53033333, 1683.63766667,  696.278     , 2348.66666667,\n",
       "        292.02533333,  529.76483333,  265.17316667, 1804.75      ,\n",
       "       1135.86666667,  993.392     ,  236.3325    ,  482.34716667,\n",
       "        327.56083333,  481.18083333,  993.9       , 1613.66666667,\n",
       "       1577.13716667,  281.57833333,  438.916     , 2487.96283333,\n",
       "        328.158     , 1821.05      ,  371.86016667,  124.25      ,\n",
       "        389.0265    , 1060.6805    ,  497.83266667,  125.60016667,\n",
       "       2321.25      , 2924.08333333,  446.778     ,  574.35583333,\n",
       "        224.75333333, 1888.21666667, 1197.33316667,  190.08316667,\n",
       "        426.065     , 2498.73316667,  821.48616667,  712.21483333,\n",
       "       1173.82033333,  615.13633333, 1234.71733333,  538.22766667,\n",
       "        641.97483333, 2502.226     , 2407.04833333,  650.785     ,\n",
       "       1297.38333333,  154.38      , 1655.533     ,  172.18333333,\n",
       "        507.55566667, 1879.628     , 1799.05      , 1966.55666667,\n",
       "        498.        ,  721.53166667, 1796.13333333, 1786.616     ,\n",
       "        318.29483333,  409.78133333,  383.063     ,  579.9455    ,\n",
       "        557.9435    ,  819.7325    ,  979.6855    , 1291.38083333,\n",
       "        695.36033333, 1142.96633333, 1687.54933333,  355.119     ,\n",
       "        223.137     ,  633.41633333,  503.35      , 1192.1545    ,\n",
       "        317.49766667, 1681.95      , 1583.76666667,  946.08133333,\n",
       "       3053.8       ,  745.277     , 1031.80116667, 1430.50733333,\n",
       "        739.94666667,  437.72316667,  742.33883333,  128.01233333,\n",
       "        136.929     , 1629.9325    , 2582.18316667,  655.98833333,\n",
       "       1297.38333333,  492.12216667,  358.01183333,  409.78133333,\n",
       "        357.53233333, 2817.68316667, 2595.41666667, 1466.7165    ,\n",
       "        335.31233333,  976.89316667, 2936.4795    , 3768.38333333,\n",
       "       1100.        ,  721.25983333,  620.1715    ,  608.44716667,\n",
       "        769.5       , 1651.38733333,  635.43333333, 1855.68333333,\n",
       "        535.38283333, 1483.71633333,  155.        , 1065.12033333,\n",
       "       1927.32966667, 1771.93333333,  342.87566667, 1612.05      ,\n",
       "        612.67483333,  561.55533333,  421.21      , 1297.1795    ,\n",
       "        472.66316667])"
      ]
     },
     "execution_count": 475,
     "metadata": {},
     "output_type": "execute_result"
    }
   ],
   "source": [
    "# test ensembles\n",
    "tpred_lm=lm.predict(x_test)\n",
    "tpred_lml=lm_l.predict(x_test)\n",
    "tpred_rf=gs.best_estimator_.predict(x_test)"
   ]
  },
  {
   "cell_type": "code",
   "execution_count": 445,
   "metadata": {},
   "outputs": [
    {
     "data": {
      "text/plain": [
       "275.35076180906026"
      ]
     },
     "execution_count": 445,
     "metadata": {},
     "output_type": "execute_result"
    }
   ],
   "source": [
    "mean_absolute_error(y_test,tpred_lm)"
   ]
  },
  {
   "cell_type": "code",
   "execution_count": 446,
   "metadata": {},
   "outputs": [
    {
     "data": {
      "text/plain": [
       "274.19114611830935"
      ]
     },
     "execution_count": 446,
     "metadata": {},
     "output_type": "execute_result"
    }
   ],
   "source": [
    "mean_absolute_error(y_test,tpred_lml)"
   ]
  },
  {
   "cell_type": "code",
   "execution_count": 447,
   "metadata": {},
   "outputs": [
    {
     "data": {
      "text/plain": [
       "118.5506867219917"
      ]
     },
     "execution_count": 447,
     "metadata": {},
     "output_type": "execute_result"
    }
   ],
   "source": [
    "mean_absolute_error(y_test,tpred_rf)"
   ]
  },
  {
   "cell_type": "markdown",
   "metadata": {},
   "source": [
    "### Test data only for the competition"
   ]
  },
  {
   "cell_type": "code",
   "execution_count": 458,
   "metadata": {},
   "outputs": [
    {
     "data": {
      "text/html": [
       "<div>\n",
       "<style scoped>\n",
       "    .dataframe tbody tr th:only-of-type {\n",
       "        vertical-align: middle;\n",
       "    }\n",
       "\n",
       "    .dataframe tbody tr th {\n",
       "        vertical-align: top;\n",
       "    }\n",
       "\n",
       "    .dataframe thead th {\n",
       "        text-align: right;\n",
       "    }\n",
       "</style>\n",
       "<table border=\"1\" class=\"dataframe\">\n",
       "  <thead>\n",
       "    <tr style=\"text-align: right;\">\n",
       "      <th></th>\n",
       "      <th>auctionid</th>\n",
       "      <th>bid</th>\n",
       "      <th>bidtime</th>\n",
       "      <th>bidder</th>\n",
       "      <th>bidderrate</th>\n",
       "      <th>openbid</th>\n",
       "    </tr>\n",
       "  </thead>\n",
       "  <tbody>\n",
       "    <tr>\n",
       "      <th>0</th>\n",
       "      <td>1640550476</td>\n",
       "      <td>175.00</td>\n",
       "      <td>4.329410</td>\n",
       "      <td>simonho2001sg</td>\n",
       "      <td>8</td>\n",
       "      <td>1.0</td>\n",
       "    </tr>\n",
       "    <tr>\n",
       "      <th>1</th>\n",
       "      <td>1644343468</td>\n",
       "      <td>111.11</td>\n",
       "      <td>0.587164</td>\n",
       "      <td>tab999@msn.com</td>\n",
       "      <td>84</td>\n",
       "      <td>1.0</td>\n",
       "    </tr>\n",
       "    <tr>\n",
       "      <th>2</th>\n",
       "      <td>1639979107</td>\n",
       "      <td>103.50</td>\n",
       "      <td>6.999572</td>\n",
       "      <td>inyerdrms</td>\n",
       "      <td>2</td>\n",
       "      <td>5.0</td>\n",
       "    </tr>\n",
       "    <tr>\n",
       "      <th>3</th>\n",
       "      <td>1649718196</td>\n",
       "      <td>620.00</td>\n",
       "      <td>2.750775</td>\n",
       "      <td>kjr2306</td>\n",
       "      <td>24</td>\n",
       "      <td>1.0</td>\n",
       "    </tr>\n",
       "    <tr>\n",
       "      <th>4</th>\n",
       "      <td>1644077820</td>\n",
       "      <td>60.00</td>\n",
       "      <td>1.393611</td>\n",
       "      <td>chevysred</td>\n",
       "      <td>-1</td>\n",
       "      <td>1.0</td>\n",
       "    </tr>\n",
       "  </tbody>\n",
       "</table>\n",
       "</div>"
      ],
      "text/plain": [
       "    auctionid     bid   bidtime          bidder  bidderrate  openbid\n",
       "0  1640550476  175.00  4.329410   simonho2001sg           8      1.0\n",
       "1  1644343468  111.11  0.587164  tab999@msn.com          84      1.0\n",
       "2  1639979107  103.50  6.999572       inyerdrms           2      5.0\n",
       "3  1649718196  620.00  2.750775         kjr2306          24      1.0\n",
       "4  1644077820   60.00  1.393611       chevysred          -1      1.0"
      ]
     },
     "execution_count": 458,
     "metadata": {},
     "output_type": "execute_result"
    }
   ],
   "source": [
    "test_data = pd.read_csv('https://raw.githubusercontent.com/dphi-official/Datasets/master/auction_data/test_set_label.csv')\n",
    "test_data.head()"
   ]
  },
  {
   "cell_type": "code",
   "execution_count": 459,
   "metadata": {},
   "outputs": [
    {
     "data": {
      "text/plain": [
       "(337, 6)"
      ]
     },
     "execution_count": 459,
     "metadata": {},
     "output_type": "execute_result"
    }
   ],
   "source": [
    "test_data.shape"
   ]
  },
  {
   "cell_type": "code",
   "execution_count": 460,
   "metadata": {},
   "outputs": [
    {
     "data": {
      "text/plain": [
       "auctionid     False\n",
       "bid           False\n",
       "bidtime       False\n",
       "bidder        False\n",
       "bidderrate    False\n",
       "openbid       False\n",
       "dtype: bool"
      ]
     },
     "execution_count": 460,
     "metadata": {},
     "output_type": "execute_result"
    }
   ],
   "source": [
    "test_data.isnull().any()"
   ]
  },
  {
   "cell_type": "code",
   "execution_count": 461,
   "metadata": {},
   "outputs": [
    {
     "data": {
      "text/plain": [
       "auctionid       int64\n",
       "bid           float64\n",
       "bidtime       float64\n",
       "bidder         object\n",
       "bidderrate      int64\n",
       "openbid       float64\n",
       "dtype: object"
      ]
     },
     "execution_count": 461,
     "metadata": {},
     "output_type": "execute_result"
    }
   ],
   "source": [
    "test_data.dtypes"
   ]
  },
  {
   "cell_type": "code",
   "execution_count": 462,
   "metadata": {},
   "outputs": [
    {
     "data": {
      "text/html": [
       "<div>\n",
       "<style scoped>\n",
       "    .dataframe tbody tr th:only-of-type {\n",
       "        vertical-align: middle;\n",
       "    }\n",
       "\n",
       "    .dataframe tbody tr th {\n",
       "        vertical-align: top;\n",
       "    }\n",
       "\n",
       "    .dataframe thead th {\n",
       "        text-align: right;\n",
       "    }\n",
       "</style>\n",
       "<table border=\"1\" class=\"dataframe\">\n",
       "  <thead>\n",
       "    <tr style=\"text-align: right;\">\n",
       "      <th></th>\n",
       "      <th>auctionid</th>\n",
       "      <th>bid</th>\n",
       "      <th>bidtime</th>\n",
       "      <th>bidder</th>\n",
       "      <th>bidderrate</th>\n",
       "      <th>openbid</th>\n",
       "    </tr>\n",
       "  </thead>\n",
       "  <tbody>\n",
       "    <tr>\n",
       "      <th>0</th>\n",
       "      <td>1640550476</td>\n",
       "      <td>175.00</td>\n",
       "      <td>4.329410</td>\n",
       "      <td>simonho2001sg</td>\n",
       "      <td>8</td>\n",
       "      <td>1.0</td>\n",
       "    </tr>\n",
       "    <tr>\n",
       "      <th>1</th>\n",
       "      <td>1644343468</td>\n",
       "      <td>111.11</td>\n",
       "      <td>0.587164</td>\n",
       "      <td>tab999</td>\n",
       "      <td>84</td>\n",
       "      <td>1.0</td>\n",
       "    </tr>\n",
       "    <tr>\n",
       "      <th>2</th>\n",
       "      <td>1639979107</td>\n",
       "      <td>103.50</td>\n",
       "      <td>6.999572</td>\n",
       "      <td>inyerdrms</td>\n",
       "      <td>2</td>\n",
       "      <td>5.0</td>\n",
       "    </tr>\n",
       "    <tr>\n",
       "      <th>3</th>\n",
       "      <td>1649718196</td>\n",
       "      <td>620.00</td>\n",
       "      <td>2.750775</td>\n",
       "      <td>kjr2306</td>\n",
       "      <td>24</td>\n",
       "      <td>1.0</td>\n",
       "    </tr>\n",
       "    <tr>\n",
       "      <th>4</th>\n",
       "      <td>1644077820</td>\n",
       "      <td>60.00</td>\n",
       "      <td>1.393611</td>\n",
       "      <td>chevysred</td>\n",
       "      <td>-1</td>\n",
       "      <td>1.0</td>\n",
       "    </tr>\n",
       "  </tbody>\n",
       "</table>\n",
       "</div>"
      ],
      "text/plain": [
       "    auctionid     bid   bidtime         bidder  bidderrate  openbid\n",
       "0  1640550476  175.00  4.329410  simonho2001sg           8      1.0\n",
       "1  1644343468  111.11  0.587164         tab999          84      1.0\n",
       "2  1639979107  103.50  6.999572      inyerdrms           2      5.0\n",
       "3  1649718196  620.00  2.750775        kjr2306          24      1.0\n",
       "4  1644077820   60.00  1.393611      chevysred          -1      1.0"
      ]
     },
     "execution_count": 462,
     "metadata": {},
     "output_type": "execute_result"
    }
   ],
   "source": [
    "# Removing email ids from bidder's name\n",
    "test_data['bidder']=test_data['bidder'].apply(lambda x:x.split('@')[0] if '@' in x else x)\n",
    "test_data.head()"
   ]
  },
  {
   "cell_type": "code",
   "execution_count": 463,
   "metadata": {},
   "outputs": [
    {
     "data": {
      "text/html": [
       "<div>\n",
       "<style scoped>\n",
       "    .dataframe tbody tr th:only-of-type {\n",
       "        vertical-align: middle;\n",
       "    }\n",
       "\n",
       "    .dataframe tbody tr th {\n",
       "        vertical-align: top;\n",
       "    }\n",
       "\n",
       "    .dataframe thead th {\n",
       "        text-align: right;\n",
       "    }\n",
       "</style>\n",
       "<table border=\"1\" class=\"dataframe\">\n",
       "  <thead>\n",
       "    <tr style=\"text-align: right;\">\n",
       "      <th></th>\n",
       "      <th>auctionid</th>\n",
       "      <th>bid</th>\n",
       "      <th>bidtime</th>\n",
       "      <th>bidder</th>\n",
       "      <th>bidderrate</th>\n",
       "      <th>openbid</th>\n",
       "      <th>user_len</th>\n",
       "    </tr>\n",
       "  </thead>\n",
       "  <tbody>\n",
       "    <tr>\n",
       "      <th>0</th>\n",
       "      <td>1640550476</td>\n",
       "      <td>175.00</td>\n",
       "      <td>4.329410</td>\n",
       "      <td>simonho2001sg</td>\n",
       "      <td>8</td>\n",
       "      <td>1.0</td>\n",
       "      <td>13</td>\n",
       "    </tr>\n",
       "    <tr>\n",
       "      <th>1</th>\n",
       "      <td>1644343468</td>\n",
       "      <td>111.11</td>\n",
       "      <td>0.587164</td>\n",
       "      <td>tab999</td>\n",
       "      <td>84</td>\n",
       "      <td>1.0</td>\n",
       "      <td>6</td>\n",
       "    </tr>\n",
       "    <tr>\n",
       "      <th>2</th>\n",
       "      <td>1639979107</td>\n",
       "      <td>103.50</td>\n",
       "      <td>6.999572</td>\n",
       "      <td>inyerdrms</td>\n",
       "      <td>2</td>\n",
       "      <td>5.0</td>\n",
       "      <td>9</td>\n",
       "    </tr>\n",
       "    <tr>\n",
       "      <th>3</th>\n",
       "      <td>1649718196</td>\n",
       "      <td>620.00</td>\n",
       "      <td>2.750775</td>\n",
       "      <td>kjr2306</td>\n",
       "      <td>24</td>\n",
       "      <td>1.0</td>\n",
       "      <td>7</td>\n",
       "    </tr>\n",
       "    <tr>\n",
       "      <th>4</th>\n",
       "      <td>1644077820</td>\n",
       "      <td>60.00</td>\n",
       "      <td>1.393611</td>\n",
       "      <td>chevysred</td>\n",
       "      <td>-1</td>\n",
       "      <td>1.0</td>\n",
       "      <td>9</td>\n",
       "    </tr>\n",
       "  </tbody>\n",
       "</table>\n",
       "</div>"
      ],
      "text/plain": [
       "    auctionid     bid   bidtime         bidder  bidderrate  openbid  user_len\n",
       "0  1640550476  175.00  4.329410  simonho2001sg           8      1.0        13\n",
       "1  1644343468  111.11  0.587164         tab999          84      1.0         6\n",
       "2  1639979107  103.50  6.999572      inyerdrms           2      5.0         9\n",
       "3  1649718196  620.00  2.750775        kjr2306          24      1.0         7\n",
       "4  1644077820   60.00  1.393611      chevysred          -1      1.0         9"
      ]
     },
     "execution_count": 463,
     "metadata": {},
     "output_type": "execute_result"
    }
   ],
   "source": [
    "test_data['user_len']=test_data['bidder'].apply(lambda x:len(x))\n",
    "test_data.head()"
   ]
  },
  {
   "cell_type": "code",
   "execution_count": 464,
   "metadata": {},
   "outputs": [],
   "source": [
    "test_x=test_data[['auctionid', 'bid', 'bidtime', 'bidderrate', 'openbid','user_len']]"
   ]
  },
  {
   "cell_type": "code",
   "execution_count": 465,
   "metadata": {},
   "outputs": [],
   "source": [
    "pred_lm=lm.predict(test_x)\n",
    "pred_lml=lm_l.predict(test_x)\n",
    "pred_rf=gs.best_estimator_.predict(test_x)"
   ]
  },
  {
   "cell_type": "code",
   "execution_count": 466,
   "metadata": {},
   "outputs": [],
   "source": [
    "pred_rf=pd.DataFrame(pred_rf)"
   ]
  },
  {
   "cell_type": "code",
   "execution_count": 467,
   "metadata": {},
   "outputs": [
    {
     "data": {
      "text/plain": [
       "(337, 1)"
      ]
     },
     "execution_count": 467,
     "metadata": {},
     "output_type": "execute_result"
    }
   ],
   "source": [
    "pred_rf.shape"
   ]
  },
  {
   "cell_type": "code",
   "execution_count": 468,
   "metadata": {},
   "outputs": [],
   "source": [
    "pred_rf.to_csv('pred_rf.csv')"
   ]
  },
  {
   "cell_type": "code",
   "execution_count": null,
   "metadata": {},
   "outputs": [],
   "source": []
  }
 ],
 "metadata": {
  "kernelspec": {
   "display_name": "Python 3",
   "language": "python",
   "name": "python3"
  },
  "language_info": {
   "codemirror_mode": {
    "name": "ipython",
    "version": 3
   },
   "file_extension": ".py",
   "mimetype": "text/x-python",
   "name": "python",
   "nbconvert_exporter": "python",
   "pygments_lexer": "ipython3",
   "version": "3.7.6"
  }
 },
 "nbformat": 4,
 "nbformat_minor": 4
}
